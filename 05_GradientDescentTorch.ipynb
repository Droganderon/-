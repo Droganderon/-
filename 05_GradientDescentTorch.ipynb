{
  "nbformat": 4,
  "nbformat_minor": 0,
  "metadata": {
    "colab": {
      "provenance": [],
      "authorship_tag": "ABX9TyMndQ2pXUqUEvNgZLzvONdr",
      "include_colab_link": true
    },
    "kernelspec": {
      "name": "python3",
      "display_name": "Python 3"
    },
    "language_info": {
      "name": "python"
    }
  },
  "cells": [
    {
      "cell_type": "markdown",
      "metadata": {
        "id": "view-in-github",
        "colab_type": "text"
      },
      "source": [
        "<a href=\"https://colab.research.google.com/github/Droganderon/Colab/blob/main/05_GradientDescentTorch.ipynb\" target=\"_parent\"><img src=\"https://colab.research.google.com/assets/colab-badge.svg\" alt=\"Open In Colab\"/></a>"
      ]
    },
    {
      "cell_type": "markdown",
      "source": [
        "# Import libraries"
      ],
      "metadata": {
        "id": "H8w6Hi65cm3X"
      }
    },
    {
      "cell_type": "code",
      "execution_count": 63,
      "metadata": {
        "id": "nYvq3GPzTK3I"
      },
      "outputs": [],
      "source": [
        "#import numpy as np\n",
        "import torch\n",
        "import torch.nn as nn"
      ]
    },
    {
      "cell_type": "markdown",
      "source": [
        "# Initialization"
      ],
      "metadata": {
        "id": "m1yjK3K6cyro"
      }
    },
    {
      "cell_type": "code",
      "source": [
        "x = torch.tensor([[1], [2], [3], [4]], dtype=torch.float32)\n",
        "y = torch.tensor([[2], [4], [6], [8]], dtype=torch.float32)\n",
        "\n",
        "n_smples, n_features = x.shape\n",
        "\n",
        "lr = 0.01\n",
        "n = 1000"
      ],
      "metadata": {
        "id": "GRjjPqdGczcl"
      },
      "execution_count": 64,
      "outputs": []
    },
    {
      "cell_type": "code",
      "source": [
        "x.shape"
      ],
      "metadata": {
        "colab": {
          "base_uri": "https://localhost:8080/"
        },
        "id": "e_EQRKB7mCYl",
        "outputId": "a2555d6a-b2da-4319-c783-f6121186a908"
      },
      "execution_count": 65,
      "outputs": [
        {
          "output_type": "execute_result",
          "data": {
            "text/plain": [
              "torch.Size([4, 1])"
            ]
          },
          "metadata": {},
          "execution_count": 65
        }
      ]
    },
    {
      "cell_type": "markdown",
      "source": [
        "#Model"
      ],
      "metadata": {
        "id": "4Z5YHjg2eTgq"
      }
    },
    {
      "cell_type": "code",
      "source": [
        "model = nn.Linear(n_features, 1)"
      ],
      "metadata": {
        "id": "pBdTWQ4leT1Z"
      },
      "execution_count": 66,
      "outputs": []
    },
    {
      "cell_type": "markdown",
      "source": [
        "# Loss\n",
        "Mean square error (MSE)"
      ],
      "metadata": {
        "id": "tqXUv54yezkJ"
      }
    },
    {
      "cell_type": "code",
      "source": [
        "loss = nn.MSELoss()"
      ],
      "metadata": {
        "id": "MieAR6xnez6w"
      },
      "execution_count": 67,
      "outputs": []
    },
    {
      "cell_type": "markdown",
      "source": [
        "# Optimiaer"
      ],
      "metadata": {
        "id": "u1YgYxyXfrBK"
      }
    },
    {
      "cell_type": "code",
      "source": [
        "optimizer = torch.optim.SGD(model.parameters(), lr=lr)"
      ],
      "metadata": {
        "id": "ExctLr1FfrTI"
      },
      "execution_count": 68,
      "outputs": []
    },
    {
      "cell_type": "markdown",
      "source": [
        "#Training"
      ],
      "metadata": {
        "id": "E_rZttqTgrXV"
      }
    },
    {
      "cell_type": "code",
      "source": [
        "for epoch in range(n):\n",
        "  #prediction\n",
        "  y_h = model(x)\n",
        "  #loss\n",
        "  L = loss(y,y_h)\n",
        "  #gradient\n",
        "  L.backward()\n",
        "  #upgdate\n",
        "  optimizer.step()\n",
        "  #zero_gradients\n",
        "  optimizer.zero_grad()\n",
        "\n",
        "  if epoch % 100 == 0:\n",
        "    [w,b] = model.parameters()\n",
        "    print(f'epoch {epoch + 1}: w = {w[0][0]:.3f}, loss = {L:.5f}')\n"
      ],
      "metadata": {
        "colab": {
          "base_uri": "https://localhost:8080/"
        },
        "id": "4jzPhf4jgmcn",
        "outputId": "3b22589a-92dd-4568-ba32-1ac5e691147b"
      },
      "execution_count": 72,
      "outputs": [
        {
          "output_type": "stream",
          "name": "stdout",
          "text": [
            "epoch 1: w = -0.135, loss = 36.86783\n",
            "epoch 101: w = 1.640, loss = 0.18800\n",
            "epoch 201: w = 1.733, loss = 0.10321\n",
            "epoch 301: w = 1.802, loss = 0.05666\n",
            "epoch 401: w = 1.854, loss = 0.03111\n",
            "epoch 501: w = 1.892, loss = 0.01708\n",
            "epoch 601: w = 1.920, loss = 0.00938\n",
            "epoch 701: w = 1.940, loss = 0.00515\n",
            "epoch 801: w = 1.956, loss = 0.00283\n",
            "epoch 901: w = 1.967, loss = 0.00155\n"
          ]
        }
      ]
    },
    {
      "cell_type": "code",
      "source": [
        "model(torch.tensor([5.0]))"
      ],
      "metadata": {
        "colab": {
          "base_uri": "https://localhost:8080/"
        },
        "id": "r6YQqQ2lgmFo",
        "outputId": "9ce09023-6c36-4eae-fcfb-9448e1643a46"
      },
      "execution_count": 73,
      "outputs": [
        {
          "output_type": "execute_result",
          "data": {
            "text/plain": [
              "tensor([9.9500], grad_fn=<ViewBackward0>)"
            ]
          },
          "metadata": {},
          "execution_count": 73
        }
      ]
    }
  ]
}