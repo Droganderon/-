{
  "nbformat": 4,
  "nbformat_minor": 0,
  "metadata": {
    "colab": {
      "provenance": [],
      "authorship_tag": "ABX9TyP2j74IxJCYXs/4z96WG5jy",
      "include_colab_link": true
    },
    "kernelspec": {
      "name": "python3",
      "display_name": "Python 3"
    },
    "language_info": {
      "name": "python"
    }
  },
  "cells": [
    {
      "cell_type": "markdown",
      "metadata": {
        "id": "view-in-github",
        "colab_type": "text"
      },
      "source": [
        "<a href=\"https://colab.research.google.com/github/Droganderon/Colab/blob/main/05_GradientDescentTorch.ipynb\" target=\"_parent\"><img src=\"https://colab.research.google.com/assets/colab-badge.svg\" alt=\"Open In Colab\"/></a>"
      ]
    },
    {
      "cell_type": "markdown",
      "source": [
        "# Import libraries"
      ],
      "metadata": {
        "id": "H8w6Hi65cm3X"
      }
    },
    {
      "cell_type": "code",
      "execution_count": 80,
      "metadata": {
        "id": "nYvq3GPzTK3I"
      },
      "outputs": [],
      "source": [
        "#import numpy as np\n",
        "import torch\n",
        "import torch.nn as nn"
      ]
    },
    {
      "cell_type": "markdown",
      "source": [
        "# Initialization"
      ],
      "metadata": {
        "id": "m1yjK3K6cyro"
      }
    },
    {
      "cell_type": "code",
      "source": [
        "x = torch.tensor([[1], [2], [3], [4]], dtype=torch.float32)\n",
        "y = torch.tensor([[2], [4], [6], [8]], dtype=torch.float32)\n",
        "\n",
        "n_smples, n_features = x.shape\n",
        "\n",
        "lr = 0.01\n",
        "n = 1000"
      ],
      "metadata": {
        "id": "GRjjPqdGczcl"
      },
      "execution_count": 81,
      "outputs": []
    },
    {
      "cell_type": "code",
      "source": [
        "x.shape"
      ],
      "metadata": {
        "colab": {
          "base_uri": "https://localhost:8080/"
        },
        "id": "e_EQRKB7mCYl",
        "outputId": "697d62f3-1fa6-40e0-94be-52f806681ba6"
      },
      "execution_count": 82,
      "outputs": [
        {
          "output_type": "execute_result",
          "data": {
            "text/plain": [
              "torch.Size([4, 1])"
            ]
          },
          "metadata": {},
          "execution_count": 82
        }
      ]
    },
    {
      "cell_type": "markdown",
      "source": [
        "#Model"
      ],
      "metadata": {
        "id": "4Z5YHjg2eTgq"
      }
    },
    {
      "cell_type": "code",
      "source": [
        "#model = nn.Linear(n_featuresm 1)"
      ],
      "metadata": {
        "id": "1zoLjyIExLeS"
      },
      "execution_count": 83,
      "outputs": []
    },
    {
      "cell_type": "code",
      "source": [
        "class LinearRegression(nn.Module):\n",
        "\n",
        "  def __init__(self, input_dim, output_dim):\n",
        "    super(LinearRegression, self).__init__()\n",
        "    #difine layers\n",
        "    self.lin = nn.Linear(input_dim, output_dim)\n",
        "\n",
        "  def forward(self,x):\n",
        "    return self.lin(x)"
      ],
      "metadata": {
        "id": "pBdTWQ4leT1Z"
      },
      "execution_count": 84,
      "outputs": []
    },
    {
      "cell_type": "code",
      "source": [
        "model = LinearRegression(n_features, 1)"
      ],
      "metadata": {
        "id": "AZfaUyyAxSA_"
      },
      "execution_count": 85,
      "outputs": []
    },
    {
      "cell_type": "markdown",
      "source": [
        "# Loss\n",
        "Mean square error (MSE)"
      ],
      "metadata": {
        "id": "tqXUv54yezkJ"
      }
    },
    {
      "cell_type": "code",
      "source": [
        "loss = nn.MSELoss()"
      ],
      "metadata": {
        "id": "MieAR6xnez6w"
      },
      "execution_count": 86,
      "outputs": []
    },
    {
      "cell_type": "markdown",
      "source": [
        "# Optimiaer"
      ],
      "metadata": {
        "id": "u1YgYxyXfrBK"
      }
    },
    {
      "cell_type": "code",
      "source": [
        "optimizer = torch.optim.SGD(model.parameters(), lr=lr)"
      ],
      "metadata": {
        "id": "ExctLr1FfrTI"
      },
      "execution_count": 87,
      "outputs": []
    },
    {
      "cell_type": "markdown",
      "source": [
        "#Training"
      ],
      "metadata": {
        "id": "E_rZttqTgrXV"
      }
    },
    {
      "cell_type": "code",
      "source": [
        "for epoch in range(n):\n",
        "  #prediction\n",
        "  y_h = model(x)\n",
        "  #loss\n",
        "  L = loss(y,y_h)\n",
        "  #gradient\n",
        "  L.backward()\n",
        "  #upgdate\n",
        "  optimizer.step()\n",
        "  #zero_gradients\n",
        "  optimizer.zero_grad()\n",
        "\n",
        "  if epoch % 100 == 0:\n",
        "    [w,b] = model.parameters()\n",
        "    print(f'epoch {epoch + 1}: w = {w[0][0]:.3f}, loss = {L:.5f}')\n"
      ],
      "metadata": {
        "colab": {
          "base_uri": "https://localhost:8080/"
        },
        "id": "4jzPhf4jgmcn",
        "outputId": "c23083c1-4ba0-4058-b30a-1e97499dcfa8"
      },
      "execution_count": 88,
      "outputs": [
        {
          "output_type": "stream",
          "name": "stdout",
          "text": [
            "epoch 1: w = 0.303, loss = 40.30858\n",
            "epoch 101: w = 2.027, loss = 0.00102\n",
            "epoch 201: w = 2.020, loss = 0.00056\n",
            "epoch 301: w = 2.015, loss = 0.00031\n",
            "epoch 401: w = 2.011, loss = 0.00017\n",
            "epoch 501: w = 2.008, loss = 0.00009\n",
            "epoch 601: w = 2.006, loss = 0.00005\n",
            "epoch 701: w = 2.004, loss = 0.00003\n",
            "epoch 801: w = 2.003, loss = 0.00002\n",
            "epoch 901: w = 2.002, loss = 0.00001\n"
          ]
        }
      ]
    },
    {
      "cell_type": "code",
      "source": [
        "model(torch.tensor([5.0]))"
      ],
      "metadata": {
        "colab": {
          "base_uri": "https://localhost:8080/"
        },
        "id": "r6YQqQ2lgmFo",
        "outputId": "f9623e1b-fdd1-4800-cfca-ffdae88a3314"
      },
      "execution_count": 89,
      "outputs": [
        {
          "output_type": "execute_result",
          "data": {
            "text/plain": [
              "tensor([10.0037], grad_fn=<ViewBackward0>)"
            ]
          },
          "metadata": {},
          "execution_count": 89
        }
      ]
    }
  ]
}