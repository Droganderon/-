{
  "nbformat": 4,
  "nbformat_minor": 0,
  "metadata": {
    "colab": {
      "provenance": [],
      "authorship_tag": "ABX9TyPIKi9zdfphUss6HbyS2fKf",
      "include_colab_link": true
    },
    "kernelspec": {
      "name": "python3",
      "display_name": "Python 3"
    },
    "language_info": {
      "name": "python"
    }
  },
  "cells": [
    {
      "cell_type": "markdown",
      "metadata": {
        "id": "view-in-github",
        "colab_type": "text"
      },
      "source": [
        "<a href=\"https://colab.research.google.com/github/Droganderon/Colab/blob/main/sensor_data.ipynb\" target=\"_parent\"><img src=\"https://colab.research.google.com/assets/colab-badge.svg\" alt=\"Open In Colab\"/></a>"
      ]
    },
    {
      "cell_type": "code",
      "source": [
        "from google.colab import files\n",
        "import numpy as np  \n",
        "uploaded = files.upload()"
      ],
      "metadata": {
        "colab": {
          "base_uri": "https://localhost:8080/",
          "height": 74
        },
        "id": "RjfuBHrfyu_K",
        "outputId": "fbbcd8d4-f5ec-485f-a910-6b87ab225bb4"
      },
      "execution_count": 1,
      "outputs": [
        {
          "output_type": "display_data",
          "data": {
            "text/plain": [
              "<IPython.core.display.HTML object>"
            ],
            "text/html": [
              "\n",
              "     <input type=\"file\" id=\"files-eff5c0ed-b97c-4f0c-8731-01a63b0389aa\" name=\"files[]\" multiple disabled\n",
              "        style=\"border:none\" />\n",
              "     <output id=\"result-eff5c0ed-b97c-4f0c-8731-01a63b0389aa\">\n",
              "      Upload widget is only available when the cell has been executed in the\n",
              "      current browser session. Please rerun this cell to enable.\n",
              "      </output>\n",
              "      <script>// Copyright 2017 Google LLC\n",
              "//\n",
              "// Licensed under the Apache License, Version 2.0 (the \"License\");\n",
              "// you may not use this file except in compliance with the License.\n",
              "// You may obtain a copy of the License at\n",
              "//\n",
              "//      http://www.apache.org/licenses/LICENSE-2.0\n",
              "//\n",
              "// Unless required by applicable law or agreed to in writing, software\n",
              "// distributed under the License is distributed on an \"AS IS\" BASIS,\n",
              "// WITHOUT WARRANTIES OR CONDITIONS OF ANY KIND, either express or implied.\n",
              "// See the License for the specific language governing permissions and\n",
              "// limitations under the License.\n",
              "\n",
              "/**\n",
              " * @fileoverview Helpers for google.colab Python module.\n",
              " */\n",
              "(function(scope) {\n",
              "function span(text, styleAttributes = {}) {\n",
              "  const element = document.createElement('span');\n",
              "  element.textContent = text;\n",
              "  for (const key of Object.keys(styleAttributes)) {\n",
              "    element.style[key] = styleAttributes[key];\n",
              "  }\n",
              "  return element;\n",
              "}\n",
              "\n",
              "// Max number of bytes which will be uploaded at a time.\n",
              "const MAX_PAYLOAD_SIZE = 100 * 1024;\n",
              "\n",
              "function _uploadFiles(inputId, outputId) {\n",
              "  const steps = uploadFilesStep(inputId, outputId);\n",
              "  const outputElement = document.getElementById(outputId);\n",
              "  // Cache steps on the outputElement to make it available for the next call\n",
              "  // to uploadFilesContinue from Python.\n",
              "  outputElement.steps = steps;\n",
              "\n",
              "  return _uploadFilesContinue(outputId);\n",
              "}\n",
              "\n",
              "// This is roughly an async generator (not supported in the browser yet),\n",
              "// where there are multiple asynchronous steps and the Python side is going\n",
              "// to poll for completion of each step.\n",
              "// This uses a Promise to block the python side on completion of each step,\n",
              "// then passes the result of the previous step as the input to the next step.\n",
              "function _uploadFilesContinue(outputId) {\n",
              "  const outputElement = document.getElementById(outputId);\n",
              "  const steps = outputElement.steps;\n",
              "\n",
              "  const next = steps.next(outputElement.lastPromiseValue);\n",
              "  return Promise.resolve(next.value.promise).then((value) => {\n",
              "    // Cache the last promise value to make it available to the next\n",
              "    // step of the generator.\n",
              "    outputElement.lastPromiseValue = value;\n",
              "    return next.value.response;\n",
              "  });\n",
              "}\n",
              "\n",
              "/**\n",
              " * Generator function which is called between each async step of the upload\n",
              " * process.\n",
              " * @param {string} inputId Element ID of the input file picker element.\n",
              " * @param {string} outputId Element ID of the output display.\n",
              " * @return {!Iterable<!Object>} Iterable of next steps.\n",
              " */\n",
              "function* uploadFilesStep(inputId, outputId) {\n",
              "  const inputElement = document.getElementById(inputId);\n",
              "  inputElement.disabled = false;\n",
              "\n",
              "  const outputElement = document.getElementById(outputId);\n",
              "  outputElement.innerHTML = '';\n",
              "\n",
              "  const pickedPromise = new Promise((resolve) => {\n",
              "    inputElement.addEventListener('change', (e) => {\n",
              "      resolve(e.target.files);\n",
              "    });\n",
              "  });\n",
              "\n",
              "  const cancel = document.createElement('button');\n",
              "  inputElement.parentElement.appendChild(cancel);\n",
              "  cancel.textContent = 'Cancel upload';\n",
              "  const cancelPromise = new Promise((resolve) => {\n",
              "    cancel.onclick = () => {\n",
              "      resolve(null);\n",
              "    };\n",
              "  });\n",
              "\n",
              "  // Wait for the user to pick the files.\n",
              "  const files = yield {\n",
              "    promise: Promise.race([pickedPromise, cancelPromise]),\n",
              "    response: {\n",
              "      action: 'starting',\n",
              "    }\n",
              "  };\n",
              "\n",
              "  cancel.remove();\n",
              "\n",
              "  // Disable the input element since further picks are not allowed.\n",
              "  inputElement.disabled = true;\n",
              "\n",
              "  if (!files) {\n",
              "    return {\n",
              "      response: {\n",
              "        action: 'complete',\n",
              "      }\n",
              "    };\n",
              "  }\n",
              "\n",
              "  for (const file of files) {\n",
              "    const li = document.createElement('li');\n",
              "    li.append(span(file.name, {fontWeight: 'bold'}));\n",
              "    li.append(span(\n",
              "        `(${file.type || 'n/a'}) - ${file.size} bytes, ` +\n",
              "        `last modified: ${\n",
              "            file.lastModifiedDate ? file.lastModifiedDate.toLocaleDateString() :\n",
              "                                    'n/a'} - `));\n",
              "    const percent = span('0% done');\n",
              "    li.appendChild(percent);\n",
              "\n",
              "    outputElement.appendChild(li);\n",
              "\n",
              "    const fileDataPromise = new Promise((resolve) => {\n",
              "      const reader = new FileReader();\n",
              "      reader.onload = (e) => {\n",
              "        resolve(e.target.result);\n",
              "      };\n",
              "      reader.readAsArrayBuffer(file);\n",
              "    });\n",
              "    // Wait for the data to be ready.\n",
              "    let fileData = yield {\n",
              "      promise: fileDataPromise,\n",
              "      response: {\n",
              "        action: 'continue',\n",
              "      }\n",
              "    };\n",
              "\n",
              "    // Use a chunked sending to avoid message size limits. See b/62115660.\n",
              "    let position = 0;\n",
              "    do {\n",
              "      const length = Math.min(fileData.byteLength - position, MAX_PAYLOAD_SIZE);\n",
              "      const chunk = new Uint8Array(fileData, position, length);\n",
              "      position += length;\n",
              "\n",
              "      const base64 = btoa(String.fromCharCode.apply(null, chunk));\n",
              "      yield {\n",
              "        response: {\n",
              "          action: 'append',\n",
              "          file: file.name,\n",
              "          data: base64,\n",
              "        },\n",
              "      };\n",
              "\n",
              "      let percentDone = fileData.byteLength === 0 ?\n",
              "          100 :\n",
              "          Math.round((position / fileData.byteLength) * 100);\n",
              "      percent.textContent = `${percentDone}% done`;\n",
              "\n",
              "    } while (position < fileData.byteLength);\n",
              "  }\n",
              "\n",
              "  // All done.\n",
              "  yield {\n",
              "    response: {\n",
              "      action: 'complete',\n",
              "    }\n",
              "  };\n",
              "}\n",
              "\n",
              "scope.google = scope.google || {};\n",
              "scope.google.colab = scope.google.colab || {};\n",
              "scope.google.colab._files = {\n",
              "  _uploadFiles,\n",
              "  _uploadFilesContinue,\n",
              "};\n",
              "})(self);\n",
              "</script> "
            ]
          },
          "metadata": {}
        },
        {
          "output_type": "stream",
          "name": "stdout",
          "text": [
            "Saving данные.txt to данные.txt\n"
          ]
        }
      ]
    },
    {
      "cell_type": "code",
      "source": [
        "from io import StringIO\n",
        "\n",
        "with open(\"данные.txt\", \"r\") as file:\n",
        "    lines = file.readlines()\n",
        "    data = np.array([i.split() for i in lines], dtype=\"object\")\n",
        "data"
      ],
      "metadata": {
        "id": "JN9p6TXIzX8P"
      },
      "execution_count": null,
      "outputs": []
    },
    {
      "cell_type": "code",
      "source": [
        "list_of_lists = []\n",
        "with open(\"данные.txt\") as f:\n",
        "    for line in f:\n",
        "        inner_list = [elt.strip() for elt in line.split(',')]\n",
        "        # in alternative, if you need to use the file content as numbers\n",
        "        # inner_list = [int(elt.strip()) for elt in line.split(',')]\n",
        "        list_of_lists.append(inner_list)"
      ],
      "metadata": {
        "id": "DjJy1tKZ0kne"
      },
      "execution_count": 204,
      "outputs": []
    },
    {
      "cell_type": "code",
      "source": [
        "list_of_lists"
      ],
      "metadata": {
        "id": "5FJ5JD0k0v9_"
      },
      "execution_count": null,
      "outputs": []
    },
    {
      "cell_type": "code",
      "source": [
        "import numpy as np\n",
        "list_of_lists_1 = []\n",
        "data = np.loadtxt(\"данные.txt\", usecols=1, skiprows=0, dtype='str')\n",
        "for each in data:\n",
        "  inner_list = [elt.strip() for elt in each.split(',')]\n",
        "  list_of_lists_1.append(inner_list)\n",
        "list_of_lists_1\n"
      ],
      "metadata": {
        "id": "OdHvnv-6HdOW",
        "outputId": "3c96d3f5-69ad-43b2-d261-270d7fac003c",
        "colab": {
          "base_uri": "https://localhost:8080/"
        }
      },
      "execution_count": 238,
      "outputs": [
        {
          "output_type": "execute_result",
          "data": {
            "text/plain": [
              "[['6'],\n",
              " ['6'],\n",
              " ['5'],\n",
              " ['5'],\n",
              " ['5'],\n",
              " ['6'],\n",
              " ['5'],\n",
              " ['5'],\n",
              " ['5'],\n",
              " ['5'],\n",
              " ['8'],\n",
              " ['14'],\n",
              " ['23'],\n",
              " ['35'],\n",
              " ['49'],\n",
              " ['65'],\n",
              " ['84'],\n",
              " ['133'],\n",
              " ['131'],\n",
              " ['130'],\n",
              " ['5'],\n",
              " ['5'],\n",
              " ['5'],\n",
              " ['4'],\n",
              " ['5'],\n",
              " ['5'],\n",
              " ['5'],\n",
              " ['5'],\n",
              " ['5'],\n",
              " ['4'],\n",
              " ['6'],\n",
              " ['11'],\n",
              " ['19'],\n",
              " ['30'],\n",
              " ['43'],\n",
              " ['59'],\n",
              " ['78'],\n",
              " ['92'],\n",
              " ['130'],\n",
              " ['4'],\n",
              " ['4'],\n",
              " ['4'],\n",
              " ['4'],\n",
              " ['4'],\n",
              " ['4'],\n",
              " ['4'],\n",
              " ['4'],\n",
              " ['6'],\n",
              " ['10'],\n",
              " ['18'],\n",
              " ['30'],\n",
              " ['44'],\n",
              " ['60'],\n",
              " ['80'],\n",
              " ['85'],\n",
              " ['5'],\n",
              " ['4'],\n",
              " ['4'],\n",
              " ['4'],\n",
              " ['5'],\n",
              " ['4'],\n",
              " ['4'],\n",
              " ['6'],\n",
              " ['12'],\n",
              " ['21'],\n",
              " ['33'],\n",
              " ['47'],\n",
              " ['64'],\n",
              " ['86'],\n",
              " ['133'],\n",
              " ['132'],\n",
              " ['6'],\n",
              " ['6'],\n",
              " ['6'],\n",
              " ['6'],\n",
              " ['5'],\n",
              " ['5'],\n",
              " ['5'],\n",
              " ['5'],\n",
              " ['5'],\n",
              " ['6'],\n",
              " ['5'],\n",
              " ['5'],\n",
              " ['6'],\n",
              " ['9'],\n",
              " ['16'],\n",
              " ['25'],\n",
              " ['38'],\n",
              " ['53'],\n",
              " ['69'],\n",
              " ['89'],\n",
              " ['131']]"
            ]
          },
          "metadata": {},
          "execution_count": 238
        }
      ]
    },
    {
      "cell_type": "code",
      "source": [
        "c = list_of_lists_1\n",
        "c[1][0]"
      ],
      "metadata": {
        "id": "r-l9gsP6VQS5",
        "outputId": "15006b51-b393-476c-8b65-8a0b449017d4",
        "colab": {
          "base_uri": "https://localhost:8080/",
          "height": 36
        }
      },
      "execution_count": 209,
      "outputs": [
        {
          "output_type": "execute_result",
          "data": {
            "text/plain": [
              "'6'"
            ],
            "application/vnd.google.colaboratory.intrinsic+json": {
              "type": "string"
            }
          },
          "metadata": {},
          "execution_count": 209
        }
      ]
    },
    {
      "cell_type": "code",
      "source": [
        "type(list_of_lists_1)"
      ],
      "metadata": {
        "id": "URrS_ZCBUoeP",
        "outputId": "bcf47d03-d8fa-4c33-cd59-698f02b1a1d5",
        "colab": {
          "base_uri": "https://localhost:8080/"
        }
      },
      "execution_count": 172,
      "outputs": [
        {
          "output_type": "execute_result",
          "data": {
            "text/plain": [
              "list"
            ]
          },
          "metadata": {},
          "execution_count": 172
        }
      ]
    },
    {
      "cell_type": "code",
      "source": [
        "a = tuple(list_of_lists_1)\n",
        "a"
      ],
      "metadata": {
        "id": "fIiqEBsiNhyd"
      },
      "execution_count": null,
      "outputs": []
    },
    {
      "cell_type": "code",
      "source": [
        "len(a)"
      ],
      "metadata": {
        "id": "fiia1p-fPgrI",
        "outputId": "ac116e6e-be52-4e48-be39-fc53ba774144",
        "colab": {
          "base_uri": "https://localhost:8080/"
        }
      },
      "execution_count": 174,
      "outputs": [
        {
          "output_type": "execute_result",
          "data": {
            "text/plain": [
              "92"
            ]
          },
          "metadata": {},
          "execution_count": 174
        }
      ]
    },
    {
      "cell_type": "code",
      "source": [
        "b = []\n",
        "for j in range(len(c)):\n",
        "  if c[j][0] != c[j-1][0]:\n",
        "    b.append(c[j][0])\n",
        "    print(c[j][0])\n",
        "    "
      ],
      "metadata": {
        "id": "MF_iL8BgKqVF",
        "outputId": "9b6845de-b19b-4b00-d392-6839ade15f89",
        "colab": {
          "base_uri": "https://localhost:8080/"
        }
      },
      "execution_count": 228,
      "outputs": [
        {
          "output_type": "stream",
          "name": "stdout",
          "text": [
            "6\n",
            "5\n",
            "6\n",
            "5\n",
            "8\n",
            "14\n",
            "23\n",
            "35\n",
            "49\n",
            "65\n",
            "84\n",
            "133\n",
            "131\n",
            "130\n",
            "5\n",
            "4\n",
            "5\n",
            "4\n",
            "6\n",
            "11\n",
            "19\n",
            "30\n",
            "43\n",
            "59\n",
            "78\n",
            "92\n",
            "130\n",
            "4\n",
            "6\n",
            "10\n",
            "18\n",
            "30\n",
            "44\n",
            "60\n",
            "80\n",
            "85\n",
            "5\n",
            "4\n",
            "5\n",
            "4\n",
            "6\n",
            "12\n",
            "21\n",
            "33\n",
            "47\n",
            "64\n",
            "86\n",
            "133\n",
            "132\n",
            "6\n",
            "5\n",
            "6\n",
            "5\n",
            "6\n",
            "9\n",
            "16\n",
            "25\n",
            "38\n",
            "53\n",
            "69\n",
            "89\n",
            "131\n"
          ]
        }
      ]
    },
    {
      "cell_type": "code",
      "source": [
        "b"
      ],
      "metadata": {
        "colab": {
          "base_uri": "https://localhost:8080/"
        },
        "id": "psVWipnmEpbe",
        "outputId": "a4e97a6c-090e-4e24-fd70-f7c2b5de648e"
      },
      "execution_count": 229,
      "outputs": [
        {
          "output_type": "execute_result",
          "data": {
            "text/plain": [
              "['6',\n",
              " '5',\n",
              " '6',\n",
              " '5',\n",
              " '8',\n",
              " '14',\n",
              " '23',\n",
              " '35',\n",
              " '49',\n",
              " '65',\n",
              " '84',\n",
              " '133',\n",
              " '131',\n",
              " '130',\n",
              " '5',\n",
              " '4',\n",
              " '5',\n",
              " '4',\n",
              " '6',\n",
              " '11',\n",
              " '19',\n",
              " '30',\n",
              " '43',\n",
              " '59',\n",
              " '78',\n",
              " '92',\n",
              " '130',\n",
              " '4',\n",
              " '6',\n",
              " '10',\n",
              " '18',\n",
              " '30',\n",
              " '44',\n",
              " '60',\n",
              " '80',\n",
              " '85',\n",
              " '5',\n",
              " '4',\n",
              " '5',\n",
              " '4',\n",
              " '6',\n",
              " '12',\n",
              " '21',\n",
              " '33',\n",
              " '47',\n",
              " '64',\n",
              " '86',\n",
              " '133',\n",
              " '132',\n",
              " '6',\n",
              " '5',\n",
              " '6',\n",
              " '5',\n",
              " '6',\n",
              " '9',\n",
              " '16',\n",
              " '25',\n",
              " '38',\n",
              " '53',\n",
              " '69',\n",
              " '89',\n",
              " '131']"
            ]
          },
          "metadata": {},
          "execution_count": 229
        }
      ]
    },
    {
      "cell_type": "code",
      "source": [
        "import numpy as np\n",
        "list_of_lists_2 = []\n",
        "data = np.loadtxt(\"данные.txt\", usecols=0, skiprows=0, dtype='str')\n",
        "for each in data:\n",
        "  inner_list = [elt.strip() for elt in each.split(',')]\n",
        "  list_of_lists_2.append(inner_list)\n",
        "list_of_lists_2\n",
        "d = list_of_lists_2\n",
        "d"
      ],
      "metadata": {
        "id": "-azx2SF9VBy-"
      },
      "execution_count": null,
      "outputs": []
    },
    {
      "cell_type": "code",
      "source": [
        "for l in range(len(d)):\n",
        "  e = []\n",
        "  e.append(d[1:10])\n",
        "  "
      ],
      "metadata": {
        "id": "-9H4L-IedDe2"
      },
      "execution_count": 177,
      "outputs": []
    },
    {
      "cell_type": "code",
      "source": [
        "e"
      ],
      "metadata": {
        "id": "m3oJpcc2l_ej"
      },
      "execution_count": null,
      "outputs": []
    },
    {
      "cell_type": "code",
      "source": [
        "len(d)"
      ],
      "metadata": {
        "colab": {
          "base_uri": "https://localhost:8080/"
        },
        "id": "JhF3fsh7oV7N",
        "outputId": "2013f9db-eb09-40e4-fe51-ee40f245085f"
      },
      "execution_count": 179,
      "outputs": [
        {
          "output_type": "execute_result",
          "data": {
            "text/plain": [
              "92"
            ]
          },
          "metadata": {},
          "execution_count": 179
        }
      ]
    },
    {
      "cell_type": "code",
      "source": [
        "pop = d\n",
        "del pop[20:92]"
      ],
      "metadata": {
        "id": "1PMkK9pynvbn"
      },
      "execution_count": 180,
      "outputs": []
    },
    {
      "cell_type": "code",
      "source": [
        "pop"
      ],
      "metadata": {
        "colab": {
          "base_uri": "https://localhost:8080/"
        },
        "id": "mLX3tMPwoni-",
        "outputId": "ce81d61a-3b3c-4884-90a8-d83923e9f61b"
      },
      "execution_count": 181,
      "outputs": [
        {
          "output_type": "execute_result",
          "data": {
            "text/plain": [
              "[['15:08:59.898'],\n",
              " ['15:08:59.992'],\n",
              " ['15:09:00.085'],\n",
              " ['15:09:00.179'],\n",
              " ['15:09:00.311'],\n",
              " ['15:09:00.407'],\n",
              " ['15:09:00.500'],\n",
              " ['15:09:00.594'],\n",
              " ['15:09:00.722'],\n",
              " ['15:09:00.815'],\n",
              " ['15:09:00.910'],\n",
              " ['15:09:01.004'],\n",
              " ['15:09:01.097'],\n",
              " ['15:09:01.191'],\n",
              " ['15:09:01.332'],\n",
              " ['15:09:01.441'],\n",
              " ['15:09:01.535'],\n",
              " ['15:09:01.629'],\n",
              " ['15:09:01.769'],\n",
              " ['15:09:01.860']]"
            ]
          },
          "metadata": {},
          "execution_count": 181
        }
      ]
    },
    {
      "cell_type": "code",
      "source": [
        "pop[2][0]"
      ],
      "metadata": {
        "colab": {
          "base_uri": "https://localhost:8080/",
          "height": 36
        },
        "id": "G3xHyihF3R5x",
        "outputId": "bc13526a-d632-4332-85a2-4da607bcc598"
      },
      "execution_count": 182,
      "outputs": [
        {
          "output_type": "execute_result",
          "data": {
            "text/plain": [
              "'15:09:00.085'"
            ],
            "application/vnd.google.colaboratory.intrinsic+json": {
              "type": "string"
            }
          },
          "metadata": {},
          "execution_count": 182
        }
      ]
    },
    {
      "cell_type": "code",
      "source": [
        "import datetime\n",
        "loop = []\n",
        "r = pop[0][0]\n",
        "h = pop[1][0]\n",
        "a1 = datetime.datetime.strptime(r,\"%H:%M:%S.%f\")\n",
        "a2 = datetime.datetime.strptime(h,\"%H:%M:%S.%f\")\n",
        "a1"
      ],
      "metadata": {
        "colab": {
          "base_uri": "https://localhost:8080/"
        },
        "id": "dx2HHaMC1cuv",
        "outputId": "c5cc6dd6-af2c-4809-d509-eb31f25237c9"
      },
      "execution_count": 183,
      "outputs": [
        {
          "output_type": "execute_result",
          "data": {
            "text/plain": [
              "datetime.datetime(1900, 1, 1, 15, 8, 59, 898000)"
            ]
          },
          "metadata": {},
          "execution_count": 183
        }
      ]
    },
    {
      "cell_type": "code",
      "source": [
        "d1 = (a2-a1)\n",
        "d1"
      ],
      "metadata": {
        "colab": {
          "base_uri": "https://localhost:8080/"
        },
        "id": "T_RPPEYb6zIs",
        "outputId": "561cd2c4-8917-429a-dcba-a657d0565d14"
      },
      "execution_count": 184,
      "outputs": [
        {
          "output_type": "execute_result",
          "data": {
            "text/plain": [
              "datetime.timedelta(microseconds=94000)"
            ]
          },
          "metadata": {},
          "execution_count": 184
        }
      ]
    },
    {
      "cell_type": "code",
      "source": [
        "time = d1.total_seconds()\n",
        "time"
      ],
      "metadata": {
        "colab": {
          "base_uri": "https://localhost:8080/"
        },
        "id": "vj1O3aJz6-YI",
        "outputId": "1b488de6-768c-4625-d283-72fdb0af8c6a"
      },
      "execution_count": 185,
      "outputs": [
        {
          "output_type": "execute_result",
          "data": {
            "text/plain": [
              "0.094"
            ]
          },
          "metadata": {},
          "execution_count": 185
        }
      ]
    },
    {
      "cell_type": "code",
      "source": [
        "b"
      ],
      "metadata": {
        "colab": {
          "base_uri": "https://localhost:8080/"
        },
        "id": "Ttce2CRN9lWg",
        "outputId": "d1c2362a-d167-44e2-bc30-9045d0870d75"
      },
      "execution_count": 230,
      "outputs": [
        {
          "output_type": "execute_result",
          "data": {
            "text/plain": [
              "['6',\n",
              " '5',\n",
              " '6',\n",
              " '5',\n",
              " '8',\n",
              " '14',\n",
              " '23',\n",
              " '35',\n",
              " '49',\n",
              " '65',\n",
              " '84',\n",
              " '133',\n",
              " '131',\n",
              " '130',\n",
              " '5',\n",
              " '4',\n",
              " '5',\n",
              " '4',\n",
              " '6',\n",
              " '11',\n",
              " '19',\n",
              " '30',\n",
              " '43',\n",
              " '59',\n",
              " '78',\n",
              " '92',\n",
              " '130',\n",
              " '4',\n",
              " '6',\n",
              " '10',\n",
              " '18',\n",
              " '30',\n",
              " '44',\n",
              " '60',\n",
              " '80',\n",
              " '85',\n",
              " '5',\n",
              " '4',\n",
              " '5',\n",
              " '4',\n",
              " '6',\n",
              " '12',\n",
              " '21',\n",
              " '33',\n",
              " '47',\n",
              " '64',\n",
              " '86',\n",
              " '133',\n",
              " '132',\n",
              " '6',\n",
              " '5',\n",
              " '6',\n",
              " '5',\n",
              " '6',\n",
              " '9',\n",
              " '16',\n",
              " '25',\n",
              " '38',\n",
              " '53',\n",
              " '69',\n",
              " '89',\n",
              " '131']"
            ]
          },
          "metadata": {},
          "execution_count": 230
        }
      ]
    },
    {
      "cell_type": "code",
      "source": [
        "bn = [int(x) for x in b]"
      ],
      "metadata": {
        "id": "yYcNjo8oE2_u"
      },
      "execution_count": 241,
      "outputs": []
    },
    {
      "cell_type": "code",
      "source": [
        "bn"
      ],
      "metadata": {
        "colab": {
          "base_uri": "https://localhost:8080/"
        },
        "id": "aTfSfPEjF5Fs",
        "outputId": "744203bb-2e5d-4a7e-e44c-a8db9ec1ad2b"
      },
      "execution_count": 244,
      "outputs": [
        {
          "output_type": "execute_result",
          "data": {
            "text/plain": [
              "[6,\n",
              " 5,\n",
              " 6,\n",
              " 5,\n",
              " 8,\n",
              " 14,\n",
              " 23,\n",
              " 35,\n",
              " 49,\n",
              " 65,\n",
              " 84,\n",
              " 133,\n",
              " 131,\n",
              " 130,\n",
              " 5,\n",
              " 4,\n",
              " 5,\n",
              " 4,\n",
              " 6,\n",
              " 11,\n",
              " 19,\n",
              " 30,\n",
              " 43,\n",
              " 59,\n",
              " 78,\n",
              " 92,\n",
              " 130,\n",
              " 4,\n",
              " 6,\n",
              " 10,\n",
              " 18,\n",
              " 30,\n",
              " 44,\n",
              " 60,\n",
              " 80,\n",
              " 85,\n",
              " 5,\n",
              " 4,\n",
              " 5,\n",
              " 4,\n",
              " 6,\n",
              " 12,\n",
              " 21,\n",
              " 33,\n",
              " 47,\n",
              " 64,\n",
              " 86,\n",
              " 133,\n",
              " 132,\n",
              " 6,\n",
              " 5,\n",
              " 6,\n",
              " 5,\n",
              " 6,\n",
              " 9,\n",
              " 16,\n",
              " 25,\n",
              " 38,\n",
              " 53,\n",
              " 69,\n",
              " 89,\n",
              " 131]"
            ]
          },
          "metadata": {},
          "execution_count": 244
        }
      ]
    },
    {
      "cell_type": "code",
      "source": [
        "import numpy as np\n",
        "from numpy import tan\n",
        "from numpy import cos\n",
        "for w in range(len(bn)):\n",
        "  S = bn[w] - bn[w-1]\n",
        "  g=9800\n",
        "  print(tan(20) - 2*S/(time**2*g*cos(20)))"
      ],
      "metadata": {
        "colab": {
          "base_uri": "https://localhost:8080/"
        },
        "id": "7TTe8MkxGQEQ",
        "outputId": "c92c074c-af68-46d7-8abd-c02e9bc0fc9c"
      },
      "execution_count": 252,
      "outputs": [
        {
          "output_type": "stream",
          "name": "stdout",
          "text": [
            "9.311904805598626\n",
            "2.293758895115733\n",
            "2.1805629933337514\n",
            "2.293758895115733\n",
            "2.067367091551769\n",
            "1.8975732388787958\n",
            "1.7277793862058226\n",
            "1.5579855335328494\n",
            "1.4447896317508673\n",
            "1.3315937299688851\n",
            "1.161799877295912\n",
            "-0.5361386494338198\n",
            "2.3503568460067243\n",
            "2.293758895115733\n",
            "9.311904805598626\n",
            "2.293758895115733\n",
            "2.1805629933337514\n",
            "2.293758895115733\n",
            "2.12396504244276\n",
            "1.9541711897697869\n",
            "1.7843773370968137\n",
            "1.6145834844238405\n",
            "1.5013875826418583\n",
            "1.3315937299688851\n",
            "1.161799877295912\n",
            "1.4447896317508673\n",
            "0.08643881036708168\n",
            "9.368502756489615\n",
            "2.12396504244276\n",
            "2.010769140660778\n",
            "1.7843773370968137\n",
            "1.5579855335328494\n",
            "1.4447896317508673\n",
            "1.3315937299688851\n",
            "1.1052019264049209\n",
            "1.9541711897697869\n",
            "6.7649970155040275\n",
            "2.293758895115733\n",
            "2.1805629933337514\n",
            "2.293758895115733\n",
            "2.12396504244276\n",
            "1.8975732388787958\n",
            "1.7277793862058226\n",
            "1.5579855335328494\n",
            "1.4447896317508673\n",
            "1.274995779077894\n",
            "0.9920060246229387\n",
            "-0.4229427476518377\n",
            "2.293758895115733\n",
            "9.368502756489615\n",
            "2.293758895115733\n",
            "2.1805629933337514\n",
            "2.293758895115733\n",
            "2.1805629933337514\n",
            "2.067367091551769\n",
            "1.8409752879878047\n",
            "1.7277793862058226\n",
            "1.5013875826418583\n",
            "1.3881916808598762\n",
            "1.3315937299688851\n",
            "1.1052019264049209\n",
            "-0.1399529931968826\n"
          ]
        }
      ]
    },
    {
      "cell_type": "code",
      "source": [],
      "metadata": {
        "id": "2oRBr1rqIRme"
      },
      "execution_count": null,
      "outputs": []
    }
  ]
}