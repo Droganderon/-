{
  "nbformat": 4,
  "nbformat_minor": 0,
  "metadata": {
    "colab": {
      "provenance": [],
      "authorship_tag": "ABX9TyPuJvfSh4so/RayXOIQKuN5",
      "include_colab_link": true
    },
    "kernelspec": {
      "name": "python3",
      "display_name": "Python 3"
    },
    "language_info": {
      "name": "python"
    }
  },
  "cells": [
    {
      "cell_type": "markdown",
      "metadata": {
        "id": "view-in-github",
        "colab_type": "text"
      },
      "source": [
        "<a href=\"https://colab.research.google.com/github/Droganderon/Colab/blob/main/sensor_data.ipynb\" target=\"_parent\"><img src=\"https://colab.research.google.com/assets/colab-badge.svg\" alt=\"Open In Colab\"/></a>"
      ]
    },
    {
      "cell_type": "code",
      "source": [
        "from google.colab import files\n",
        "import numpy as np  \n",
        "uploaded = files.upload()"
      ],
      "metadata": {
        "colab": {
          "base_uri": "https://localhost:8080/",
          "height": 74
        },
        "id": "RjfuBHrfyu_K",
        "outputId": "fbbcd8d4-f5ec-485f-a910-6b87ab225bb4"
      },
      "execution_count": 1,
      "outputs": [
        {
          "output_type": "display_data",
          "data": {
            "text/plain": [
              "<IPython.core.display.HTML object>"
            ],
            "text/html": [
              "\n",
              "     <input type=\"file\" id=\"files-eff5c0ed-b97c-4f0c-8731-01a63b0389aa\" name=\"files[]\" multiple disabled\n",
              "        style=\"border:none\" />\n",
              "     <output id=\"result-eff5c0ed-b97c-4f0c-8731-01a63b0389aa\">\n",
              "      Upload widget is only available when the cell has been executed in the\n",
              "      current browser session. Please rerun this cell to enable.\n",
              "      </output>\n",
              "      <script>// Copyright 2017 Google LLC\n",
              "//\n",
              "// Licensed under the Apache License, Version 2.0 (the \"License\");\n",
              "// you may not use this file except in compliance with the License.\n",
              "// You may obtain a copy of the License at\n",
              "//\n",
              "//      http://www.apache.org/licenses/LICENSE-2.0\n",
              "//\n",
              "// Unless required by applicable law or agreed to in writing, software\n",
              "// distributed under the License is distributed on an \"AS IS\" BASIS,\n",
              "// WITHOUT WARRANTIES OR CONDITIONS OF ANY KIND, either express or implied.\n",
              "// See the License for the specific language governing permissions and\n",
              "// limitations under the License.\n",
              "\n",
              "/**\n",
              " * @fileoverview Helpers for google.colab Python module.\n",
              " */\n",
              "(function(scope) {\n",
              "function span(text, styleAttributes = {}) {\n",
              "  const element = document.createElement('span');\n",
              "  element.textContent = text;\n",
              "  for (const key of Object.keys(styleAttributes)) {\n",
              "    element.style[key] = styleAttributes[key];\n",
              "  }\n",
              "  return element;\n",
              "}\n",
              "\n",
              "// Max number of bytes which will be uploaded at a time.\n",
              "const MAX_PAYLOAD_SIZE = 100 * 1024;\n",
              "\n",
              "function _uploadFiles(inputId, outputId) {\n",
              "  const steps = uploadFilesStep(inputId, outputId);\n",
              "  const outputElement = document.getElementById(outputId);\n",
              "  // Cache steps on the outputElement to make it available for the next call\n",
              "  // to uploadFilesContinue from Python.\n",
              "  outputElement.steps = steps;\n",
              "\n",
              "  return _uploadFilesContinue(outputId);\n",
              "}\n",
              "\n",
              "// This is roughly an async generator (not supported in the browser yet),\n",
              "// where there are multiple asynchronous steps and the Python side is going\n",
              "// to poll for completion of each step.\n",
              "// This uses a Promise to block the python side on completion of each step,\n",
              "// then passes the result of the previous step as the input to the next step.\n",
              "function _uploadFilesContinue(outputId) {\n",
              "  const outputElement = document.getElementById(outputId);\n",
              "  const steps = outputElement.steps;\n",
              "\n",
              "  const next = steps.next(outputElement.lastPromiseValue);\n",
              "  return Promise.resolve(next.value.promise).then((value) => {\n",
              "    // Cache the last promise value to make it available to the next\n",
              "    // step of the generator.\n",
              "    outputElement.lastPromiseValue = value;\n",
              "    return next.value.response;\n",
              "  });\n",
              "}\n",
              "\n",
              "/**\n",
              " * Generator function which is called between each async step of the upload\n",
              " * process.\n",
              " * @param {string} inputId Element ID of the input file picker element.\n",
              " * @param {string} outputId Element ID of the output display.\n",
              " * @return {!Iterable<!Object>} Iterable of next steps.\n",
              " */\n",
              "function* uploadFilesStep(inputId, outputId) {\n",
              "  const inputElement = document.getElementById(inputId);\n",
              "  inputElement.disabled = false;\n",
              "\n",
              "  const outputElement = document.getElementById(outputId);\n",
              "  outputElement.innerHTML = '';\n",
              "\n",
              "  const pickedPromise = new Promise((resolve) => {\n",
              "    inputElement.addEventListener('change', (e) => {\n",
              "      resolve(e.target.files);\n",
              "    });\n",
              "  });\n",
              "\n",
              "  const cancel = document.createElement('button');\n",
              "  inputElement.parentElement.appendChild(cancel);\n",
              "  cancel.textContent = 'Cancel upload';\n",
              "  const cancelPromise = new Promise((resolve) => {\n",
              "    cancel.onclick = () => {\n",
              "      resolve(null);\n",
              "    };\n",
              "  });\n",
              "\n",
              "  // Wait for the user to pick the files.\n",
              "  const files = yield {\n",
              "    promise: Promise.race([pickedPromise, cancelPromise]),\n",
              "    response: {\n",
              "      action: 'starting',\n",
              "    }\n",
              "  };\n",
              "\n",
              "  cancel.remove();\n",
              "\n",
              "  // Disable the input element since further picks are not allowed.\n",
              "  inputElement.disabled = true;\n",
              "\n",
              "  if (!files) {\n",
              "    return {\n",
              "      response: {\n",
              "        action: 'complete',\n",
              "      }\n",
              "    };\n",
              "  }\n",
              "\n",
              "  for (const file of files) {\n",
              "    const li = document.createElement('li');\n",
              "    li.append(span(file.name, {fontWeight: 'bold'}));\n",
              "    li.append(span(\n",
              "        `(${file.type || 'n/a'}) - ${file.size} bytes, ` +\n",
              "        `last modified: ${\n",
              "            file.lastModifiedDate ? file.lastModifiedDate.toLocaleDateString() :\n",
              "                                    'n/a'} - `));\n",
              "    const percent = span('0% done');\n",
              "    li.appendChild(percent);\n",
              "\n",
              "    outputElement.appendChild(li);\n",
              "\n",
              "    const fileDataPromise = new Promise((resolve) => {\n",
              "      const reader = new FileReader();\n",
              "      reader.onload = (e) => {\n",
              "        resolve(e.target.result);\n",
              "      };\n",
              "      reader.readAsArrayBuffer(file);\n",
              "    });\n",
              "    // Wait for the data to be ready.\n",
              "    let fileData = yield {\n",
              "      promise: fileDataPromise,\n",
              "      response: {\n",
              "        action: 'continue',\n",
              "      }\n",
              "    };\n",
              "\n",
              "    // Use a chunked sending to avoid message size limits. See b/62115660.\n",
              "    let position = 0;\n",
              "    do {\n",
              "      const length = Math.min(fileData.byteLength - position, MAX_PAYLOAD_SIZE);\n",
              "      const chunk = new Uint8Array(fileData, position, length);\n",
              "      position += length;\n",
              "\n",
              "      const base64 = btoa(String.fromCharCode.apply(null, chunk));\n",
              "      yield {\n",
              "        response: {\n",
              "          action: 'append',\n",
              "          file: file.name,\n",
              "          data: base64,\n",
              "        },\n",
              "      };\n",
              "\n",
              "      let percentDone = fileData.byteLength === 0 ?\n",
              "          100 :\n",
              "          Math.round((position / fileData.byteLength) * 100);\n",
              "      percent.textContent = `${percentDone}% done`;\n",
              "\n",
              "    } while (position < fileData.byteLength);\n",
              "  }\n",
              "\n",
              "  // All done.\n",
              "  yield {\n",
              "    response: {\n",
              "      action: 'complete',\n",
              "    }\n",
              "  };\n",
              "}\n",
              "\n",
              "scope.google = scope.google || {};\n",
              "scope.google.colab = scope.google.colab || {};\n",
              "scope.google.colab._files = {\n",
              "  _uploadFiles,\n",
              "  _uploadFilesContinue,\n",
              "};\n",
              "})(self);\n",
              "</script> "
            ]
          },
          "metadata": {}
        },
        {
          "output_type": "stream",
          "name": "stdout",
          "text": [
            "Saving данные.txt to данные.txt\n"
          ]
        }
      ]
    },
    {
      "cell_type": "code",
      "source": [
        "from io import StringIO\n",
        "\n",
        "with open(\"данные.txt\", \"r\") as file:\n",
        "    lines = file.readlines()\n",
        "    data = np.array([i.split() for i in lines], dtype=\"object\")\n",
        "data"
      ],
      "metadata": {
        "id": "JN9p6TXIzX8P"
      },
      "execution_count": null,
      "outputs": []
    },
    {
      "cell_type": "code",
      "source": [
        "list_of_lists = []\n",
        "with open(\"данные.txt\") as f:\n",
        "    for line in f:\n",
        "        inner_list = [elt.strip() for elt in line.split(',')]\n",
        "        # in alternative, if you need to use the file content as numbers\n",
        "        # inner_list = [int(elt.strip()) for elt in line.split(',')]\n",
        "        list_of_lists.append(inner_list)"
      ],
      "metadata": {
        "id": "DjJy1tKZ0kne"
      },
      "execution_count": 3,
      "outputs": []
    },
    {
      "cell_type": "code",
      "source": [
        "list_of_lists"
      ],
      "metadata": {
        "id": "5FJ5JD0k0v9_"
      },
      "execution_count": null,
      "outputs": []
    },
    {
      "cell_type": "code",
      "source": [
        "import numpy as np\n",
        "list_of_lists_1 = []\n",
        "data = np.loadtxt(\"данные.txt\", usecols=1, skiprows=0, dtype='str')\n",
        "for each in data:\n",
        "  inner_list = [elt.strip() for elt in each.split(',')]\n",
        "  list_of_lists_1.append(inner_list)\n",
        "list_of_lists_1\n"
      ],
      "metadata": {
        "id": "OdHvnv-6HdOW",
        "outputId": "03c69b0c-54b8-4413-8ce3-b63831b0c7e9",
        "colab": {
          "base_uri": "https://localhost:8080/"
        }
      },
      "execution_count": 161,
      "outputs": [
        {
          "output_type": "execute_result",
          "data": {
            "text/plain": [
              "[['6'],\n",
              " ['6'],\n",
              " ['5'],\n",
              " ['5'],\n",
              " ['5'],\n",
              " ['6'],\n",
              " ['5'],\n",
              " ['5'],\n",
              " ['5'],\n",
              " ['5'],\n",
              " ['8'],\n",
              " ['14'],\n",
              " ['23'],\n",
              " ['35'],\n",
              " ['49'],\n",
              " ['65'],\n",
              " ['84'],\n",
              " ['133'],\n",
              " ['131'],\n",
              " ['130'],\n",
              " ['5'],\n",
              " ['5'],\n",
              " ['5'],\n",
              " ['4'],\n",
              " ['5'],\n",
              " ['5'],\n",
              " ['5'],\n",
              " ['5'],\n",
              " ['5'],\n",
              " ['4'],\n",
              " ['6'],\n",
              " ['11'],\n",
              " ['19'],\n",
              " ['30'],\n",
              " ['43'],\n",
              " ['59'],\n",
              " ['78'],\n",
              " ['92'],\n",
              " ['130'],\n",
              " ['4'],\n",
              " ['4'],\n",
              " ['4'],\n",
              " ['4'],\n",
              " ['4'],\n",
              " ['4'],\n",
              " ['4'],\n",
              " ['4'],\n",
              " ['6'],\n",
              " ['10'],\n",
              " ['18'],\n",
              " ['30'],\n",
              " ['44'],\n",
              " ['60'],\n",
              " ['80'],\n",
              " ['85'],\n",
              " ['5'],\n",
              " ['4'],\n",
              " ['4'],\n",
              " ['4'],\n",
              " ['5'],\n",
              " ['4'],\n",
              " ['4'],\n",
              " ['6'],\n",
              " ['12'],\n",
              " ['21'],\n",
              " ['33'],\n",
              " ['47'],\n",
              " ['64'],\n",
              " ['86'],\n",
              " ['133'],\n",
              " ['132'],\n",
              " ['6'],\n",
              " ['6'],\n",
              " ['6'],\n",
              " ['6'],\n",
              " ['5'],\n",
              " ['5'],\n",
              " ['5'],\n",
              " ['5'],\n",
              " ['5'],\n",
              " ['6'],\n",
              " ['5'],\n",
              " ['5'],\n",
              " ['6'],\n",
              " ['9'],\n",
              " ['16'],\n",
              " ['25'],\n",
              " ['38'],\n",
              " ['53'],\n",
              " ['69'],\n",
              " ['89'],\n",
              " ['131']]"
            ]
          },
          "metadata": {},
          "execution_count": 161
        }
      ]
    },
    {
      "cell_type": "code",
      "source": [
        "c = list_of_lists_1\n",
        "c[10]"
      ],
      "metadata": {
        "id": "r-l9gsP6VQS5",
        "outputId": "dd376215-9355-43b5-f209-9db2e075e9ed",
        "colab": {
          "base_uri": "https://localhost:8080/"
        }
      },
      "execution_count": 25,
      "outputs": [
        {
          "output_type": "execute_result",
          "data": {
            "text/plain": [
              "['8']"
            ]
          },
          "metadata": {},
          "execution_count": 25
        }
      ]
    },
    {
      "cell_type": "code",
      "source": [
        "type(list_of_lists_1)"
      ],
      "metadata": {
        "id": "URrS_ZCBUoeP",
        "outputId": "cafeed6f-e876-4c0d-ec85-4239292792c0",
        "colab": {
          "base_uri": "https://localhost:8080/"
        }
      },
      "execution_count": null,
      "outputs": [
        {
          "output_type": "execute_result",
          "data": {
            "text/plain": [
              "list"
            ]
          },
          "metadata": {},
          "execution_count": 247
        }
      ]
    },
    {
      "cell_type": "code",
      "source": [
        "a = tuple(list_of_lists_1)\n",
        "a"
      ],
      "metadata": {
        "id": "fIiqEBsiNhyd"
      },
      "execution_count": null,
      "outputs": []
    },
    {
      "cell_type": "code",
      "source": [
        "len(a)"
      ],
      "metadata": {
        "id": "fiia1p-fPgrI",
        "outputId": "56f7f9cf-41ad-4371-eea6-70d1c01b3021",
        "colab": {
          "base_uri": "https://localhost:8080/"
        }
      },
      "execution_count": 27,
      "outputs": [
        {
          "output_type": "execute_result",
          "data": {
            "text/plain": [
              "92"
            ]
          },
          "metadata": {},
          "execution_count": 27
        }
      ]
    },
    {
      "cell_type": "code",
      "source": [
        "for j in range(len(a)):\n",
        "  b = []\n",
        "  if c[j-1] != c[j]:\n",
        "    b.append(c[j])\n",
        "    print(b)"
      ],
      "metadata": {
        "id": "MF_iL8BgKqVF"
      },
      "execution_count": null,
      "outputs": []
    },
    {
      "cell_type": "code",
      "source": [
        "import numpy as np\n",
        "list_of_lists_2 = []\n",
        "data = np.loadtxt(\"данные.txt\", usecols=0, skiprows=0, dtype='str')\n",
        "for each in data:\n",
        "  inner_list = [elt.strip() for elt in each.split(',')]\n",
        "  list_of_lists_2.append(inner_list)\n",
        "list_of_lists_2\n",
        "d = list_of_lists_2\n",
        "d"
      ],
      "metadata": {
        "id": "-azx2SF9VBy-"
      },
      "execution_count": null,
      "outputs": []
    },
    {
      "cell_type": "code",
      "source": [
        "for l in range(len(d)):\n",
        "  e = []\n",
        "  e.append(d[1:10])\n",
        "  "
      ],
      "metadata": {
        "id": "-9H4L-IedDe2"
      },
      "execution_count": 80,
      "outputs": []
    },
    {
      "cell_type": "code",
      "source": [
        "e"
      ],
      "metadata": {
        "id": "m3oJpcc2l_ej"
      },
      "execution_count": null,
      "outputs": []
    },
    {
      "cell_type": "code",
      "source": [
        "len(d)"
      ],
      "metadata": {
        "colab": {
          "base_uri": "https://localhost:8080/"
        },
        "id": "JhF3fsh7oV7N",
        "outputId": "3c748d09-0ef0-43b7-a4c9-b8fac435edf6"
      },
      "execution_count": 97,
      "outputs": [
        {
          "output_type": "execute_result",
          "data": {
            "text/plain": [
              "92"
            ]
          },
          "metadata": {},
          "execution_count": 97
        }
      ]
    },
    {
      "cell_type": "code",
      "source": [
        "pop = d\n",
        "del pop[20:92]"
      ],
      "metadata": {
        "id": "1PMkK9pynvbn"
      },
      "execution_count": 135,
      "outputs": []
    },
    {
      "cell_type": "code",
      "source": [
        "pop"
      ],
      "metadata": {
        "colab": {
          "base_uri": "https://localhost:8080/"
        },
        "id": "mLX3tMPwoni-",
        "outputId": "3cc70201-70fe-44dd-a018-e1486e0facbd"
      },
      "execution_count": 136,
      "outputs": [
        {
          "output_type": "execute_result",
          "data": {
            "text/plain": [
              "[['15:08:59.898'],\n",
              " ['15:08:59.992'],\n",
              " ['15:09:00.085'],\n",
              " ['15:09:00.179'],\n",
              " ['15:09:00.311'],\n",
              " ['15:09:00.407'],\n",
              " ['15:09:00.500'],\n",
              " ['15:09:00.594'],\n",
              " ['15:09:00.722'],\n",
              " ['15:09:00.815'],\n",
              " ['15:09:00.910'],\n",
              " ['15:09:01.004'],\n",
              " ['15:09:01.097'],\n",
              " ['15:09:01.191'],\n",
              " ['15:09:01.332'],\n",
              " ['15:09:01.441'],\n",
              " ['15:09:01.535'],\n",
              " ['15:09:01.629'],\n",
              " ['15:09:01.769'],\n",
              " ['15:09:01.860']]"
            ]
          },
          "metadata": {},
          "execution_count": 136
        }
      ]
    },
    {
      "cell_type": "code",
      "source": [
        "pop[2][0]"
      ],
      "metadata": {
        "colab": {
          "base_uri": "https://localhost:8080/",
          "height": 36
        },
        "id": "G3xHyihF3R5x",
        "outputId": "33802d38-3965-4a39-b2f7-6db00d3655b2"
      },
      "execution_count": 162,
      "outputs": [
        {
          "output_type": "execute_result",
          "data": {
            "text/plain": [
              "'15:09:00.085'"
            ],
            "application/vnd.google.colaboratory.intrinsic+json": {
              "type": "string"
            }
          },
          "metadata": {},
          "execution_count": 162
        }
      ]
    },
    {
      "cell_type": "code",
      "source": [
        "total = 0\n",
        "for number in pop:\n",
        "  total += number\n",
        "print(total)\n"
      ],
      "metadata": {
        "colab": {
          "base_uri": "https://localhost:8080/",
          "height": 227
        },
        "id": "WjLgYc2ypIrl",
        "outputId": "316b17d5-4663-4c13-8416-7b95f55b647d"
      },
      "execution_count": 124,
      "outputs": [
        {
          "output_type": "error",
          "ename": "TypeError",
          "evalue": "ignored",
          "traceback": [
            "\u001b[0;31m---------------------------------------------------------------------------\u001b[0m",
            "\u001b[0;31mTypeError\u001b[0m                                 Traceback (most recent call last)",
            "\u001b[0;32m<ipython-input-124-3199d4c48d1c>\u001b[0m in \u001b[0;36m<module>\u001b[0;34m\u001b[0m\n\u001b[1;32m      1\u001b[0m \u001b[0mtotal\u001b[0m \u001b[0;34m=\u001b[0m \u001b[0;36m0\u001b[0m\u001b[0;34m\u001b[0m\u001b[0;34m\u001b[0m\u001b[0m\n\u001b[1;32m      2\u001b[0m \u001b[0;32mfor\u001b[0m \u001b[0mnumber\u001b[0m \u001b[0;32min\u001b[0m \u001b[0mpop\u001b[0m\u001b[0;34m:\u001b[0m\u001b[0;34m\u001b[0m\u001b[0;34m\u001b[0m\u001b[0m\n\u001b[0;32m----> 3\u001b[0;31m   \u001b[0mtotal\u001b[0m \u001b[0;34m+=\u001b[0m \u001b[0mnumber\u001b[0m\u001b[0;34m\u001b[0m\u001b[0;34m\u001b[0m\u001b[0m\n\u001b[0m\u001b[1;32m      4\u001b[0m \u001b[0mprint\u001b[0m\u001b[0;34m(\u001b[0m\u001b[0mtotal\u001b[0m\u001b[0;34m)\u001b[0m\u001b[0;34m\u001b[0m\u001b[0;34m\u001b[0m\u001b[0m\n",
            "\u001b[0;31mTypeError\u001b[0m: unsupported operand type(s) for +=: 'int' and 'list'"
          ]
        }
      ]
    },
    {
      "cell_type": "code",
      "source": [
        "import datetime\n",
        "loop = []\n",
        "r = pop[0][0]\n",
        "h = pop[1][0]\n",
        "a1 = datetime.datetime.strptime(r,\"%H:%M:%S.%f\")\n",
        "a2 = datetime.datetime.strptime(h,\"%H:%M:%S.%f\")\n",
        "a1"
      ],
      "metadata": {
        "colab": {
          "base_uri": "https://localhost:8080/"
        },
        "id": "dx2HHaMC1cuv",
        "outputId": "4952be21-837c-46e6-a9a0-d63ff0d7309a"
      },
      "execution_count": 149,
      "outputs": [
        {
          "output_type": "execute_result",
          "data": {
            "text/plain": [
              "datetime.datetime(1900, 1, 1, 15, 8, 59, 898000)"
            ]
          },
          "metadata": {},
          "execution_count": 149
        }
      ]
    },
    {
      "cell_type": "code",
      "source": [
        "d1 = (a2-a1)\n",
        "d1"
      ],
      "metadata": {
        "colab": {
          "base_uri": "https://localhost:8080/"
        },
        "id": "T_RPPEYb6zIs",
        "outputId": "a16e48d9-e258-4131-82a0-59ed8a4715d1"
      },
      "execution_count": 155,
      "outputs": [
        {
          "output_type": "execute_result",
          "data": {
            "text/plain": [
              "datetime.timedelta(microseconds=94000)"
            ]
          },
          "metadata": {},
          "execution_count": 155
        }
      ]
    },
    {
      "cell_type": "code",
      "source": [
        "time = d1.total_seconds()\n",
        "time"
      ],
      "metadata": {
        "colab": {
          "base_uri": "https://localhost:8080/"
        },
        "id": "vj1O3aJz6-YI",
        "outputId": "69310630-904d-4c10-b2a7-8003363bc873"
      },
      "execution_count": 160,
      "outputs": [
        {
          "output_type": "execute_result",
          "data": {
            "text/plain": [
              "0.094"
            ]
          },
          "metadata": {},
          "execution_count": 160
        }
      ]
    },
    {
      "cell_type": "code",
      "source": [],
      "metadata": {
        "id": "Ttce2CRN9lWg"
      },
      "execution_count": null,
      "outputs": []
    }
  ]
}