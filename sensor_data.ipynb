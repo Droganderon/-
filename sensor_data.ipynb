{
  "nbformat": 4,
  "nbformat_minor": 0,
  "metadata": {
    "colab": {
      "provenance": [],
      "authorship_tag": "ABX9TyMguFc+wBnxi6U9987LnyRC",
      "include_colab_link": true
    },
    "kernelspec": {
      "name": "python3",
      "display_name": "Python 3"
    },
    "language_info": {
      "name": "python"
    }
  },
  "cells": [
    {
      "cell_type": "markdown",
      "metadata": {
        "id": "view-in-github",
        "colab_type": "text"
      },
      "source": [
        "<a href=\"https://colab.research.google.com/github/Droganderon/Colab/blob/main/sensor_data.ipynb\" target=\"_parent\"><img src=\"https://colab.research.google.com/assets/colab-badge.svg\" alt=\"Open In Colab\"/></a>"
      ]
    },
    {
      "cell_type": "code",
      "source": [
        "from google.colab import files\n",
        "import numpy as np  \n",
        "uploaded = files.upload()"
      ],
      "metadata": {
        "colab": {
          "base_uri": "https://localhost:8080/",
          "height": 74
        },
        "id": "RjfuBHrfyu_K",
        "outputId": "8ff4a56b-7665-4fd7-be45-488223344b6b"
      },
      "execution_count": 1,
      "outputs": [
        {
          "output_type": "display_data",
          "data": {
            "text/plain": [
              "<IPython.core.display.HTML object>"
            ],
            "text/html": [
              "\n",
              "     <input type=\"file\" id=\"files-c64525fa-1e97-4def-b2ef-7e437bf78d5c\" name=\"files[]\" multiple disabled\n",
              "        style=\"border:none\" />\n",
              "     <output id=\"result-c64525fa-1e97-4def-b2ef-7e437bf78d5c\">\n",
              "      Upload widget is only available when the cell has been executed in the\n",
              "      current browser session. Please rerun this cell to enable.\n",
              "      </output>\n",
              "      <script>// Copyright 2017 Google LLC\n",
              "//\n",
              "// Licensed under the Apache License, Version 2.0 (the \"License\");\n",
              "// you may not use this file except in compliance with the License.\n",
              "// You may obtain a copy of the License at\n",
              "//\n",
              "//      http://www.apache.org/licenses/LICENSE-2.0\n",
              "//\n",
              "// Unless required by applicable law or agreed to in writing, software\n",
              "// distributed under the License is distributed on an \"AS IS\" BASIS,\n",
              "// WITHOUT WARRANTIES OR CONDITIONS OF ANY KIND, either express or implied.\n",
              "// See the License for the specific language governing permissions and\n",
              "// limitations under the License.\n",
              "\n",
              "/**\n",
              " * @fileoverview Helpers for google.colab Python module.\n",
              " */\n",
              "(function(scope) {\n",
              "function span(text, styleAttributes = {}) {\n",
              "  const element = document.createElement('span');\n",
              "  element.textContent = text;\n",
              "  for (const key of Object.keys(styleAttributes)) {\n",
              "    element.style[key] = styleAttributes[key];\n",
              "  }\n",
              "  return element;\n",
              "}\n",
              "\n",
              "// Max number of bytes which will be uploaded at a time.\n",
              "const MAX_PAYLOAD_SIZE = 100 * 1024;\n",
              "\n",
              "function _uploadFiles(inputId, outputId) {\n",
              "  const steps = uploadFilesStep(inputId, outputId);\n",
              "  const outputElement = document.getElementById(outputId);\n",
              "  // Cache steps on the outputElement to make it available for the next call\n",
              "  // to uploadFilesContinue from Python.\n",
              "  outputElement.steps = steps;\n",
              "\n",
              "  return _uploadFilesContinue(outputId);\n",
              "}\n",
              "\n",
              "// This is roughly an async generator (not supported in the browser yet),\n",
              "// where there are multiple asynchronous steps and the Python side is going\n",
              "// to poll for completion of each step.\n",
              "// This uses a Promise to block the python side on completion of each step,\n",
              "// then passes the result of the previous step as the input to the next step.\n",
              "function _uploadFilesContinue(outputId) {\n",
              "  const outputElement = document.getElementById(outputId);\n",
              "  const steps = outputElement.steps;\n",
              "\n",
              "  const next = steps.next(outputElement.lastPromiseValue);\n",
              "  return Promise.resolve(next.value.promise).then((value) => {\n",
              "    // Cache the last promise value to make it available to the next\n",
              "    // step of the generator.\n",
              "    outputElement.lastPromiseValue = value;\n",
              "    return next.value.response;\n",
              "  });\n",
              "}\n",
              "\n",
              "/**\n",
              " * Generator function which is called between each async step of the upload\n",
              " * process.\n",
              " * @param {string} inputId Element ID of the input file picker element.\n",
              " * @param {string} outputId Element ID of the output display.\n",
              " * @return {!Iterable<!Object>} Iterable of next steps.\n",
              " */\n",
              "function* uploadFilesStep(inputId, outputId) {\n",
              "  const inputElement = document.getElementById(inputId);\n",
              "  inputElement.disabled = false;\n",
              "\n",
              "  const outputElement = document.getElementById(outputId);\n",
              "  outputElement.innerHTML = '';\n",
              "\n",
              "  const pickedPromise = new Promise((resolve) => {\n",
              "    inputElement.addEventListener('change', (e) => {\n",
              "      resolve(e.target.files);\n",
              "    });\n",
              "  });\n",
              "\n",
              "  const cancel = document.createElement('button');\n",
              "  inputElement.parentElement.appendChild(cancel);\n",
              "  cancel.textContent = 'Cancel upload';\n",
              "  const cancelPromise = new Promise((resolve) => {\n",
              "    cancel.onclick = () => {\n",
              "      resolve(null);\n",
              "    };\n",
              "  });\n",
              "\n",
              "  // Wait for the user to pick the files.\n",
              "  const files = yield {\n",
              "    promise: Promise.race([pickedPromise, cancelPromise]),\n",
              "    response: {\n",
              "      action: 'starting',\n",
              "    }\n",
              "  };\n",
              "\n",
              "  cancel.remove();\n",
              "\n",
              "  // Disable the input element since further picks are not allowed.\n",
              "  inputElement.disabled = true;\n",
              "\n",
              "  if (!files) {\n",
              "    return {\n",
              "      response: {\n",
              "        action: 'complete',\n",
              "      }\n",
              "    };\n",
              "  }\n",
              "\n",
              "  for (const file of files) {\n",
              "    const li = document.createElement('li');\n",
              "    li.append(span(file.name, {fontWeight: 'bold'}));\n",
              "    li.append(span(\n",
              "        `(${file.type || 'n/a'}) - ${file.size} bytes, ` +\n",
              "        `last modified: ${\n",
              "            file.lastModifiedDate ? file.lastModifiedDate.toLocaleDateString() :\n",
              "                                    'n/a'} - `));\n",
              "    const percent = span('0% done');\n",
              "    li.appendChild(percent);\n",
              "\n",
              "    outputElement.appendChild(li);\n",
              "\n",
              "    const fileDataPromise = new Promise((resolve) => {\n",
              "      const reader = new FileReader();\n",
              "      reader.onload = (e) => {\n",
              "        resolve(e.target.result);\n",
              "      };\n",
              "      reader.readAsArrayBuffer(file);\n",
              "    });\n",
              "    // Wait for the data to be ready.\n",
              "    let fileData = yield {\n",
              "      promise: fileDataPromise,\n",
              "      response: {\n",
              "        action: 'continue',\n",
              "      }\n",
              "    };\n",
              "\n",
              "    // Use a chunked sending to avoid message size limits. See b/62115660.\n",
              "    let position = 0;\n",
              "    do {\n",
              "      const length = Math.min(fileData.byteLength - position, MAX_PAYLOAD_SIZE);\n",
              "      const chunk = new Uint8Array(fileData, position, length);\n",
              "      position += length;\n",
              "\n",
              "      const base64 = btoa(String.fromCharCode.apply(null, chunk));\n",
              "      yield {\n",
              "        response: {\n",
              "          action: 'append',\n",
              "          file: file.name,\n",
              "          data: base64,\n",
              "        },\n",
              "      };\n",
              "\n",
              "      let percentDone = fileData.byteLength === 0 ?\n",
              "          100 :\n",
              "          Math.round((position / fileData.byteLength) * 100);\n",
              "      percent.textContent = `${percentDone}% done`;\n",
              "\n",
              "    } while (position < fileData.byteLength);\n",
              "  }\n",
              "\n",
              "  // All done.\n",
              "  yield {\n",
              "    response: {\n",
              "      action: 'complete',\n",
              "    }\n",
              "  };\n",
              "}\n",
              "\n",
              "scope.google = scope.google || {};\n",
              "scope.google.colab = scope.google.colab || {};\n",
              "scope.google.colab._files = {\n",
              "  _uploadFiles,\n",
              "  _uploadFilesContinue,\n",
              "};\n",
              "})(self);\n",
              "</script> "
            ]
          },
          "metadata": {}
        },
        {
          "output_type": "stream",
          "name": "stdout",
          "text": [
            "Saving данные.txt to данные.txt\n"
          ]
        }
      ]
    },
    {
      "cell_type": "code",
      "source": [
        "import numpy as np\n",
        "list_of_lists_1 = []\n",
        "data = np.loadtxt(\"данные.txt\", usecols=1, skiprows=0, dtype='str')\n",
        "for each in data:\n",
        "  inner_list = [elt.strip() for elt in each.split(',')]\n",
        "  list_of_lists_1.append(inner_list)\n",
        "list_of_lists_1\n"
      ],
      "metadata": {
        "id": "OdHvnv-6HdOW",
        "outputId": "0f406c36-cb34-4274-babc-af95f7154437",
        "colab": {
          "base_uri": "https://localhost:8080/"
        }
      },
      "execution_count": 2,
      "outputs": [
        {
          "output_type": "execute_result",
          "data": {
            "text/plain": [
              "[['6'],\n",
              " ['6'],\n",
              " ['5'],\n",
              " ['5'],\n",
              " ['5'],\n",
              " ['6'],\n",
              " ['5'],\n",
              " ['5'],\n",
              " ['5'],\n",
              " ['5'],\n",
              " ['8'],\n",
              " ['14'],\n",
              " ['23'],\n",
              " ['35'],\n",
              " ['49'],\n",
              " ['65'],\n",
              " ['84'],\n",
              " ['133'],\n",
              " ['131'],\n",
              " ['130'],\n",
              " ['5'],\n",
              " ['5'],\n",
              " ['5'],\n",
              " ['4'],\n",
              " ['5'],\n",
              " ['5'],\n",
              " ['5'],\n",
              " ['5'],\n",
              " ['5'],\n",
              " ['4'],\n",
              " ['6'],\n",
              " ['11'],\n",
              " ['19'],\n",
              " ['30'],\n",
              " ['43'],\n",
              " ['59'],\n",
              " ['78'],\n",
              " ['92'],\n",
              " ['130'],\n",
              " ['4'],\n",
              " ['4'],\n",
              " ['4'],\n",
              " ['4'],\n",
              " ['4'],\n",
              " ['4'],\n",
              " ['4'],\n",
              " ['4'],\n",
              " ['6'],\n",
              " ['10'],\n",
              " ['18'],\n",
              " ['30'],\n",
              " ['44'],\n",
              " ['60'],\n",
              " ['80'],\n",
              " ['85'],\n",
              " ['5'],\n",
              " ['4'],\n",
              " ['4'],\n",
              " ['4'],\n",
              " ['5'],\n",
              " ['4'],\n",
              " ['4'],\n",
              " ['6'],\n",
              " ['12'],\n",
              " ['21'],\n",
              " ['33'],\n",
              " ['47'],\n",
              " ['64'],\n",
              " ['86'],\n",
              " ['133'],\n",
              " ['132'],\n",
              " ['6'],\n",
              " ['6'],\n",
              " ['6'],\n",
              " ['6'],\n",
              " ['5'],\n",
              " ['5'],\n",
              " ['5'],\n",
              " ['5'],\n",
              " ['5'],\n",
              " ['6'],\n",
              " ['5'],\n",
              " ['5'],\n",
              " ['6'],\n",
              " ['9'],\n",
              " ['16'],\n",
              " ['25'],\n",
              " ['38'],\n",
              " ['53'],\n",
              " ['69'],\n",
              " ['89'],\n",
              " ['131']]"
            ]
          },
          "metadata": {},
          "execution_count": 2
        }
      ]
    },
    {
      "cell_type": "code",
      "source": [
        "c = list_of_lists_1\n",
        "c[1][0]"
      ],
      "metadata": {
        "id": "r-l9gsP6VQS5",
        "outputId": "6ac5aa8a-df1a-457f-85a7-81121c81c390",
        "colab": {
          "base_uri": "https://localhost:8080/",
          "height": 36
        }
      },
      "execution_count": 3,
      "outputs": [
        {
          "output_type": "execute_result",
          "data": {
            "text/plain": [
              "'6'"
            ],
            "application/vnd.google.colaboratory.intrinsic+json": {
              "type": "string"
            }
          },
          "metadata": {},
          "execution_count": 3
        }
      ]
    },
    {
      "cell_type": "code",
      "source": [
        "type(list_of_lists_1)"
      ],
      "metadata": {
        "id": "URrS_ZCBUoeP",
        "outputId": "ebe2cfba-6954-436c-9bd5-8072e67b728e",
        "colab": {
          "base_uri": "https://localhost:8080/"
        }
      },
      "execution_count": 4,
      "outputs": [
        {
          "output_type": "execute_result",
          "data": {
            "text/plain": [
              "list"
            ]
          },
          "metadata": {},
          "execution_count": 4
        }
      ]
    },
    {
      "cell_type": "code",
      "source": [
        "b = []\n",
        "for j in range(len(c)):\n",
        "  if c[j][0] != c[j-1][0]:\n",
        "  #if c[j][0] > c[j-1][0]:\n",
        "    b.append(c[j][0])\n",
        "    print(c[j][0])\n",
        "    "
      ],
      "metadata": {
        "id": "MF_iL8BgKqVF",
        "outputId": "819de55c-6e8c-47b1-d80d-b9aa37b70043",
        "colab": {
          "base_uri": "https://localhost:8080/"
        }
      },
      "execution_count": 7,
      "outputs": [
        {
          "output_type": "stream",
          "name": "stdout",
          "text": [
            "6\n",
            "5\n",
            "6\n",
            "5\n",
            "8\n",
            "14\n",
            "23\n",
            "35\n",
            "49\n",
            "65\n",
            "84\n",
            "133\n",
            "131\n",
            "130\n",
            "5\n",
            "4\n",
            "5\n",
            "4\n",
            "6\n",
            "11\n",
            "19\n",
            "30\n",
            "43\n",
            "59\n",
            "78\n",
            "92\n",
            "130\n",
            "4\n",
            "6\n",
            "10\n",
            "18\n",
            "30\n",
            "44\n",
            "60\n",
            "80\n",
            "85\n",
            "5\n",
            "4\n",
            "5\n",
            "4\n",
            "6\n",
            "12\n",
            "21\n",
            "33\n",
            "47\n",
            "64\n",
            "86\n",
            "133\n",
            "132\n",
            "6\n",
            "5\n",
            "6\n",
            "5\n",
            "6\n",
            "9\n",
            "16\n",
            "25\n",
            "38\n",
            "53\n",
            "69\n",
            "89\n",
            "131\n"
          ]
        }
      ]
    },
    {
      "cell_type": "code",
      "source": [
        "b"
      ],
      "metadata": {
        "id": "psVWipnmEpbe"
      },
      "execution_count": null,
      "outputs": []
    },
    {
      "cell_type": "code",
      "source": [
        "import numpy as np\n",
        "list_of_lists_2 = []\n",
        "data = np.loadtxt(\"данные.txt\", usecols=0, skiprows=0, dtype='str')\n",
        "for each in data:\n",
        "  inner_list = [elt.strip() for elt in each.split(',')]\n",
        "  list_of_lists_2.append(inner_list)\n",
        "list_of_lists_2\n",
        "d = list_of_lists_2\n",
        "d"
      ],
      "metadata": {
        "id": "-azx2SF9VBy-"
      },
      "execution_count": null,
      "outputs": []
    },
    {
      "cell_type": "code",
      "source": [
        "pop = d\n",
        "del pop[20:92]"
      ],
      "metadata": {
        "id": "1PMkK9pynvbn"
      },
      "execution_count": 13,
      "outputs": []
    },
    {
      "cell_type": "code",
      "source": [
        "pop"
      ],
      "metadata": {
        "id": "mLX3tMPwoni-"
      },
      "execution_count": null,
      "outputs": []
    },
    {
      "cell_type": "code",
      "source": [
        "pop[2][0]"
      ],
      "metadata": {
        "colab": {
          "base_uri": "https://localhost:8080/",
          "height": 36
        },
        "id": "G3xHyihF3R5x",
        "outputId": "5ec1f2ec-f719-4092-9b0a-4db2d60a208a"
      },
      "execution_count": 15,
      "outputs": [
        {
          "output_type": "execute_result",
          "data": {
            "text/plain": [
              "'15:09:00.085'"
            ],
            "application/vnd.google.colaboratory.intrinsic+json": {
              "type": "string"
            }
          },
          "metadata": {},
          "execution_count": 15
        }
      ]
    },
    {
      "cell_type": "code",
      "source": [
        "import datetime\n",
        "loop = []\n",
        "r = pop[10][0]\n",
        "h = pop[11][0]\n",
        "a1 = datetime.datetime.strptime(r,\"%H:%M:%S.%f\")\n",
        "a2 = datetime.datetime.strptime(h,\"%H:%M:%S.%f\")\n",
        "a1"
      ],
      "metadata": {
        "colab": {
          "base_uri": "https://localhost:8080/"
        },
        "id": "dx2HHaMC1cuv",
        "outputId": "4d6198d2-111f-4cfb-c511-5d2ca960e187"
      },
      "execution_count": 16,
      "outputs": [
        {
          "output_type": "execute_result",
          "data": {
            "text/plain": [
              "datetime.datetime(1900, 1, 1, 15, 9, 0, 910000)"
            ]
          },
          "metadata": {},
          "execution_count": 16
        }
      ]
    },
    {
      "cell_type": "code",
      "source": [
        "d1 = (a2-a1)\n",
        "d1"
      ],
      "metadata": {
        "colab": {
          "base_uri": "https://localhost:8080/"
        },
        "id": "T_RPPEYb6zIs",
        "outputId": "9718221a-0fa8-4c04-d1ce-9e3cc015480a"
      },
      "execution_count": 17,
      "outputs": [
        {
          "output_type": "execute_result",
          "data": {
            "text/plain": [
              "datetime.timedelta(microseconds=94000)"
            ]
          },
          "metadata": {},
          "execution_count": 17
        }
      ]
    },
    {
      "cell_type": "code",
      "source": [
        "time = d1.total_seconds()\n",
        "time"
      ],
      "metadata": {
        "colab": {
          "base_uri": "https://localhost:8080/"
        },
        "id": "vj1O3aJz6-YI",
        "outputId": "c8bfef17-795c-42cf-9d0c-2a9b28bbd3b3"
      },
      "execution_count": 18,
      "outputs": [
        {
          "output_type": "execute_result",
          "data": {
            "text/plain": [
              "0.094"
            ]
          },
          "metadata": {},
          "execution_count": 18
        }
      ]
    },
    {
      "cell_type": "code",
      "source": [
        "bn = [int(x) for x in b]"
      ],
      "metadata": {
        "id": "yYcNjo8oE2_u"
      },
      "execution_count": 19,
      "outputs": []
    },
    {
      "cell_type": "code",
      "source": [
        "len(bn)"
      ],
      "metadata": {
        "colab": {
          "base_uri": "https://localhost:8080/"
        },
        "id": "aTfSfPEjF5Fs",
        "outputId": "0ee46640-93f1-458b-b812-5c18a656ecb9"
      },
      "execution_count": 20,
      "outputs": [
        {
          "output_type": "execute_result",
          "data": {
            "text/plain": [
              "62"
            ]
          },
          "metadata": {},
          "execution_count": 20
        }
      ]
    },
    {
      "cell_type": "code",
      "source": [
        "import numpy as np\n",
        "\n",
        "for w in range(len(bn)):\n",
        "  Sim = bn[w] - bn[w-1]\n",
        "  Sim = Sim/100\n",
        "  g=10\n",
        "  print(np.tan(20 * 3.1416 / 180 ) - (2 * Sim * 3.1416 / 180 ) / (np.power(time,2) * g * np.cos(20 * 3.1416 / 180 )))"
      ],
      "metadata": {
        "colab": {
          "base_uri": "https://localhost:8080/"
        },
        "id": "7TTe8MkxGQEQ",
        "outputId": "d9dd5627-4f8a-4c1f-80d5-8f2c4c0a40a8"
      },
      "execution_count": 21,
      "outputs": [
        {
          "output_type": "stream",
          "name": "stdout",
          "text": [
            "0.8894763337218186\n",
            "0.36817520006923304\n",
            "0.3597671172683849\n",
            "0.36817520006923304\n",
            "0.35135903446753675\n",
            "0.3387469102662645\n",
            "0.3261347860649923\n",
            "0.3135226618637201\n",
            "0.3051145790628719\n",
            "0.2967064962620237\n",
            "0.2840943720607515\n",
            "0.15797313004802926\n",
            "0.3723792414696571\n",
            "0.36817520006923304\n",
            "0.8894763337218186\n",
            "0.36817520006923304\n",
            "0.3597671172683849\n",
            "0.36817520006923304\n",
            "0.3555630758679608\n",
            "0.3429509516666886\n",
            "0.3303388274654164\n",
            "0.31772670326414415\n",
            "0.309318620463296\n",
            "0.2967064962620237\n",
            "0.2840943720607515\n",
            "0.3051145790628719\n",
            "0.20421758545269408\n",
            "0.8936803751222426\n",
            "0.3555630758679608\n",
            "0.34715499306711267\n",
            "0.3303388274654164\n",
            "0.3135226618637201\n",
            "0.3051145790628719\n",
            "0.2967064962620237\n",
            "0.2798903306603274\n",
            "0.3429509516666886\n",
            "0.700294470702735\n",
            "0.36817520006923304\n",
            "0.3597671172683849\n",
            "0.36817520006923304\n",
            "0.3555630758679608\n",
            "0.3387469102662645\n",
            "0.3261347860649923\n",
            "0.3135226618637201\n",
            "0.3051145790628719\n",
            "0.29250245486159965\n",
            "0.2714822478594793\n",
            "0.1663812128488774\n",
            "0.36817520006923304\n",
            "0.8936803751222426\n",
            "0.36817520006923304\n",
            "0.3597671172683849\n",
            "0.36817520006923304\n",
            "0.3597671172683849\n",
            "0.35135903446753675\n",
            "0.33454286886584045\n",
            "0.3261347860649923\n",
            "0.309318620463296\n",
            "0.3009105376624478\n",
            "0.2967064962620237\n",
            "0.2798903306603274\n",
            "0.18740141985099779\n"
          ]
        }
      ]
    },
    {
      "cell_type": "code",
      "source": [],
      "metadata": {
        "id": "2oRBr1rqIRme"
      },
      "execution_count": null,
      "outputs": []
    }
  ]
}