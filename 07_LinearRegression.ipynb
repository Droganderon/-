{
  "nbformat": 4,
  "nbformat_minor": 0,
  "metadata": {
    "colab": {
      "provenance": [],
      "authorship_tag": "ABX9TyOHc60vaiZWsgYsYSvS2vuc",
      "include_colab_link": true
    },
    "kernelspec": {
      "name": "python3",
      "display_name": "Python 3"
    },
    "language_info": {
      "name": "python"
    }
  },
  "cells": [
    {
      "cell_type": "markdown",
      "metadata": {
        "id": "view-in-github",
        "colab_type": "text"
      },
      "source": [
        "<a href=\"https://colab.research.google.com/github/Droganderon/Colab/blob/main/07_LinearRegression.ipynb\" target=\"_parent\"><img src=\"https://colab.research.google.com/assets/colab-badge.svg\" alt=\"Open In Colab\"/></a>"
      ]
    },
    {
      "cell_type": "markdown",
      "source": [
        "# Import libraries"
      ],
      "metadata": {
        "id": "H8w6Hi65cm3X"
      }
    },
    {
      "cell_type": "code",
      "execution_count": 176,
      "metadata": {
        "id": "nYvq3GPzTK3I"
      },
      "outputs": [],
      "source": [
        "import numpy as np\n",
        "import torch\n",
        "import torch.nn as nn\n",
        "from sklearn import datasets\n",
        "import matplotlib.pyplot as plt"
      ]
    },
    {
      "cell_type": "markdown",
      "source": [
        "# Initialization"
      ],
      "metadata": {
        "id": "m1yjK3K6cyro"
      }
    },
    {
      "cell_type": "code",
      "source": [
        "X_numpy, Y_numpy = datasets.make_regression(n_samples=100, n_features=1, noise=20,\n",
        "                                             random_state=1)\n",
        "x = torch.from_numpy(X_numpy.astype(np.float32))\n",
        "y = torch.from_numpy(Y_numpy.astype(np.float32))\n",
        "\n",
        "y = y.view(y.shape[0],1)\n",
        "\n",
        "lr = 0.01\n",
        "n = 1000"
      ],
      "metadata": {
        "id": "GRjjPqdGczcl"
      },
      "execution_count": 177,
      "outputs": []
    },
    {
      "cell_type": "markdown",
      "source": [
        "#Model"
      ],
      "metadata": {
        "id": "4Z5YHjg2eTgq"
      }
    },
    {
      "cell_type": "code",
      "source": [
        "#model = nn.Linear(n_featuresm 1)"
      ],
      "metadata": {
        "id": "1zoLjyIExLeS"
      },
      "execution_count": 178,
      "outputs": []
    },
    {
      "cell_type": "code",
      "source": [
        "class LinearRegression(nn.Module):\n",
        "\n",
        "  def __init__(self, input_dim, output_dim):\n",
        "    super(LinearRegression, self).__init__()\n",
        "    #difine layers\n",
        "    self.lin = nn.Linear(input_dim, output_dim)\n",
        "\n",
        "  def forward(self,x):\n",
        "    return self.lin(x)"
      ],
      "metadata": {
        "id": "pBdTWQ4leT1Z"
      },
      "execution_count": 179,
      "outputs": []
    },
    {
      "cell_type": "code",
      "source": [
        "model = LinearRegression(1,1)"
      ],
      "metadata": {
        "id": "1bqUnnky4pS6"
      },
      "execution_count": 180,
      "outputs": []
    },
    {
      "cell_type": "markdown",
      "source": [
        "# Loss\n",
        "Mean square error (MSE)"
      ],
      "metadata": {
        "id": "tqXUv54yezkJ"
      }
    },
    {
      "cell_type": "code",
      "source": [
        "loss = nn.MSELoss()"
      ],
      "metadata": {
        "id": "MieAR6xnez6w"
      },
      "execution_count": 181,
      "outputs": []
    },
    {
      "cell_type": "markdown",
      "source": [
        "# Optimiaer"
      ],
      "metadata": {
        "id": "u1YgYxyXfrBK"
      }
    },
    {
      "cell_type": "code",
      "source": [
        "optimizer = torch.optim.SGD(model.parameters(), lr=lr)"
      ],
      "metadata": {
        "id": "ExctLr1FfrTI"
      },
      "execution_count": 182,
      "outputs": []
    },
    {
      "cell_type": "markdown",
      "source": [
        "#Training"
      ],
      "metadata": {
        "id": "E_rZttqTgrXV"
      }
    },
    {
      "cell_type": "code",
      "source": [
        "for epoch in range(n):\n",
        "  #prediction\n",
        "  y_h = model(x)\n",
        "  #loss\n",
        "  L = loss(y,y_h)\n",
        "  #gradient\n",
        "  L.backward()\n",
        "  #upgdate\n",
        "  optimizer.step()\n",
        "  #zero_gradients\n",
        "  optimizer.zero_grad()\n",
        "\n",
        "  if epoch % 100 == 0:\n",
        "    [w,b] = model.parameters()\n",
        "    print(f'epoch {epoch + 1}: w = {w[0][0]:.3f}, loss = {L:.5f}')\n"
      ],
      "metadata": {
        "colab": {
          "base_uri": "https://localhost:8080/"
        },
        "id": "4jzPhf4jgmcn",
        "outputId": "58bfb13c-d4a6-4500-83ae-6c15ca7182b1"
      },
      "execution_count": 183,
      "outputs": [
        {
          "output_type": "stream",
          "name": "stdout",
          "text": [
            "epoch 1: w = 1.898, loss = 5668.57178\n",
            "epoch 101: w = 65.973, loss = 553.03802\n",
            "epoch 201: w = 79.062, loss = 342.12054\n",
            "epoch 301: w = 81.770, loss = 332.98938\n",
            "epoch 401: w = 82.335, loss = 332.58633\n",
            "epoch 501: w = 82.453, loss = 332.56845\n",
            "epoch 601: w = 82.478, loss = 332.56757\n",
            "epoch 701: w = 82.483, loss = 332.56757\n",
            "epoch 801: w = 82.484, loss = 332.56757\n",
            "epoch 901: w = 82.484, loss = 332.56757\n"
          ]
        }
      ]
    },
    {
      "cell_type": "code",
      "source": [
        "model(torch.tensor([5.0]))"
      ],
      "metadata": {
        "colab": {
          "base_uri": "https://localhost:8080/"
        },
        "id": "r6YQqQ2lgmFo",
        "outputId": "56081175-5da6-4b8b-8dc0-913caeca51d4"
      },
      "execution_count": 184,
      "outputs": [
        {
          "output_type": "execute_result",
          "data": {
            "text/plain": [
              "tensor([416.4753], grad_fn=<ViewBackward0>)"
            ]
          },
          "metadata": {},
          "execution_count": 184
        }
      ]
    },
    {
      "cell_type": "code",
      "source": [
        "preds = model(x).detach().numpy()"
      ],
      "metadata": {
        "id": "TULPZPkR3Nis"
      },
      "execution_count": 187,
      "outputs": []
    },
    {
      "cell_type": "markdown",
      "source": [
        "#Visualization"
      ],
      "metadata": {
        "id": "ZviaVWVJ2bQs"
      }
    },
    {
      "cell_type": "code",
      "source": [
        "plt.plot(X_numpy, Y_numpy,'ro')\n",
        "plt.plot(X_numpy, preds,'b')\n",
        "plt.title('Linear Regression')\n",
        "plt.xlabel('x')\n",
        "plt.ylabel('y')\n",
        "plt.grid('on')"
      ],
      "metadata": {
        "colab": {
          "base_uri": "https://localhost:8080/",
          "height": 472
        },
        "id": "dgJk9viP2bgO",
        "outputId": "a572ee01-6551-46cf-a220-642344a3d3c0"
      },
      "execution_count": 188,
      "outputs": [
        {
          "output_type": "display_data",
          "data": {
            "text/plain": [
              "<Figure size 640x480 with 1 Axes>"
            ],
            "image/png": "[encoded data removed]"
          },
          "metadata": {}
        }
      ]
    },
    {
      "cell_type": "code",
      "source": [],
      "metadata": {
        "id": "-W0xtuGN2pfM"
      },
      "execution_count": null,
      "outputs": []
    },
    {
      "cell_type": "code",
      "source": [],
      "metadata": {
        "id": "rPbNmrJD2pYA"
      },
      "execution_count": null,
      "outputs": []
    },
    {
      "cell_type": "markdown",
      "source": [],
      "metadata": {
        "id": "Md6pQk8F2pMP"
      }
    }
  ]
}