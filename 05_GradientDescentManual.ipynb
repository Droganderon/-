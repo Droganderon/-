{
  "nbformat": 4,
  "nbformat_minor": 0,
  "metadata": {
    "colab": {
      "provenance": [],
      "authorship_tag": "ABX9TyOs/CzDqUzNZMAxBlcCI1Nq",
      "include_colab_link": true
    },
    "kernelspec": {
      "name": "python3",
      "display_name": "Python 3"
    },
    "language_info": {
      "name": "python"
    }
  },
  "cells": [
    {
      "cell_type": "markdown",
      "metadata": {
        "id": "view-in-github",
        "colab_type": "text"
      },
      "source": [
        "<a href=\"https://colab.research.google.com/github/Droganderon/Colab/blob/main/05_GradientDescentManual.ipynb\" target=\"_parent\"><img src=\"https://colab.research.google.com/assets/colab-badge.svg\" alt=\"Open In Colab\"/></a>"
      ]
    },
    {
      "cell_type": "markdown",
      "source": [
        "# Import libraries"
      ],
      "metadata": {
        "id": "H8w6Hi65cm3X"
      }
    },
    {
      "cell_type": "code",
      "execution_count": 9,
      "metadata": {
        "id": "nYvq3GPzTK3I"
      },
      "outputs": [],
      "source": [
        "import numpy as np"
      ]
    },
    {
      "cell_type": "markdown",
      "source": [
        "# Initialization"
      ],
      "metadata": {
        "id": "m1yjK3K6cyro"
      }
    },
    {
      "cell_type": "code",
      "source": [
        "x = np.array([1, 2, 3, 4], dtype=np.float32)\n",
        "y = np.array([2, 4, 6, 8], dtype=np.float32)\n",
        "\n",
        "w = 5.0\n",
        "\n",
        "lr = 0.01\n",
        "n = 10"
      ],
      "metadata": {
        "id": "GRjjPqdGczcl"
      },
      "execution_count": 10,
      "outputs": []
    },
    {
      "cell_type": "markdown",
      "source": [
        "#Model"
      ],
      "metadata": {
        "id": "4Z5YHjg2eTgq"
      }
    },
    {
      "cell_type": "code",
      "source": [
        "def forward(w,x):\n",
        "  return w*x"
      ],
      "metadata": {
        "id": "pBdTWQ4leT1Z"
      },
      "execution_count": 11,
      "outputs": []
    },
    {
      "cell_type": "markdown",
      "source": [
        "# Loss\n",
        "Mean square error (MSE)"
      ],
      "metadata": {
        "id": "tqXUv54yezkJ"
      }
    },
    {
      "cell_type": "code",
      "source": [
        "def loss(y,y_h):\n",
        "  return ((y - y_h) ** 2).mean()"
      ],
      "metadata": {
        "id": "MieAR6xnez6w"
      },
      "execution_count": 12,
      "outputs": []
    },
    {
      "cell_type": "markdown",
      "source": [
        "# Gradient of the loss"
      ],
      "metadata": {
        "id": "u1YgYxyXfrBK"
      }
    },
    {
      "cell_type": "code",
      "source": [
        "def gradient(x,y,y_h):\n",
        "  return np.dot(-2* x, (y-y_h)).mean()"
      ],
      "metadata": {
        "id": "ExctLr1FfrTI"
      },
      "execution_count": 13,
      "outputs": []
    },
    {
      "cell_type": "markdown",
      "source": [
        "#Training"
      ],
      "metadata": {
        "id": "E_rZttqTgrXV"
      }
    },
    {
      "cell_type": "code",
      "source": [
        "for epoch in range(n):\n",
        "  #prediction\n",
        "  y_h = forward(w,x)\n",
        "  #loss\n",
        "  L = loss(y,y_h)\n",
        "  #gradient\n",
        "  dLdw = gradient(x,y,y_h)\n",
        "  #upgdate\n",
        "  w -= lr * dLdw\n",
        "\n",
        "  if epoch % 1 == 0:\n",
        "    print(f'epoch {epoch + 1}: w = {w:.3f}, loss = {L:.5f}')\n"
      ],
      "metadata": {
        "colab": {
          "base_uri": "https://localhost:8080/"
        },
        "id": "4jzPhf4jgmcn",
        "outputId": "f0c42b19-4e04-494f-d7aa-7309fee8c248"
      },
      "execution_count": 14,
      "outputs": [
        {
          "output_type": "stream",
          "name": "stdout",
          "text": [
            "epoch 1: w = 3.200, loss = 67.50000\n",
            "epoch 2: w = 2.480, loss = 10.80000\n",
            "epoch 3: w = 2.192, loss = 1.72800\n",
            "epoch 4: w = 2.077, loss = 0.27648\n",
            "epoch 5: w = 2.031, loss = 0.04424\n",
            "epoch 6: w = 2.012, loss = 0.00708\n",
            "epoch 7: w = 2.005, loss = 0.00113\n",
            "epoch 8: w = 2.002, loss = 0.00018\n",
            "epoch 9: w = 2.001, loss = 0.00003\n",
            "epoch 10: w = 2.000, loss = 0.00000\n"
          ]
        }
      ]
    },
    {
      "cell_type": "code",
      "source": [
        "forward(w,5)"
      ],
      "metadata": {
        "colab": {
          "base_uri": "https://localhost:8080/"
        },
        "id": "r6YQqQ2lgmFo",
        "outputId": "99da892a-c45b-4bea-95c8-d6f4c157817a"
      },
      "execution_count": 15,
      "outputs": [
        {
          "output_type": "execute_result",
          "data": {
            "text/plain": [
              "10.001572608947757"
            ]
          },
          "metadata": {},
          "execution_count": 15
        }
      ]
    }
  ]
}