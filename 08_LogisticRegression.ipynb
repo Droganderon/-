{
  "nbformat": 4,
  "nbformat_minor": 0,
  "metadata": {
    "colab": {
      "provenance": [],
      "authorship_tag": "ABX9TyMUt4z1oGfM+WhWLBbWbI/0",
      "include_colab_link": true
    },
    "kernelspec": {
      "name": "python3",
      "display_name": "Python 3"
    },
    "language_info": {
      "name": "python"
    }
  },
  "cells": [
    {
      "cell_type": "markdown",
      "metadata": {
        "id": "view-in-github",
        "colab_type": "text"
      },
      "source": [
        "<a href=\"https://colab.research.google.com/github/Droganderon/Colab/blob/main/08_LogisticRegression.ipynb\" target=\"_parent\"><img src=\"https://colab.research.google.com/assets/colab-badge.svg\" alt=\"Open In Colab\"/></a>"
      ]
    },
    {
      "cell_type": "markdown",
      "source": [
        "# Import libraries"
      ],
      "metadata": {
        "id": "H8w6Hi65cm3X"
      }
    },
    {
      "cell_type": "code",
      "execution_count": 37,
      "metadata": {
        "id": "nYvq3GPzTK3I"
      },
      "outputs": [],
      "source": [
        "import numpy as np\n",
        "import torch\n",
        "import torch.nn as nn\n",
        "from sklearn import datasets\n",
        "from sklearn.preprocessing import StandardScaler\n",
        "from sklearn.model_selection import train_test_split\n",
        "import matplotlib.pyplot as plt"
      ]
    },
    {
      "cell_type": "markdown",
      "source": [
        "# Initialization"
      ],
      "metadata": {
        "id": "m1yjK3K6cyro"
      }
    },
    {
      "cell_type": "code",
      "source": [
        "bc = datasets.load_breast_cancer()\n",
        "\n",
        "X, Y = bc.data, bc.target\n",
        "\n",
        "n_samples, n_features = X.shape\n",
        "\n",
        "X_train, X_test, Y_train, Y_test = train_test_split(X, Y,   test_size=0.2, random_state=1234)\n",
        "\n",
        "#scale\n",
        "sc = StandardScaler()\n",
        "X_train = sc.fit_transform(X_train)\n",
        "X_test = sc.transform(X_test)\n",
        "\n",
        "X_train = torch.from_numpy(X_train.astype(np.float32))\n",
        "X_test = torch.from_numpy(X_test.astype(np.float32))\n",
        "Y_train = torch.from_numpy(Y_train.astype(np.float32))\n",
        "Y_test = torch.from_numpy(Y_test.astype(np.float32))\n",
        "\n",
        "Y_train = Y_train.view(Y_train.shape[0], 1)\n",
        "Y_test = Y_test.view(Y_test.shape[0], 1)"
      ],
      "metadata": {
        "id": "GRjjPqdGczcl"
      },
      "execution_count": 38,
      "outputs": []
    },
    {
      "cell_type": "markdown",
      "source": [
        "#Model Prediction"
      ],
      "metadata": {
        "id": "4Z5YHjg2eTgq"
      }
    },
    {
      "cell_type": "code",
      "source": [
        "#model = nn.Linear(n_featuresm 1)"
      ],
      "metadata": {
        "id": "1zoLjyIExLeS"
      },
      "execution_count": 39,
      "outputs": []
    },
    {
      "cell_type": "code",
      "source": [
        "input_size = n_features\n",
        "output_size = 1\n",
        "\n",
        "#the first approach\n",
        "\n",
        "#the second approach\n",
        "class LogisticRegression(nn.Module):\n",
        "\n",
        "  def __init__(self, n_input_features):\n",
        "    super(LogisticRegression, self).__init__()\n",
        "    #difine layers\n",
        "    self.linear = nn.Linear(n_input_features, 1)\n",
        "\n",
        "  def forward(self, x):\n",
        "    y_predicted = torch.sigmoid(self.linear(x))\n",
        "    return y_predicted"
      ],
      "metadata": {
        "id": "pBdTWQ4leT1Z"
      },
      "execution_count": 40,
      "outputs": []
    },
    {
      "cell_type": "code",
      "source": [
        "model = LogisticRegression(input_size)"
      ],
      "metadata": {
        "id": "1bqUnnky4pS6"
      },
      "execution_count": 41,
      "outputs": []
    },
    {
      "cell_type": "code",
      "source": [
        "model"
      ],
      "metadata": {
        "colab": {
          "base_uri": "https://localhost:8080/"
        },
        "id": "OiPPng8V0GuA",
        "outputId": "01b87b48-8ba6-4d9f-d069-349b2c97a132"
      },
      "execution_count": 42,
      "outputs": [
        {
          "output_type": "execute_result",
          "data": {
            "text/plain": [
              "LogisticRegression(\n",
              "  (linear): Linear(in_features=30, out_features=1, bias=True)\n",
              ")"
            ]
          },
          "metadata": {},
          "execution_count": 42
        }
      ]
    },
    {
      "cell_type": "markdown",
      "source": [
        "# Loss that is MSE\n",
        "Mean square error (MSE)"
      ],
      "metadata": {
        "id": "tqXUv54yezkJ"
      }
    },
    {
      "cell_type": "code",
      "source": [
        "loss = nn.BCELoss()"
      ],
      "metadata": {
        "id": "MieAR6xnez6w"
      },
      "execution_count": 43,
      "outputs": []
    },
    {
      "cell_type": "markdown",
      "source": [
        "#Training"
      ],
      "metadata": {
        "id": "E_rZttqTgrXV"
      }
    },
    {
      "cell_type": "code",
      "source": [
        "lr = 0.01\n",
        "n = 1000\n",
        "\n",
        "optimizer = torch.optim.SGD(model.parameters(), lr=lr)\n",
        "\n",
        "for epoch in range(n):\n",
        "  #prediction\n",
        "  y_pred = model(X_train)\n",
        "  #loss\n",
        "  L = loss(y_pred,Y_train)\n",
        "  #gradient\n",
        "  L.backward()\n",
        "  #upgdate\n",
        "  optimizer.step()\n",
        "  #zero_gradients\n",
        "  optimizer.zero_grad()\n",
        "\n",
        "  if (epoch+1) % 100 == 0:\n",
        "#    [w,b] = model.parameters()\n",
        "#    print(f'epoch {epoch + 1}: w = {w[0][0]:.3f}, loss = {L:.5f}')\n",
        "    print(f'epoch {epoch + 1}: loss = {L.item():.4f}')\n",
        "\n",
        "with torch.no_grad():\n",
        "  y_predicted = model(X_test)\n",
        "  y_predicted_cls = y_predicted.round()\n",
        "  acc = y_predicted_cls.eq(Y_test).sum()/float(Y_test.shape[0])\n",
        "#  acc = (y_predicted_cls == Y_test).sum() / Y_test.size(0)\n",
        "  print(f'accuracy = {acc:.4f}')\n"
      ],
      "metadata": {
        "colab": {
          "base_uri": "https://localhost:8080/"
        },
        "id": "4jzPhf4jgmcn",
        "outputId": "6b92ebd8-584d-4f12-aaa8-2ca6e037399f"
      },
      "execution_count": 44,
      "outputs": [
        {
          "output_type": "stream",
          "name": "stdout",
          "text": [
            "epoch 100: loss = 0.2415\n",
            "epoch 200: loss = 0.1766\n",
            "epoch 300: loss = 0.1467\n",
            "epoch 400: loss = 0.1289\n",
            "epoch 500: loss = 0.1168\n",
            "epoch 600: loss = 0.1081\n",
            "epoch 700: loss = 0.1014\n",
            "epoch 800: loss = 0.0960\n",
            "epoch 900: loss = 0.0916\n",
            "epoch 1000: loss = 0.0880\n",
            "accuracy = 0.9386\n"
          ]
        }
      ]
    },
    {
      "cell_type": "code",
      "source": [
        "preds = model(X_test).detach().numpy()"
      ],
      "metadata": {
        "id": "TULPZPkR3Nis"
      },
      "execution_count": 45,
      "outputs": []
    },
    {
      "cell_type": "markdown",
      "source": [
        "#Visualization"
      ],
      "metadata": {
        "id": "ZviaVWVJ2bQs"
      }
    },
    {
      "cell_type": "code",
      "source": [
        "plt.plot(X_test[:,0], Y_test,'ro')\n",
        "plt.plot(X_test[:,0], y_predicted_cls,'bx')\n",
        "plt.title('Linear Regression')\n",
        "plt.xlabel('x')\n",
        "plt.ylabel('y')\n",
        "plt.grid('on')"
      ],
      "metadata": {
        "colab": {
          "base_uri": "https://localhost:8080/",
          "height": 472
        },
        "id": "dgJk9viP2bgO",
        "outputId": "6d7ed712-060d-426e-dd6c-72d97c9cf535"
      },
      "execution_count": 46,
      "outputs": [
        {
          "output_type": "display_data",
          "data": {
            "text/plain": [
              "<Figure size 640x480 with 1 Axes>"
            ],
            "image/png": "[encoded data removed]"
          },
          "metadata": {}
        }
      ]
    },
    {
      "cell_type": "markdown",
      "source": [],
      "metadata": {
        "id": "Md6pQk8F2pMP"
      }
    }
  ]
}