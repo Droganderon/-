{
  "nbformat": 4,
  "nbformat_minor": 0,
  "metadata": {
    "colab": {
      "provenance": [],
      "authorship_tag": "ABX9TyOzmhjK+vnKJO1jjEuIP2/J",
      "include_colab_link": true
    },
    "kernelspec": {
      "name": "python3",
      "display_name": "Python 3"
    },
    "language_info": {
      "name": "python"
    }
  },
  "cells": [
    {
      "cell_type": "markdown",
      "metadata": {
        "id": "view-in-github",
        "colab_type": "text"
      },
      "source": [
        "<a href=\"https://colab.research.google.com/github/Droganderon/Colab/blob/main/Fet_1.ipynb\" target=\"_parent\"><img src=\"https://colab.research.google.com/assets/colab-badge.svg\" alt=\"Open In Colab\"/></a>"
      ]
    },
    {
      "cell_type": "code",
      "execution_count": null,
      "metadata": {
        "id": "KJAChjIDKgBV"
      },
      "outputs": [],
      "source": [
        "data = [7, 10, 12, 15, 17, 20, 18, 16, 13, 10, 8, 6, 3, 0, -3, -5, -8, -10, -13, -15, -12, -10, -8, -5, -3, -1, ]"
      ]
    },
    {
      "cell_type": "code",
      "source": [
        "data = [7 ,15, 20, 13, 9, 6, 1, -5, -10, -16, -19, -14, -8, -3, 2, 7, 14, 18, 15, 10, 6, 2, -4, -8, -13, -16, -10, -4, 2, 7, 12, 15, 10, 6, 1, -5, -9, -13, -10] "
      ],
      "metadata": {
        "id": "lqr7FHGVLLE3"
      },
      "execution_count": 1,
      "outputs": []
    },
    {
      "cell_type": "code",
      "source": [
        "data_new = []\n",
        "for i in data:\n",
        "  if i < i+1 and i-1 > i:\n",
        "    data_new.append(i)"
      ],
      "metadata": {
        "id": "VcdE5OeRLyRi"
      },
      "execution_count": 6,
      "outputs": []
    },
    {
      "cell_type": "code",
      "source": [
        "data_new"
      ],
      "metadata": {
        "colab": {
          "base_uri": "https://localhost:8080/"
        },
        "id": "pPSv3dLdMwCt",
        "outputId": "8feda352-aaff-4e69-e1af-9c0de88d129d"
      },
      "execution_count": 7,
      "outputs": [
        {
          "output_type": "execute_result",
          "data": {
            "text/plain": [
              "[]"
            ]
          },
          "metadata": {},
          "execution_count": 7
        }
      ]
    }
  ]
}