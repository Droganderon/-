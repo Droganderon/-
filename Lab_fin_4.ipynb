{
  "nbformat": 4,
  "nbformat_minor": 0,
  "metadata": {
    "colab": {
      "provenance": [],
      "include_colab_link": true
    },
    "kernelspec": {
      "name": "python3",
      "display_name": "Python 3"
    },
    "language_info": {
      "name": "python"
    }
  },
  "cells": [
    {
      "cell_type": "markdown",
      "metadata": {
        "id": "view-in-github",
        "colab_type": "text"
      },
      "source": [
        "<a href=\"https://colab.research.google.com/github/Droganderon/Colab/blob/main/Lab_fin_4.ipynb\" target=\"_parent\"><img src=\"https://colab.research.google.com/assets/colab-badge.svg\" alt=\"Open In Colab\"/></a>"
      ]
    },
    {
      "cell_type": "code",
      "execution_count": 1,
      "metadata": {
        "colab": {
          "base_uri": "https://localhost:8080/",
          "height": 649
        },
        "id": "PgCl3BAw4RMW",
        "outputId": "48d6865d-3275-40b8-b7fb-daba55998f8a"
      },
      "outputs": [
        {
          "output_type": "display_data",
          "data": {
            "text/plain": [
              "array(['setosa', 'versicolor', 'virginica'], dtype='<U10')"
            ]
          },
          "metadata": {}
        },
        {
          "output_type": "display_data",
          "data": {
            "text/plain": [
              "0      0\n",
              "1      0\n",
              "2      0\n",
              "3      0\n",
              "4      0\n",
              "      ..\n",
              "145    2\n",
              "146    2\n",
              "147    2\n",
              "148    2\n",
              "149    2\n",
              "Name: target, Length: 150, dtype: int64"
            ]
          },
          "metadata": {}
        },
        {
          "output_type": "display_data",
          "data": {
            "text/plain": [
              "     sepal length (cm)  sepal width (cm)  petal length (cm)  petal width (cm)\n",
              "0                  5.1               3.5                1.4               0.2\n",
              "1                  4.9               3.0                1.4               0.2\n",
              "2                  4.7               3.2                1.3               0.2\n",
              "3                  4.6               3.1                1.5               0.2\n",
              "4                  5.0               3.6                1.4               0.2\n",
              "..                 ...               ...                ...               ...\n",
              "145                6.7               3.0                5.2               2.3\n",
              "146                6.3               2.5                5.0               1.9\n",
              "147                6.5               3.0                5.2               2.0\n",
              "148                6.2               3.4                5.4               2.3\n",
              "149                5.9               3.0                5.1               1.8\n",
              "\n",
              "[150 rows x 4 columns]"
            ],
            "text/html": [
              "\n",
              "  <div id=\"df-18e203ae-728f-44e7-87b1-629cd00c0883\">\n",
              "    <div class=\"colab-df-container\">\n",
              "      <div>\n",
              "<style scoped>\n",
              "    .dataframe tbody tr th:only-of-type {\n",
              "        vertical-align: middle;\n",
              "    }\n",
              "\n",
              "    .dataframe tbody tr th {\n",
              "        vertical-align: top;\n",
              "    }\n",
              "\n",
              "    .dataframe thead th {\n",
              "        text-align: right;\n",
              "    }\n",
              "</style>\n",
              "<table border=\"1\" class=\"dataframe\">\n",
              "  <thead>\n",
              "    <tr style=\"text-align: right;\">\n",
              "      <th></th>\n",
              "      <th>sepal length (cm)</th>\n",
              "      <th>sepal width (cm)</th>\n",
              "      <th>petal length (cm)</th>\n",
              "      <th>petal width (cm)</th>\n",
              "    </tr>\n",
              "  </thead>\n",
              "  <tbody>\n",
              "    <tr>\n",
              "      <th>0</th>\n",
              "      <td>5.1</td>\n",
              "      <td>3.5</td>\n",
              "      <td>1.4</td>\n",
              "      <td>0.2</td>\n",
              "    </tr>\n",
              "    <tr>\n",
              "      <th>1</th>\n",
              "      <td>4.9</td>\n",
              "      <td>3.0</td>\n",
              "      <td>1.4</td>\n",
              "      <td>0.2</td>\n",
              "    </tr>\n",
              "    <tr>\n",
              "      <th>2</th>\n",
              "      <td>4.7</td>\n",
              "      <td>3.2</td>\n",
              "      <td>1.3</td>\n",
              "      <td>0.2</td>\n",
              "    </tr>\n",
              "    <tr>\n",
              "      <th>3</th>\n",
              "      <td>4.6</td>\n",
              "      <td>3.1</td>\n",
              "      <td>1.5</td>\n",
              "      <td>0.2</td>\n",
              "    </tr>\n",
              "    <tr>\n",
              "      <th>4</th>\n",
              "      <td>5.0</td>\n",
              "      <td>3.6</td>\n",
              "      <td>1.4</td>\n",
              "      <td>0.2</td>\n",
              "    </tr>\n",
              "    <tr>\n",
              "      <th>...</th>\n",
              "      <td>...</td>\n",
              "      <td>...</td>\n",
              "      <td>...</td>\n",
              "      <td>...</td>\n",
              "    </tr>\n",
              "    <tr>\n",
              "      <th>145</th>\n",
              "      <td>6.7</td>\n",
              "      <td>3.0</td>\n",
              "      <td>5.2</td>\n",
              "      <td>2.3</td>\n",
              "    </tr>\n",
              "    <tr>\n",
              "      <th>146</th>\n",
              "      <td>6.3</td>\n",
              "      <td>2.5</td>\n",
              "      <td>5.0</td>\n",
              "      <td>1.9</td>\n",
              "    </tr>\n",
              "    <tr>\n",
              "      <th>147</th>\n",
              "      <td>6.5</td>\n",
              "      <td>3.0</td>\n",
              "      <td>5.2</td>\n",
              "      <td>2.0</td>\n",
              "    </tr>\n",
              "    <tr>\n",
              "      <th>148</th>\n",
              "      <td>6.2</td>\n",
              "      <td>3.4</td>\n",
              "      <td>5.4</td>\n",
              "      <td>2.3</td>\n",
              "    </tr>\n",
              "    <tr>\n",
              "      <th>149</th>\n",
              "      <td>5.9</td>\n",
              "      <td>3.0</td>\n",
              "      <td>5.1</td>\n",
              "      <td>1.8</td>\n",
              "    </tr>\n",
              "  </tbody>\n",
              "</table>\n",
              "<p>150 rows × 4 columns</p>\n",
              "</div>\n",
              "      <button class=\"colab-df-convert\" onclick=\"convertToInteractive('df-18e203ae-728f-44e7-87b1-629cd00c0883')\"\n",
              "              title=\"Convert this dataframe to an interactive table.\"\n",
              "              style=\"display:none;\">\n",
              "        \n",
              "  <svg xmlns=\"http://www.w3.org/2000/svg\" height=\"24px\"viewBox=\"0 0 24 24\"\n",
              "       width=\"24px\">\n",
              "    <path d=\"M0 0h24v24H0V0z\" fill=\"none\"/>\n",
              "    <path d=\"M18.56 5.44l.94 2.06.94-2.06 2.06-.94-2.06-.94-.94-2.06-.94 2.06-2.06.94zm-11 1L8.5 8.5l.94-2.06 2.06-.94-2.06-.94L8.5 2.5l-.94 2.06-2.06.94zm10 10l.94 2.06.94-2.06 2.06-.94-2.06-.94-.94-2.06-.94 2.06-2.06.94z\"/><path d=\"M17.41 7.96l-1.37-1.37c-.4-.4-.92-.59-1.43-.59-.52 0-1.04.2-1.43.59L10.3 9.45l-7.72 7.72c-.78.78-.78 2.05 0 2.83L4 21.41c.39.39.9.59 1.41.59.51 0 1.02-.2 1.41-.59l7.78-7.78 2.81-2.81c.8-.78.8-2.07 0-2.86zM5.41 20L4 18.59l7.72-7.72 1.47 1.35L5.41 20z\"/>\n",
              "  </svg>\n",
              "      </button>\n",
              "      \n",
              "  <style>\n",
              "    .colab-df-container {\n",
              "      display:flex;\n",
              "      flex-wrap:wrap;\n",
              "      gap: 12px;\n",
              "    }\n",
              "\n",
              "    .colab-df-convert {\n",
              "      background-color: #E8F0FE;\n",
              "      border: none;\n",
              "      border-radius: 50%;\n",
              "      cursor: pointer;\n",
              "      display: none;\n",
              "      fill: #1967D2;\n",
              "      height: 32px;\n",
              "      padding: 0 0 0 0;\n",
              "      width: 32px;\n",
              "    }\n",
              "\n",
              "    .colab-df-convert:hover {\n",
              "      background-color: #E2EBFA;\n",
              "      box-shadow: 0px 1px 2px rgba(60, 64, 67, 0.3), 0px 1px 3px 1px rgba(60, 64, 67, 0.15);\n",
              "      fill: #174EA6;\n",
              "    }\n",
              "\n",
              "    [theme=dark] .colab-df-convert {\n",
              "      background-color: #3B4455;\n",
              "      fill: #D2E3FC;\n",
              "    }\n",
              "\n",
              "    [theme=dark] .colab-df-convert:hover {\n",
              "      background-color: #434B5C;\n",
              "      box-shadow: 0px 1px 3px 1px rgba(0, 0, 0, 0.15);\n",
              "      filter: drop-shadow(0px 1px 2px rgba(0, 0, 0, 0.3));\n",
              "      fill: #FFFFFF;\n",
              "    }\n",
              "  </style>\n",
              "\n",
              "      <script>\n",
              "        const buttonEl =\n",
              "          document.querySelector('#df-18e203ae-728f-44e7-87b1-629cd00c0883 button.colab-df-convert');\n",
              "        buttonEl.style.display =\n",
              "          google.colab.kernel.accessAllowed ? 'block' : 'none';\n",
              "\n",
              "        async function convertToInteractive(key) {\n",
              "          const element = document.querySelector('#df-18e203ae-728f-44e7-87b1-629cd00c0883');\n",
              "          const dataTable =\n",
              "            await google.colab.kernel.invokeFunction('convertToInteractive',\n",
              "                                                     [key], {});\n",
              "          if (!dataTable) return;\n",
              "\n",
              "          const docLinkHtml = 'Like what you see? Visit the ' +\n",
              "            '<a target=\"_blank\" href=https://colab.research.google.com/notebooks/data_table.ipynb>data table notebook</a>'\n",
              "            + ' to learn more about interactive tables.';\n",
              "          element.innerHTML = '';\n",
              "          dataTable['output_type'] = 'display_data';\n",
              "          await google.colab.output.renderOutput(dataTable, element);\n",
              "          const docLink = document.createElement('div');\n",
              "          docLink.innerHTML = docLinkHtml;\n",
              "          element.appendChild(docLink);\n",
              "        }\n",
              "      </script>\n",
              "    </div>\n",
              "  </div>\n",
              "  "
            ]
          },
          "metadata": {}
        }
      ],
      "source": [
        "# Загрузка датасета с параметрами ирисов\n",
        "from sklearn import datasets\n",
        "from sklearn.metrics import accuracy_score\n",
        "\n",
        "dataset = datasets.load_iris(return_X_y=False, as_frame=True)\n",
        "labels = dataset['target_names']\n",
        "dataset_df = dataset['data']\n",
        "target = dataset['target']\n",
        "display(labels)\n",
        "display(target)\n",
        "display(dataset_df)"
      ]
    },
    {
      "cell_type": "code",
      "source": [
        "# Генератор списков\n",
        "colors = [\"Red\", \"Green\", \"Blue\"]\n",
        "colors_indices = [0, 1, 1, 0, 2, 0, 1, 0, 2]\n",
        "colors_list = [colors[i] for i in colors_indices]\n",
        "\n",
        "print(colors_list)"
      ],
      "metadata": {
        "colab": {
          "base_uri": "https://localhost:8080/"
        },
        "id": "83pH7MKb5mcd",
        "outputId": "6cb61b0f-63fc-485d-d5d6-1ded849a5e5b"
      },
      "execution_count": 2,
      "outputs": [
        {
          "output_type": "stream",
          "name": "stdout",
          "text": [
            "['Red', 'Green', 'Green', 'Red', 'Blue', 'Red', 'Green', 'Red', 'Blue']\n"
          ]
        }
      ]
    },
    {
      "cell_type": "code",
      "source": [
        "#Необходимо добавить в DataFrame слолбец target и label\n",
        "\n",
        "\n",
        "display(dataset_df)"
      ],
      "metadata": {
        "colab": {
          "base_uri": "https://localhost:8080/",
          "height": 424
        },
        "id": "u6xBPqKy5o4g",
        "outputId": "edb9ed6b-f9f4-4aa2-9384-468291e133af"
      },
      "execution_count": 3,
      "outputs": [
        {
          "output_type": "display_data",
          "data": {
            "text/plain": [
              "     sepal length (cm)  sepal width (cm)  petal length (cm)  petal width (cm)\n",
              "0                  5.1               3.5                1.4               0.2\n",
              "1                  4.9               3.0                1.4               0.2\n",
              "2                  4.7               3.2                1.3               0.2\n",
              "3                  4.6               3.1                1.5               0.2\n",
              "4                  5.0               3.6                1.4               0.2\n",
              "..                 ...               ...                ...               ...\n",
              "145                6.7               3.0                5.2               2.3\n",
              "146                6.3               2.5                5.0               1.9\n",
              "147                6.5               3.0                5.2               2.0\n",
              "148                6.2               3.4                5.4               2.3\n",
              "149                5.9               3.0                5.1               1.8\n",
              "\n",
              "[150 rows x 4 columns]"
            ],
            "text/html": [
              "\n",
              "  <div id=\"df-22efd059-503f-4929-aa87-196b679395d2\">\n",
              "    <div class=\"colab-df-container\">\n",
              "      <div>\n",
              "<style scoped>\n",
              "    .dataframe tbody tr th:only-of-type {\n",
              "        vertical-align: middle;\n",
              "    }\n",
              "\n",
              "    .dataframe tbody tr th {\n",
              "        vertical-align: top;\n",
              "    }\n",
              "\n",
              "    .dataframe thead th {\n",
              "        text-align: right;\n",
              "    }\n",
              "</style>\n",
              "<table border=\"1\" class=\"dataframe\">\n",
              "  <thead>\n",
              "    <tr style=\"text-align: right;\">\n",
              "      <th></th>\n",
              "      <th>sepal length (cm)</th>\n",
              "      <th>sepal width (cm)</th>\n",
              "      <th>petal length (cm)</th>\n",
              "      <th>petal width (cm)</th>\n",
              "    </tr>\n",
              "  </thead>\n",
              "  <tbody>\n",
              "    <tr>\n",
              "      <th>0</th>\n",
              "      <td>5.1</td>\n",
              "      <td>3.5</td>\n",
              "      <td>1.4</td>\n",
              "      <td>0.2</td>\n",
              "    </tr>\n",
              "    <tr>\n",
              "      <th>1</th>\n",
              "      <td>4.9</td>\n",
              "      <td>3.0</td>\n",
              "      <td>1.4</td>\n",
              "      <td>0.2</td>\n",
              "    </tr>\n",
              "    <tr>\n",
              "      <th>2</th>\n",
              "      <td>4.7</td>\n",
              "      <td>3.2</td>\n",
              "      <td>1.3</td>\n",
              "      <td>0.2</td>\n",
              "    </tr>\n",
              "    <tr>\n",
              "      <th>3</th>\n",
              "      <td>4.6</td>\n",
              "      <td>3.1</td>\n",
              "      <td>1.5</td>\n",
              "      <td>0.2</td>\n",
              "    </tr>\n",
              "    <tr>\n",
              "      <th>4</th>\n",
              "      <td>5.0</td>\n",
              "      <td>3.6</td>\n",
              "      <td>1.4</td>\n",
              "      <td>0.2</td>\n",
              "    </tr>\n",
              "    <tr>\n",
              "      <th>...</th>\n",
              "      <td>...</td>\n",
              "      <td>...</td>\n",
              "      <td>...</td>\n",
              "      <td>...</td>\n",
              "    </tr>\n",
              "    <tr>\n",
              "      <th>145</th>\n",
              "      <td>6.7</td>\n",
              "      <td>3.0</td>\n",
              "      <td>5.2</td>\n",
              "      <td>2.3</td>\n",
              "    </tr>\n",
              "    <tr>\n",
              "      <th>146</th>\n",
              "      <td>6.3</td>\n",
              "      <td>2.5</td>\n",
              "      <td>5.0</td>\n",
              "      <td>1.9</td>\n",
              "    </tr>\n",
              "    <tr>\n",
              "      <th>147</th>\n",
              "      <td>6.5</td>\n",
              "      <td>3.0</td>\n",
              "      <td>5.2</td>\n",
              "      <td>2.0</td>\n",
              "    </tr>\n",
              "    <tr>\n",
              "      <th>148</th>\n",
              "      <td>6.2</td>\n",
              "      <td>3.4</td>\n",
              "      <td>5.4</td>\n",
              "      <td>2.3</td>\n",
              "    </tr>\n",
              "    <tr>\n",
              "      <th>149</th>\n",
              "      <td>5.9</td>\n",
              "      <td>3.0</td>\n",
              "      <td>5.1</td>\n",
              "      <td>1.8</td>\n",
              "    </tr>\n",
              "  </tbody>\n",
              "</table>\n",
              "<p>150 rows × 4 columns</p>\n",
              "</div>\n",
              "      <button class=\"colab-df-convert\" onclick=\"convertToInteractive('df-22efd059-503f-4929-aa87-196b679395d2')\"\n",
              "              title=\"Convert this dataframe to an interactive table.\"\n",
              "              style=\"display:none;\">\n",
              "        \n",
              "  <svg xmlns=\"http://www.w3.org/2000/svg\" height=\"24px\"viewBox=\"0 0 24 24\"\n",
              "       width=\"24px\">\n",
              "    <path d=\"M0 0h24v24H0V0z\" fill=\"none\"/>\n",
              "    <path d=\"M18.56 5.44l.94 2.06.94-2.06 2.06-.94-2.06-.94-.94-2.06-.94 2.06-2.06.94zm-11 1L8.5 8.5l.94-2.06 2.06-.94-2.06-.94L8.5 2.5l-.94 2.06-2.06.94zm10 10l.94 2.06.94-2.06 2.06-.94-2.06-.94-.94-2.06-.94 2.06-2.06.94z\"/><path d=\"M17.41 7.96l-1.37-1.37c-.4-.4-.92-.59-1.43-.59-.52 0-1.04.2-1.43.59L10.3 9.45l-7.72 7.72c-.78.78-.78 2.05 0 2.83L4 21.41c.39.39.9.59 1.41.59.51 0 1.02-.2 1.41-.59l7.78-7.78 2.81-2.81c.8-.78.8-2.07 0-2.86zM5.41 20L4 18.59l7.72-7.72 1.47 1.35L5.41 20z\"/>\n",
              "  </svg>\n",
              "      </button>\n",
              "      \n",
              "  <style>\n",
              "    .colab-df-container {\n",
              "      display:flex;\n",
              "      flex-wrap:wrap;\n",
              "      gap: 12px;\n",
              "    }\n",
              "\n",
              "    .colab-df-convert {\n",
              "      background-color: #E8F0FE;\n",
              "      border: none;\n",
              "      border-radius: 50%;\n",
              "      cursor: pointer;\n",
              "      display: none;\n",
              "      fill: #1967D2;\n",
              "      height: 32px;\n",
              "      padding: 0 0 0 0;\n",
              "      width: 32px;\n",
              "    }\n",
              "\n",
              "    .colab-df-convert:hover {\n",
              "      background-color: #E2EBFA;\n",
              "      box-shadow: 0px 1px 2px rgba(60, 64, 67, 0.3), 0px 1px 3px 1px rgba(60, 64, 67, 0.15);\n",
              "      fill: #174EA6;\n",
              "    }\n",
              "\n",
              "    [theme=dark] .colab-df-convert {\n",
              "      background-color: #3B4455;\n",
              "      fill: #D2E3FC;\n",
              "    }\n",
              "\n",
              "    [theme=dark] .colab-df-convert:hover {\n",
              "      background-color: #434B5C;\n",
              "      box-shadow: 0px 1px 3px 1px rgba(0, 0, 0, 0.15);\n",
              "      filter: drop-shadow(0px 1px 2px rgba(0, 0, 0, 0.3));\n",
              "      fill: #FFFFFF;\n",
              "    }\n",
              "  </style>\n",
              "\n",
              "      <script>\n",
              "        const buttonEl =\n",
              "          document.querySelector('#df-22efd059-503f-4929-aa87-196b679395d2 button.colab-df-convert');\n",
              "        buttonEl.style.display =\n",
              "          google.colab.kernel.accessAllowed ? 'block' : 'none';\n",
              "\n",
              "        async function convertToInteractive(key) {\n",
              "          const element = document.querySelector('#df-22efd059-503f-4929-aa87-196b679395d2');\n",
              "          const dataTable =\n",
              "            await google.colab.kernel.invokeFunction('convertToInteractive',\n",
              "                                                     [key], {});\n",
              "          if (!dataTable) return;\n",
              "\n",
              "          const docLinkHtml = 'Like what you see? Visit the ' +\n",
              "            '<a target=\"_blank\" href=https://colab.research.google.com/notebooks/data_table.ipynb>data table notebook</a>'\n",
              "            + ' to learn more about interactive tables.';\n",
              "          element.innerHTML = '';\n",
              "          dataTable['output_type'] = 'display_data';\n",
              "          await google.colab.output.renderOutput(dataTable, element);\n",
              "          const docLink = document.createElement('div');\n",
              "          docLink.innerHTML = docLinkHtml;\n",
              "          element.appendChild(docLink);\n",
              "        }\n",
              "      </script>\n",
              "    </div>\n",
              "  </div>\n",
              "  "
            ]
          },
          "metadata": {}
        }
      ]
    },
    {
      "cell_type": "code",
      "source": [
        "# Расчет количества элементов\n",
        "import pandas as pd\n",
        "df = pd.DataFrame({\"colors_indices\": colors_indices, \"colors_list\": colors_list})\n",
        "\n",
        "color = \"Green\"\n",
        "\n",
        "print(df, '\\n')\n",
        "print(f\"Number of {color} elements: {(df['colors_list'] == color).sum()}\")"
      ],
      "metadata": {
        "colab": {
          "base_uri": "https://localhost:8080/"
        },
        "id": "uTVvsLZ_5rPg",
        "outputId": "cd6e8677-787b-4959-aca6-e300376e0cc8"
      },
      "execution_count": 4,
      "outputs": [
        {
          "output_type": "stream",
          "name": "stdout",
          "text": [
            "   colors_indices colors_list\n",
            "0               0         Red\n",
            "1               1       Green\n",
            "2               1       Green\n",
            "3               0         Red\n",
            "4               2        Blue\n",
            "5               0         Red\n",
            "6               1       Green\n",
            "7               0         Red\n",
            "8               2        Blue \n",
            "\n",
            "Number of Green elements: 3\n"
          ]
        }
      ]
    },
    {
      "cell_type": "code",
      "source": [
        "# Расчет среднего отдельных элементов столбца\n",
        "import numpy as np\n",
        "df[\"feature\"] = np.random.randn(len(df[\"colors_list\"]))\n",
        "color = \"Red\"\n",
        "\n",
        "print(df, '\\n')\n",
        "ind = (df[\"colors_list\"] == color).to_numpy()\n",
        "print(f\"Mean of {df.columns[2]} for {color}: {df.iloc[ind, 2].mean():.4}\")"
      ],
      "metadata": {
        "colab": {
          "base_uri": "https://localhost:8080/"
        },
        "id": "4ltCgMb_5t1v",
        "outputId": "26717e23-653a-4492-a0ed-de40e5035426"
      },
      "execution_count": 5,
      "outputs": [
        {
          "output_type": "stream",
          "name": "stdout",
          "text": [
            "   colors_indices colors_list   feature\n",
            "0               0         Red -1.193399\n",
            "1               1       Green  0.196514\n",
            "2               1       Green -0.033679\n",
            "3               0         Red  0.544665\n",
            "4               2        Blue -1.202202\n",
            "5               0         Red -2.260424\n",
            "6               1       Green  0.019680\n",
            "7               0         Red -1.238382\n",
            "8               2        Blue  0.418059 \n",
            "\n",
            "Mean of feature for Red: -1.037\n"
          ]
        }
      ]
    },
    {
      "cell_type": "code",
      "source": [
        "# Необходимо подсчитать количество примеров каждого класса\n",
        "\n",
        "#for i in range(dataset_df.target.max() + 1):\n",
        " #   print(f'Number of {labels[i]} examples {None}')\n",
        "\n",
        "#print('\\n')\n",
        "\n",
        "# Необходимо подсчитать количество примеров каждого класса\n",
        "\n",
        "for i in range(len(labels)):\n",
        "    for j in range(4):\n",
        "        #ind = ?\n",
        "        print(f'Mean value of {\"название признака\"} for {labels[i]} - {\"среднее значение\"}')\n",
        "    print()"
      ],
      "metadata": {
        "colab": {
          "base_uri": "https://localhost:8080/"
        },
        "id": "HSWYeO_u8HdU",
        "outputId": "bd905e68-f3c6-4aeb-98f3-6a790d9b53d2"
      },
      "execution_count": 6,
      "outputs": [
        {
          "output_type": "stream",
          "name": "stdout",
          "text": [
            "Mean value of название признака for setosa - среднее значение\n",
            "Mean value of название признака for setosa - среднее значение\n",
            "Mean value of название признака for setosa - среднее значение\n",
            "Mean value of название признака for setosa - среднее значение\n",
            "\n",
            "Mean value of название признака for versicolor - среднее значение\n",
            "Mean value of название признака for versicolor - среднее значение\n",
            "Mean value of название признака for versicolor - среднее значение\n",
            "Mean value of название признака for versicolor - среднее значение\n",
            "\n",
            "Mean value of название признака for virginica - среднее значение\n",
            "Mean value of название признака for virginica - среднее значение\n",
            "Mean value of название признака for virginica - среднее значение\n",
            "Mean value of название признака for virginica - среднее значение\n",
            "\n"
          ]
        }
      ]
    },
    {
      "cell_type": "code",
      "source": [
        "# Инициализация центроидов  \n",
        "# rand(1:k) - (случайные неповторяющиеся индексы от 1 до n)  \n",
        "# for i=1:k  \n",
        "#    μ(i) = X(rand(i))  \n",
        "# dist(k, n) – Массив расстояний от точек до кластеров. dist[i, j] показывает расстояние от i-го центроида до j-ой точки.  \n",
        "# clusters(1:n) – вектор индексов кластеров для каждого примера  \n",
        "# Основной цикл обработки  \n",
        "# for iteration=1:nax_iter  \n",
        "#     Поиск расстояния от точек до центроида  \n",
        "#     for i=1:k:  \n",
        "#         dist[i] = вектор расстояний до точек от i-го центроида, имеющий размер n \n",
        "#     Присваивание номера кластера точкам  \n",
        "#     for i=1:n:  \n",
        "#         clusters[i] = индекс минимального элемента dist[i,:]  \n",
        "#     Передвижение центроидов  \n",
        "#     for i=1:k  \n",
        "#         μ[i] = сумма координат точек i-го центроида / кол-во точек принадлежащих i-му центроиду "
      ],
      "metadata": {
        "id": "NQx-VLgM9e3h"
      },
      "execution_count": null,
      "outputs": []
    },
    {
      "cell_type": "code",
      "source": [
        "# Numpy broadcasting\n",
        "\n",
        "df[\"feature 2\"] = np.random.randn(len(df[\"colors_list\"]))\n",
        "print(df, '\\n')\n",
        "\n",
        "array = df.iloc[:, 2:].to_numpy()\n",
        "point = array[0]\n",
        "sub = array - point\n",
        "\n",
        "print(f\"array:\\n{array}\\n\")\n",
        "print(f\"point:\\n{point}\\n\")\n",
        "print(f\"sub:\\n{sub}\\n\")"
      ],
      "metadata": {
        "colab": {
          "base_uri": "https://localhost:8080/"
        },
        "id": "nRKobz3Y9f56",
        "outputId": "a92d632b-a505-4c9f-f051-8c66d71ffc3a"
      },
      "execution_count": 7,
      "outputs": [
        {
          "output_type": "stream",
          "name": "stdout",
          "text": [
            "   colors_indices colors_list   feature  feature 2\n",
            "0               0         Red -1.193399  -0.165017\n",
            "1               1       Green  0.196514   0.943610\n",
            "2               1       Green -0.033679  -0.240701\n",
            "3               0         Red  0.544665   0.292800\n",
            "4               2        Blue -1.202202   1.355521\n",
            "5               0         Red -2.260424  -1.257564\n",
            "6               1       Green  0.019680  -0.812955\n",
            "7               0         Red -1.238382   1.417278\n",
            "8               2        Blue  0.418059  -0.439718 \n",
            "\n",
            "array:\n",
            "[[-1.19339936 -0.16501742]\n",
            " [ 0.19651419  0.94361021]\n",
            " [-0.03367858 -0.24070116]\n",
            " [ 0.54466494  0.29280038]\n",
            " [-1.20220205  1.35552069]\n",
            " [-2.26042389 -1.2575639 ]\n",
            " [ 0.01967952 -0.81295467]\n",
            " [-1.2383819   1.41727779]\n",
            " [ 0.41805917 -0.43971822]]\n",
            "\n",
            "point:\n",
            "[-1.19339936 -0.16501742]\n",
            "\n",
            "sub:\n",
            "[[ 0.          0.        ]\n",
            " [ 1.38991355  1.10862763]\n",
            " [ 1.15972078 -0.07568374]\n",
            " [ 1.73806431  0.4578178 ]\n",
            " [-0.00880269  1.52053811]\n",
            " [-1.06702453 -1.09254648]\n",
            " [ 1.21307889 -0.64793725]\n",
            " [-0.04498253  1.58229521]\n",
            " [ 1.61145853 -0.2747008 ]]\n",
            "\n"
          ]
        }
      ]
    },
    {
      "cell_type": "code",
      "source": [
        "# Поэлементные операции\n",
        "\n",
        "print(f\"sub:\\n{sub}\\n\")\n",
        "print(f\"sub ** 2:\\n{sub ** 2}\\n\")"
      ],
      "metadata": {
        "colab": {
          "base_uri": "https://localhost:8080/"
        },
        "id": "cBwKsoG19jZR",
        "outputId": "812eec89-016d-4abe-b65e-a74ed0daf2cc"
      },
      "execution_count": 8,
      "outputs": [
        {
          "output_type": "stream",
          "name": "stdout",
          "text": [
            "sub:\n",
            "[[ 0.          0.        ]\n",
            " [ 1.38991355  1.10862763]\n",
            " [ 1.15972078 -0.07568374]\n",
            " [ 1.73806431  0.4578178 ]\n",
            " [-0.00880269  1.52053811]\n",
            " [-1.06702453 -1.09254648]\n",
            " [ 1.21307889 -0.64793725]\n",
            " [-0.04498253  1.58229521]\n",
            " [ 1.61145853 -0.2747008 ]]\n",
            "\n",
            "sub ** 2:\n",
            "[[0.00000000e+00 0.00000000e+00]\n",
            " [1.93185968e+00 1.22905521e+00]\n",
            " [1.34495229e+00 5.72802877e-03]\n",
            " [3.02086754e+00 2.09597141e-01]\n",
            " [7.74872969e-05 2.31203615e+00]\n",
            " [1.13854135e+00 1.19365781e+00]\n",
            " [1.47156038e+00 4.19822678e-01]\n",
            " [2.02342822e-03 2.50365812e+00]\n",
            " [2.59679861e+00 7.54605279e-02]]\n",
            "\n"
          ]
        }
      ]
    },
    {
      "cell_type": "code",
      "source": [
        "# Применение операций по отдельным осям\n",
        "\n",
        "print(f\"sub:\\n{sub}\\n\")\n",
        "print(f\"sub.sum(axis=0):\\n{sub.sum(axis=0)}\\n\")\n",
        "\n",
        "print(f\"sub:\\n{sub}\\n\")\n",
        "print(f\"sub.argmin(axis=0):\\n{sub.argmin(axis=0)}\\n\")\n",
        "\n",
        "print(f\"sub:\\n{sub}\\n\")\n",
        "print(f\"sub.argmax(axis=1):\\n{sub.argmax(axis=1)}\\n\")"
      ],
      "metadata": {
        "colab": {
          "base_uri": "https://localhost:8080/"
        },
        "id": "wLra41iv9oxT",
        "outputId": "5a1f2781-8fef-4c3c-e4a8-71c34ba1c6d1"
      },
      "execution_count": 9,
      "outputs": [
        {
          "output_type": "stream",
          "name": "stdout",
          "text": [
            "sub:\n",
            "[[ 0.          0.        ]\n",
            " [ 1.38991355  1.10862763]\n",
            " [ 1.15972078 -0.07568374]\n",
            " [ 1.73806431  0.4578178 ]\n",
            " [-0.00880269  1.52053811]\n",
            " [-1.06702453 -1.09254648]\n",
            " [ 1.21307889 -0.64793725]\n",
            " [-0.04498253  1.58229521]\n",
            " [ 1.61145853 -0.2747008 ]]\n",
            "\n",
            "sub.sum(axis=0):\n",
            "[5.99142631 2.57841048]\n",
            "\n",
            "sub:\n",
            "[[ 0.          0.        ]\n",
            " [ 1.38991355  1.10862763]\n",
            " [ 1.15972078 -0.07568374]\n",
            " [ 1.73806431  0.4578178 ]\n",
            " [-0.00880269  1.52053811]\n",
            " [-1.06702453 -1.09254648]\n",
            " [ 1.21307889 -0.64793725]\n",
            " [-0.04498253  1.58229521]\n",
            " [ 1.61145853 -0.2747008 ]]\n",
            "\n",
            "sub.argmin(axis=0):\n",
            "[5 5]\n",
            "\n",
            "sub:\n",
            "[[ 0.          0.        ]\n",
            " [ 1.38991355  1.10862763]\n",
            " [ 1.15972078 -0.07568374]\n",
            " [ 1.73806431  0.4578178 ]\n",
            " [-0.00880269  1.52053811]\n",
            " [-1.06702453 -1.09254648]\n",
            " [ 1.21307889 -0.64793725]\n",
            " [-0.04498253  1.58229521]\n",
            " [ 1.61145853 -0.2747008 ]]\n",
            "\n",
            "sub.argmax(axis=1):\n",
            "[0 0 0 0 1 0 0 1 0]\n",
            "\n"
          ]
        }
      ]
    },
    {
      "cell_type": "code",
      "source": [
        "def trainKmeans(x, k: int=2, max_iter: int=100, eps: int=1e-6, centroids=None):\n",
        "    \"\"\"Производит кластеризацию методом К-средних.\n",
        "    Возвращает массив с разметкой кластеров и центроиды\"\"\"\n",
        "    n = x.shape[0]\n",
        "    if centroids is None:\n",
        "        indices = np.random.permutation(n) # Индексы в случайном порядке\n",
        "        # centroids =  np.zeros((k,)) # Выбор центроидов\n",
        "        centroids = x[indices[:k], :]\n",
        "    clusters = np.zeros(n)\n",
        "    dist = np.zeros((k, n))\n",
        "    for iter in range(max_iter):\n",
        "        # Поиск расстояния от точек до центроида\n",
        "        for i in range(k):\n",
        "            dist[i] =(((x - centroids[i])**2).sum(axis=1))**0.5\n",
        "        # Присваивание номера кластера точкам\n",
        "        clusters = dist.argmin(axis=0)\n",
        "        centroids_old = centroids.copy()\n",
        "        #Передвижение центроидов\n",
        "        for i in range(k):\n",
        "            cluster_indices = clusters == i\n",
        "            centroids[i] = x[cluster_indices].sum(axis=0) / sum(cluster_indices)\n",
        "        #Если изменение незначительное останавливаем\n",
        "        if (centroids - centroids_old).max() < eps:\n",
        "            break\n",
        "    \n",
        "    return clusters, centroids"
      ],
      "metadata": {
        "id": "vz-JmIfL9uxL"
      },
      "execution_count": 10,
      "outputs": []
    },
    {
      "cell_type": "code",
      "source": [
        "# Применение K-means\n",
        "\n",
        "clusters, centroids = trainKmeans(dataset_df.iloc[:, :4].to_numpy(), k=3)\n",
        "\n",
        "print(f'accuracy {accuracy_score(target, clusters):.4}')"
      ],
      "metadata": {
        "colab": {
          "base_uri": "https://localhost:8080/"
        },
        "id": "PadPBntu9viw",
        "outputId": "ed67f285-5941-48f3-ab88-502995d2e9b6"
      },
      "execution_count": 22,
      "outputs": [
        {
          "output_type": "stream",
          "name": "stdout",
          "text": [
            "accuracy 0.32\n"
          ]
        }
      ]
    },
    {
      "cell_type": "code",
      "source": [
        "# График кривой\n",
        "\n",
        "from matplotlib import pyplot as plt\n",
        "\n",
        "x = np.linspace(0, 10, 50)\n",
        "y1 = np.random.randn(50)\n",
        "y2 = np.random.randn(50)\n",
        "\n",
        "fig, ax = plt.subplots(figsize=(10, 5))\n",
        "\n",
        "ax.plot(x, y1, c='r')\n",
        "ax.plot(x, y2, c='g')\n",
        "ax.set_title('Title')\n",
        "ax.set_xlabel('x label')\n",
        "ax.set_ylabel('y label')\n",
        "ax.legend(['y1', 'y2'])\n",
        "plt.show()"
      ],
      "metadata": {
        "id": "zYqqX9OP9z9g",
        "colab": {
          "base_uri": "https://localhost:8080/",
          "height": 487
        },
        "outputId": "3fffc77c-1392-4ae8-eb38-24f1a3984794"
      },
      "execution_count": 23,
      "outputs": [
        {
          "output_type": "display_data",
          "data": {
            "text/plain": [
              "<Figure size 1000x500 with 1 Axes>"
            ],
            "image/png": "[encoded data removed]"
          },
          "metadata": {}
        }
      ]
    },
    {
      "cell_type": "code",
      "source": [
        "# Вывод графиков разброса\n",
        "from matplotlib import pyplot as plt\n",
        "\n",
        "fig, axis = plt.subplots(figsize=(10, 10), ncols=2, nrows=2)\n",
        "\n",
        "for i in range(2):\n",
        "    for j in range(2):\n",
        "        x_1 = np.random.randn(50)\n",
        "        x_2 = np.random.randn(50)\n",
        "        y_1 = np.random.randn(50)\n",
        "        y_2 = np.random.randn(50)\n",
        "        axis[i, j].scatter(x_1, y_1, c='r')\n",
        "        axis[i, j].scatter(x_2, y_2, c='g')\n",
        "        axis[i, j].set_title(f'row {i}, col {j}')\n",
        "        axis[i, j].set_xlabel('x label')\n",
        "        axis[i, j].set_ylabel('y label')\n",
        "        axis[i, j].legend(['y1', 'y2'])\n",
        "\n",
        "plt.subplots_adjust(left=None, bottom=None, right=None, top=None, wspace=None, hspace=None)\n",
        "\n",
        "# left float, optional\n",
        "# The position of the left edge of the subplots, as a fraction of the figure width.\n",
        "\n",
        "# right float, optional\n",
        "# The position of the right edge of the subplots, as a fraction of the figure width.\n",
        "\n",
        "# bottom float, optional\n",
        "# The position of the bottom edge of the subplots, as a fraction of the figure height.\n",
        "\n",
        "# top float, optional\n",
        "# The position of the top edge of the subplots, as a fraction of the figure height.\n",
        "\n",
        "# wspace float, optional\n",
        "# The width of the padding between subplots, as a fraction of the average Axes width.\n",
        "\n",
        "# hspace float, optional\n",
        "# The height of the padding between subplots, as a fraction of the average Axes height.\n",
        "\n",
        "plt.show()"
      ],
      "metadata": {
        "id": "-I6EeUNl94af",
        "colab": {
          "base_uri": "https://localhost:8080/",
          "height": 872
        },
        "outputId": "7d4c2f97-b986-439f-f670-d4e88951ac29"
      },
      "execution_count": 24,
      "outputs": [
        {
          "output_type": "display_data",
          "data": {
            "text/plain": [
              "<Figure size 1000x1000 with 4 Axes>"
            ],
            "image/png": "[encoded data removed]"
          },
          "metadata": {}
        }
      ]
    },
    {
      "cell_type": "code",
      "source": [
        "# Для тестовых данных необходимо выполнить визуализацию по примеру в ячейке выше\n",
        "\n",
        "feature1 = 1\n",
        "feature2 = 2\n",
        "colors = ['r', 'g', 'b']\n",
        "\n",
        "x = dataset_df.iloc[:, :4].to_numpy()\n",
        "\n",
        "from matplotlib import pyplot as plt\n",
        "\n",
        "fig, axis = plt.subplots(figsize=(12, 7), ncols=2, nrows=1)\n",
        "#clusters, centroids\n",
        "for i in range(3) :\n",
        "    x_target = x[centroids, feature1]\n",
        "    y_target = x[clusters[i], feature2]\n",
        "    axis[0].scatter(x_target, y_target, c=colors[i])\n",
        "    \n",
        "    x_cluster = clusters==i\n",
        "    y_cluster = clusters==i\n",
        "    axis[1].scatter(x_cluster, y_cluster, c=colors[i])\n",
        "\n",
        "axis[0].set_title(f'Targets')\n",
        "axis[0].set_xlabel(f'feature {feature1}')\n",
        "axis[0].set_ylabel(f'feature {feature2}')\n",
        "axis[0].legend(labels)\n",
        "\n",
        "axis[1].set_title(f'K-means')\n",
        "axis[1].set_xlabel(f'feature {feature1}')\n",
        "axis[1].set_ylabel(f'feature {feature2}')\n",
        "axis[1].legend(['setosa','versicolor','verginica'])\n",
        "\n",
        "plt.subplots_adjust(left=None, bottom=None, right=None, top=None, wspace=None, hspace=None)\n",
        "plt.show()"
      ],
      "metadata": {
        "id": "miLyfRXa98jA",
        "colab": {
          "base_uri": "https://localhost:8080/",
          "height": 823
        },
        "outputId": "93123cc0-be1f-48a0-cbd6-cf1bd98a42e5"
      },
      "execution_count": 20,
      "outputs": [
        {
          "output_type": "error",
          "ename": "IndexError",
          "evalue": "ignored",
          "traceback": [
            "\u001b[0;31m---------------------------------------------------------------------------\u001b[0m",
            "\u001b[0;31mIndexError\u001b[0m                                Traceback (most recent call last)",
            "\u001b[0;32m<ipython-input-20-7879a1b9f739>\u001b[0m in \u001b[0;36m<cell line: 13>\u001b[0;34m()\u001b[0m\n\u001b[1;32m     12\u001b[0m \u001b[0;31m#clusters, centroids\u001b[0m\u001b[0;34m\u001b[0m\u001b[0;34m\u001b[0m\u001b[0m\n\u001b[1;32m     13\u001b[0m \u001b[0;32mfor\u001b[0m \u001b[0mi\u001b[0m \u001b[0;32min\u001b[0m \u001b[0mrange\u001b[0m\u001b[0;34m(\u001b[0m\u001b[0;36m3\u001b[0m\u001b[0;34m)\u001b[0m \u001b[0;34m:\u001b[0m\u001b[0;34m\u001b[0m\u001b[0;34m\u001b[0m\u001b[0m\n\u001b[0;32m---> 14\u001b[0;31m     \u001b[0mx_target\u001b[0m \u001b[0;34m=\u001b[0m \u001b[0mx\u001b[0m\u001b[0;34m[\u001b[0m\u001b[0mcentroids\u001b[0m\u001b[0;34m,\u001b[0m \u001b[0mfeature1\u001b[0m\u001b[0;34m]\u001b[0m\u001b[0;34m\u001b[0m\u001b[0;34m\u001b[0m\u001b[0m\n\u001b[0m\u001b[1;32m     15\u001b[0m     \u001b[0my_target\u001b[0m \u001b[0;34m=\u001b[0m \u001b[0mx\u001b[0m\u001b[0;34m[\u001b[0m\u001b[0mclusters\u001b[0m\u001b[0;34m[\u001b[0m\u001b[0mi\u001b[0m\u001b[0;34m]\u001b[0m\u001b[0;34m,\u001b[0m \u001b[0mfeature2\u001b[0m\u001b[0;34m]\u001b[0m\u001b[0;34m\u001b[0m\u001b[0;34m\u001b[0m\u001b[0m\n\u001b[1;32m     16\u001b[0m     \u001b[0maxis\u001b[0m\u001b[0;34m[\u001b[0m\u001b[0;36m0\u001b[0m\u001b[0;34m]\u001b[0m\u001b[0;34m.\u001b[0m\u001b[0mscatter\u001b[0m\u001b[0;34m(\u001b[0m\u001b[0mx_target\u001b[0m\u001b[0;34m,\u001b[0m \u001b[0my_target\u001b[0m\u001b[0;34m,\u001b[0m \u001b[0mc\u001b[0m\u001b[0;34m=\u001b[0m\u001b[0mcolors\u001b[0m\u001b[0;34m[\u001b[0m\u001b[0mi\u001b[0m\u001b[0;34m]\u001b[0m\u001b[0;34m)\u001b[0m\u001b[0;34m\u001b[0m\u001b[0;34m\u001b[0m\u001b[0m\n",
            "\u001b[0;31mIndexError\u001b[0m: arrays used as indices must be of integer (or boolean) type"
          ]
        },
        {
          "output_type": "display_data",
          "data": {
            "text/plain": [
              "<Figure size 1200x700 with 2 Axes>"
            ],
            "image/png": "[encoded data removed]"
          },
          "metadata": {}
        }
      ]
    },
    {
      "cell_type": "code",
      "source": [
        "# importing mplot3d toolkits\n",
        "from mpl_toolkits import mplot3d\n",
        "import numpy as np\n",
        "import matplotlib.pyplot as plt\n",
        " \n",
        "fig = plt.figure()\n",
        "\n",
        "x = dataset_df.iloc[:, :4].to_numpy()\n",
        " \n",
        "# syntax for 3-D projection\n",
        "axes = plt.axes(projection ='3d')\n",
        " \n",
        "# defining axes\n",
        "x = \n",
        "y = \n",
        "z = x * np.sin(25 * x)\n",
        "c = x + y\n",
        "axes.scatter(x, y, z, c = c)\n",
        " \n",
        "# syntax for plotting\n",
        "axes.set_title('3d Scatter plot geeks for geeks')\n",
        "plt.show()"
      ],
      "metadata": {
        "colab": {
          "base_uri": "https://localhost:8080/",
          "height": 130
        },
        "id": "X64lhtyb-gQ_",
        "outputId": "72ce854b-560b-4392-9fed-1d7c18de32fb"
      },
      "execution_count": 15,
      "outputs": [
        {
          "output_type": "error",
          "ename": "SyntaxError",
          "evalue": "ignored",
          "traceback": [
            "\u001b[0;36m  File \u001b[0;32m\"<ipython-input-15-5929465d742a>\"\u001b[0;36m, line \u001b[0;32m14\u001b[0m\n\u001b[0;31m    x =\u001b[0m\n\u001b[0m        ^\u001b[0m\n\u001b[0;31mSyntaxError\u001b[0m\u001b[0;31m:\u001b[0m invalid syntax\n"
          ]
        }
      ]
    }
  ]
}