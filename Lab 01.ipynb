{
  "cells": [
    {
      "cell_type": "markdown",
      "metadata": {
        "id": "view-in-github",
        "colab_type": "text"
      },
      "source": [
        "<a href=\"https://colab.research.google.com/github/Droganderon/Colab/blob/main/Lab%2001.ipynb\" target=\"_parent\"><img src=\"https://colab.research.google.com/assets/colab-badge.svg\" alt=\"Open In Colab\"/></a>"
      ]
    },
    {
      "cell_type": "markdown",
      "metadata": {
        "id": "J7PuUBLn2YHG"
      },
      "source": [
        "Лабораторная работа №1. \"Разработка классификатора методом k ближайших соседей\""
      ]
    },
    {
      "cell_type": "code",
      "execution_count": 27,
      "metadata": {
        "colab": {
          "base_uri": "https://localhost:8080/"
        },
        "id": "KbKJ5csy2YHI",
        "outputId": "853f6a39-ad56-4bb6-fb22-7148da722b0b"
      },
      "outputs": [
        {
          "output_type": "stream",
          "name": "stdout",
          "text": [
            "Drive already mounted at /content/drive; to attempt to forcibly remount, call drive.mount(\"/content/drive\", force_remount=True).\n"
          ]
        }
      ],
      "source": [
        "import pandas as pd\n",
        "import numpy as np\n",
        "from google.colab import drive\n",
        "drive.mount('/content/drive')"
      ]
    },
    {
      "cell_type": "markdown",
      "metadata": {
        "id": "gFFkV3L52YHJ"
      },
      "source": [
        "1. Загрузить данные из файла heart.csv, используя функцию read_csv() библиотеки pandas"
      ]
    },
    {
      "cell_type": "code",
      "execution_count": 28,
      "metadata": {
        "id": "QvRXdNPS2YHJ"
      },
      "outputs": [],
      "source": [
        "df = pd.read_csv('/content/drive/MyDrive/diabetes.csv')"
      ]
    },
    {
      "cell_type": "markdown",
      "metadata": {
        "id": "aZjZxR-g2YHK"
      },
      "source": [
        "2. Вывести несколько строк датафрейма. Более подробная информация о датасете https://www.kaggle.com/mathchi/diabetes-data-set"
      ]
    },
    {
      "cell_type": "code",
      "execution_count": 38,
      "metadata": {
        "colab": {
          "base_uri": "https://localhost:8080/",
          "height": 206
        },
        "id": "bZlz6Naz2YHK",
        "outputId": "34e29d53-9ffb-4962-b9e1-958cb3fde763"
      },
      "outputs": [
        {
          "output_type": "execute_result",
          "data": {
            "text/plain": [
              "   Pregnancies  Glucose  BloodPressure  SkinThickness  Insulin   BMI  \\\n",
              "0            6      148             72             35        0  33.6   \n",
              "1            1       85             66             29        0  26.6   \n",
              "2            8      183             64              0        0  23.3   \n",
              "3            1       89             66             23       94  28.1   \n",
              "4            0      137             40             35      168  43.1   \n",
              "\n",
              "   DiabetesPedigreeFunction  Age  Outcome  \n",
              "0                     0.627   50        1  \n",
              "1                     0.351   31        0  \n",
              "2                     0.672   32        1  \n",
              "3                     0.167   21        0  \n",
              "4                     2.288   33        1  "
            ],
            "text/html": [
              "\n",
              "  <div id=\"df-a280b4a5-bb52-4ec4-bc0a-cf6f997ead42\" class=\"colab-df-container\">\n",
              "    <div>\n",
              "<style scoped>\n",
              "    .dataframe tbody tr th:only-of-type {\n",
              "        vertical-align: middle;\n",
              "    }\n",
              "\n",
              "    .dataframe tbody tr th {\n",
              "        vertical-align: top;\n",
              "    }\n",
              "\n",
              "    .dataframe thead th {\n",
              "        text-align: right;\n",
              "    }\n",
              "</style>\n",
              "<table border=\"1\" class=\"dataframe\">\n",
              "  <thead>\n",
              "    <tr style=\"text-align: right;\">\n",
              "      <th></th>\n",
              "      <th>Pregnancies</th>\n",
              "      <th>Glucose</th>\n",
              "      <th>BloodPressure</th>\n",
              "      <th>SkinThickness</th>\n",
              "      <th>Insulin</th>\n",
              "      <th>BMI</th>\n",
              "      <th>DiabetesPedigreeFunction</th>\n",
              "      <th>Age</th>\n",
              "      <th>Outcome</th>\n",
              "    </tr>\n",
              "  </thead>\n",
              "  <tbody>\n",
              "    <tr>\n",
              "      <th>0</th>\n",
              "      <td>6</td>\n",
              "      <td>148</td>\n",
              "      <td>72</td>\n",
              "      <td>35</td>\n",
              "      <td>0</td>\n",
              "      <td>33.6</td>\n",
              "      <td>0.627</td>\n",
              "      <td>50</td>\n",
              "      <td>1</td>\n",
              "    </tr>\n",
              "    <tr>\n",
              "      <th>1</th>\n",
              "      <td>1</td>\n",
              "      <td>85</td>\n",
              "      <td>66</td>\n",
              "      <td>29</td>\n",
              "      <td>0</td>\n",
              "      <td>26.6</td>\n",
              "      <td>0.351</td>\n",
              "      <td>31</td>\n",
              "      <td>0</td>\n",
              "    </tr>\n",
              "    <tr>\n",
              "      <th>2</th>\n",
              "      <td>8</td>\n",
              "      <td>183</td>\n",
              "      <td>64</td>\n",
              "      <td>0</td>\n",
              "      <td>0</td>\n",
              "      <td>23.3</td>\n",
              "      <td>0.672</td>\n",
              "      <td>32</td>\n",
              "      <td>1</td>\n",
              "    </tr>\n",
              "    <tr>\n",
              "      <th>3</th>\n",
              "      <td>1</td>\n",
              "      <td>89</td>\n",
              "      <td>66</td>\n",
              "      <td>23</td>\n",
              "      <td>94</td>\n",
              "      <td>28.1</td>\n",
              "      <td>0.167</td>\n",
              "      <td>21</td>\n",
              "      <td>0</td>\n",
              "    </tr>\n",
              "    <tr>\n",
              "      <th>4</th>\n",
              "      <td>0</td>\n",
              "      <td>137</td>\n",
              "      <td>40</td>\n",
              "      <td>35</td>\n",
              "      <td>168</td>\n",
              "      <td>43.1</td>\n",
              "      <td>2.288</td>\n",
              "      <td>33</td>\n",
              "      <td>1</td>\n",
              "    </tr>\n",
              "  </tbody>\n",
              "</table>\n",
              "</div>\n",
              "    <div class=\"colab-df-buttons\">\n",
              "\n",
              "  <div class=\"colab-df-container\">\n",
              "    <button class=\"colab-df-convert\" onclick=\"convertToInteractive('df-a280b4a5-bb52-4ec4-bc0a-cf6f997ead42')\"\n",
              "            title=\"Convert this dataframe to an interactive table.\"\n",
              "            style=\"display:none;\">\n",
              "\n",
              "  <svg xmlns=\"http://www.w3.org/2000/svg\" height=\"24px\" viewBox=\"0 -960 960 960\">\n",
              "    <path d=\"M120-120v-720h720v720H120Zm60-500h600v-160H180v160Zm220 220h160v-160H400v160Zm0 220h160v-160H400v160ZM180-400h160v-160H180v160Zm440 0h160v-160H620v160ZM180-180h160v-160H180v160Zm440 0h160v-160H620v160Z\"/>\n",
              "  </svg>\n",
              "    </button>\n",
              "\n",
              "  <style>\n",
              "    .colab-df-container {\n",
              "      display:flex;\n",
              "      gap: 12px;\n",
              "    }\n",
              "\n",
              "    .colab-df-convert {\n",
              "      background-color: #E8F0FE;\n",
              "      border: none;\n",
              "      border-radius: 50%;\n",
              "      cursor: pointer;\n",
              "      display: none;\n",
              "      fill: #1967D2;\n",
              "      height: 32px;\n",
              "      padding: 0 0 0 0;\n",
              "      width: 32px;\n",
              "    }\n",
              "\n",
              "    .colab-df-convert:hover {\n",
              "      background-color: #E2EBFA;\n",
              "      box-shadow: 0px 1px 2px rgba(60, 64, 67, 0.3), 0px 1px 3px 1px rgba(60, 64, 67, 0.15);\n",
              "      fill: #174EA6;\n",
              "    }\n",
              "\n",
              "    .colab-df-buttons div {\n",
              "      margin-bottom: 4px;\n",
              "    }\n",
              "\n",
              "    [theme=dark] .colab-df-convert {\n",
              "      background-color: #3B4455;\n",
              "      fill: #D2E3FC;\n",
              "    }\n",
              "\n",
              "    [theme=dark] .colab-df-convert:hover {\n",
              "      background-color: #434B5C;\n",
              "      box-shadow: 0px 1px 3px 1px rgba(0, 0, 0, 0.15);\n",
              "      filter: drop-shadow(0px 1px 2px rgba(0, 0, 0, 0.3));\n",
              "      fill: #FFFFFF;\n",
              "    }\n",
              "  </style>\n",
              "\n",
              "    <script>\n",
              "      const buttonEl =\n",
              "        document.querySelector('#df-a280b4a5-bb52-4ec4-bc0a-cf6f997ead42 button.colab-df-convert');\n",
              "      buttonEl.style.display =\n",
              "        google.colab.kernel.accessAllowed ? 'block' : 'none';\n",
              "\n",
              "      async function convertToInteractive(key) {\n",
              "        const element = document.querySelector('#df-a280b4a5-bb52-4ec4-bc0a-cf6f997ead42');\n",
              "        const dataTable =\n",
              "          await google.colab.kernel.invokeFunction('convertToInteractive',\n",
              "                                                    [key], {});\n",
              "        if (!dataTable) return;\n",
              "\n",
              "        const docLinkHtml = 'Like what you see? Visit the ' +\n",
              "          '<a target=\"_blank\" href=https://colab.research.google.com/notebooks/data_table.ipynb>data table notebook</a>'\n",
              "          + ' to learn more about interactive tables.';\n",
              "        element.innerHTML = '';\n",
              "        dataTable['output_type'] = 'display_data';\n",
              "        await google.colab.output.renderOutput(dataTable, element);\n",
              "        const docLink = document.createElement('div');\n",
              "        docLink.innerHTML = docLinkHtml;\n",
              "        element.appendChild(docLink);\n",
              "      }\n",
              "    </script>\n",
              "  </div>\n",
              "\n",
              "\n",
              "<div id=\"df-73dee927-ff04-4fd2-9e4f-90270fea31d9\">\n",
              "  <button class=\"colab-df-quickchart\" onclick=\"quickchart('df-73dee927-ff04-4fd2-9e4f-90270fea31d9')\"\n",
              "            title=\"Suggest charts.\"\n",
              "            style=\"display:none;\">\n",
              "\n",
              "<svg xmlns=\"http://www.w3.org/2000/svg\" height=\"24px\"viewBox=\"0 0 24 24\"\n",
              "     width=\"24px\">\n",
              "    <g>\n",
              "        <path d=\"M19 3H5c-1.1 0-2 .9-2 2v14c0 1.1.9 2 2 2h14c1.1 0 2-.9 2-2V5c0-1.1-.9-2-2-2zM9 17H7v-7h2v7zm4 0h-2V7h2v10zm4 0h-2v-4h2v4z\"/>\n",
              "    </g>\n",
              "</svg>\n",
              "  </button>\n",
              "\n",
              "<style>\n",
              "  .colab-df-quickchart {\n",
              "      --bg-color: #E8F0FE;\n",
              "      --fill-color: #1967D2;\n",
              "      --hover-bg-color: #E2EBFA;\n",
              "      --hover-fill-color: #174EA6;\n",
              "      --disabled-fill-color: #AAA;\n",
              "      --disabled-bg-color: #DDD;\n",
              "  }\n",
              "\n",
              "  [theme=dark] .colab-df-quickchart {\n",
              "      --bg-color: #3B4455;\n",
              "      --fill-color: #D2E3FC;\n",
              "      --hover-bg-color: #434B5C;\n",
              "      --hover-fill-color: #FFFFFF;\n",
              "      --disabled-bg-color: #3B4455;\n",
              "      --disabled-fill-color: #666;\n",
              "  }\n",
              "\n",
              "  .colab-df-quickchart {\n",
              "    background-color: var(--bg-color);\n",
              "    border: none;\n",
              "    border-radius: 50%;\n",
              "    cursor: pointer;\n",
              "    display: none;\n",
              "    fill: var(--fill-color);\n",
              "    height: 32px;\n",
              "    padding: 0;\n",
              "    width: 32px;\n",
              "  }\n",
              "\n",
              "  .colab-df-quickchart:hover {\n",
              "    background-color: var(--hover-bg-color);\n",
              "    box-shadow: 0 1px 2px rgba(60, 64, 67, 0.3), 0 1px 3px 1px rgba(60, 64, 67, 0.15);\n",
              "    fill: var(--button-hover-fill-color);\n",
              "  }\n",
              "\n",
              "  .colab-df-quickchart-complete:disabled,\n",
              "  .colab-df-quickchart-complete:disabled:hover {\n",
              "    background-color: var(--disabled-bg-color);\n",
              "    fill: var(--disabled-fill-color);\n",
              "    box-shadow: none;\n",
              "  }\n",
              "\n",
              "  .colab-df-spinner {\n",
              "    border: 2px solid var(--fill-color);\n",
              "    border-color: transparent;\n",
              "    border-bottom-color: var(--fill-color);\n",
              "    animation:\n",
              "      spin 1s steps(1) infinite;\n",
              "  }\n",
              "\n",
              "  @keyframes spin {\n",
              "    0% {\n",
              "      border-color: transparent;\n",
              "      border-bottom-color: var(--fill-color);\n",
              "      border-left-color: var(--fill-color);\n",
              "    }\n",
              "    20% {\n",
              "      border-color: transparent;\n",
              "      border-left-color: var(--fill-color);\n",
              "      border-top-color: var(--fill-color);\n",
              "    }\n",
              "    30% {\n",
              "      border-color: transparent;\n",
              "      border-left-color: var(--fill-color);\n",
              "      border-top-color: var(--fill-color);\n",
              "      border-right-color: var(--fill-color);\n",
              "    }\n",
              "    40% {\n",
              "      border-color: transparent;\n",
              "      border-right-color: var(--fill-color);\n",
              "      border-top-color: var(--fill-color);\n",
              "    }\n",
              "    60% {\n",
              "      border-color: transparent;\n",
              "      border-right-color: var(--fill-color);\n",
              "    }\n",
              "    80% {\n",
              "      border-color: transparent;\n",
              "      border-right-color: var(--fill-color);\n",
              "      border-bottom-color: var(--fill-color);\n",
              "    }\n",
              "    90% {\n",
              "      border-color: transparent;\n",
              "      border-bottom-color: var(--fill-color);\n",
              "    }\n",
              "  }\n",
              "</style>\n",
              "\n",
              "  <script>\n",
              "    async function quickchart(key) {\n",
              "      const quickchartButtonEl =\n",
              "        document.querySelector('#' + key + ' button');\n",
              "      quickchartButtonEl.disabled = true;  // To prevent multiple clicks.\n",
              "      quickchartButtonEl.classList.add('colab-df-spinner');\n",
              "      try {\n",
              "        const charts = await google.colab.kernel.invokeFunction(\n",
              "            'suggestCharts', [key], {});\n",
              "      } catch (error) {\n",
              "        console.error('Error during call to suggestCharts:', error);\n",
              "      }\n",
              "      quickchartButtonEl.classList.remove('colab-df-spinner');\n",
              "      quickchartButtonEl.classList.add('colab-df-quickchart-complete');\n",
              "    }\n",
              "    (() => {\n",
              "      let quickchartButtonEl =\n",
              "        document.querySelector('#df-73dee927-ff04-4fd2-9e4f-90270fea31d9 button');\n",
              "      quickchartButtonEl.style.display =\n",
              "        google.colab.kernel.accessAllowed ? 'block' : 'none';\n",
              "    })();\n",
              "  </script>\n",
              "</div>\n",
              "    </div>\n",
              "  </div>\n"
            ]
          },
          "metadata": {},
          "execution_count": 38
        }
      ],
      "source": [
        "df.head()"
      ]
    },
    {
      "cell_type": "markdown",
      "metadata": {
        "id": "31fyzv0I2YHL"
      },
      "source": [
        "3. Проверить сбалансированность классов. Можно воспользоваться методом value_counts() датафрейма. Для каждого класса нужно вывести долю примеров от общего числа"
      ]
    },
    {
      "cell_type": "code",
      "source": [
        "df['Outcome'].value_counts()/df.shape[0]"
      ],
      "metadata": {
        "colab": {
          "base_uri": "https://localhost:8080/"
        },
        "id": "e3mME0sJ3_uU",
        "outputId": "a4f42bad-3972-459e-e045-81b7b168661a"
      },
      "execution_count": 40,
      "outputs": [
        {
          "output_type": "execute_result",
          "data": {
            "text/plain": [
              "0    0.651042\n",
              "1    0.348958\n",
              "Name: Outcome, dtype: float64"
            ]
          },
          "metadata": {},
          "execution_count": 40
        }
      ]
    },
    {
      "cell_type": "code",
      "execution_count": null,
      "metadata": {
        "id": "KtUqWlrA2YHL",
        "outputId": "293c5a34-6ce4-4d71-8dc4-f49c5b505d87"
      },
      "outputs": [
        {
          "name": "stdout",
          "output_type": "stream",
          "text": [
            "Class 0: 0.651\n",
            "Class 1: 0.349\n"
          ]
        }
      ],
      "source": []
    },
    {
      "cell_type": "markdown",
      "metadata": {
        "id": "iYZL3Ryc2YHL"
      },
      "source": [
        "4. Провести процедуру нормирования признаков. Вариант 1: так, чтобы все признаки принимали значения в диапазоне $[0;1]$, используя преобразование $X^{*}=(X-X_{min})/{\\Delta{X}}$ для каждого признака. Вариант 2: так, чтобы все признаки принимали значения в диапазоне $[-3\\sigma;+3\\sigma]$, используя преобразование $X^{*}=(X-\\mu_{X})/{\\sigma_{X}}$ для каждого признака.\n",
        "Процедуру обезразмеривания оформить в виде функции"
      ]
    },
    {
      "cell_type": "code",
      "source": [
        "def normalization(X):\n",
        "  return (X)/(X.abs().max())\n",
        "df_norm = df.apply(normalization)\n",
        "df_norm"
      ],
      "metadata": {
        "id": "JJJQc9-d8mdj",
        "outputId": "389247a1-ba52-41ef-d876-5003f4a17d59",
        "colab": {
          "base_uri": "https://localhost:8080/",
          "height": 424
        }
      },
      "execution_count": 32,
      "outputs": [
        {
          "output_type": "execute_result",
          "data": {
            "text/plain": [
              "     Pregnancies   Glucose  BloodPressure  SkinThickness   Insulin       BMI  \\\n",
              "0       0.352941  0.743719       0.590164       0.353535  0.000000  0.500745   \n",
              "1       0.058824  0.427136       0.540984       0.292929  0.000000  0.396423   \n",
              "2       0.470588  0.919598       0.524590       0.000000  0.000000  0.347243   \n",
              "3       0.058824  0.447236       0.540984       0.232323  0.111111  0.418778   \n",
              "4       0.000000  0.688442       0.327869       0.353535  0.198582  0.642325   \n",
              "..           ...       ...            ...            ...       ...       ...   \n",
              "763     0.588235  0.507538       0.622951       0.484848  0.212766  0.490313   \n",
              "764     0.117647  0.613065       0.573770       0.272727  0.000000  0.548435   \n",
              "765     0.294118  0.608040       0.590164       0.232323  0.132388  0.390462   \n",
              "766     0.058824  0.633166       0.491803       0.000000  0.000000  0.448584   \n",
              "767     0.058824  0.467337       0.573770       0.313131  0.000000  0.453055   \n",
              "\n",
              "     DiabetesPedigreeFunction       Age  Outcome  \n",
              "0                    0.259091  0.617284      1.0  \n",
              "1                    0.145041  0.382716      0.0  \n",
              "2                    0.277686  0.395062      1.0  \n",
              "3                    0.069008  0.259259      0.0  \n",
              "4                    0.945455  0.407407      1.0  \n",
              "..                        ...       ...      ...  \n",
              "763                  0.070661  0.777778      0.0  \n",
              "764                  0.140496  0.333333      0.0  \n",
              "765                  0.101240  0.370370      0.0  \n",
              "766                  0.144215  0.580247      1.0  \n",
              "767                  0.130165  0.283951      0.0  \n",
              "\n",
              "[768 rows x 9 columns]"
            ],
            "text/html": [
              "\n",
              "  <div id=\"df-71d92f9e-c5a2-4d6c-8e86-a2b5beaf1776\" class=\"colab-df-container\">\n",
              "    <div>\n",
              "<style scoped>\n",
              "    .dataframe tbody tr th:only-of-type {\n",
              "        vertical-align: middle;\n",
              "    }\n",
              "\n",
              "    .dataframe tbody tr th {\n",
              "        vertical-align: top;\n",
              "    }\n",
              "\n",
              "    .dataframe thead th {\n",
              "        text-align: right;\n",
              "    }\n",
              "</style>\n",
              "<table border=\"1\" class=\"dataframe\">\n",
              "  <thead>\n",
              "    <tr style=\"text-align: right;\">\n",
              "      <th></th>\n",
              "      <th>Pregnancies</th>\n",
              "      <th>Glucose</th>\n",
              "      <th>BloodPressure</th>\n",
              "      <th>SkinThickness</th>\n",
              "      <th>Insulin</th>\n",
              "      <th>BMI</th>\n",
              "      <th>DiabetesPedigreeFunction</th>\n",
              "      <th>Age</th>\n",
              "      <th>Outcome</th>\n",
              "    </tr>\n",
              "  </thead>\n",
              "  <tbody>\n",
              "    <tr>\n",
              "      <th>0</th>\n",
              "      <td>0.352941</td>\n",
              "      <td>0.743719</td>\n",
              "      <td>0.590164</td>\n",
              "      <td>0.353535</td>\n",
              "      <td>0.000000</td>\n",
              "      <td>0.500745</td>\n",
              "      <td>0.259091</td>\n",
              "      <td>0.617284</td>\n",
              "      <td>1.0</td>\n",
              "    </tr>\n",
              "    <tr>\n",
              "      <th>1</th>\n",
              "      <td>0.058824</td>\n",
              "      <td>0.427136</td>\n",
              "      <td>0.540984</td>\n",
              "      <td>0.292929</td>\n",
              "      <td>0.000000</td>\n",
              "      <td>0.396423</td>\n",
              "      <td>0.145041</td>\n",
              "      <td>0.382716</td>\n",
              "      <td>0.0</td>\n",
              "    </tr>\n",
              "    <tr>\n",
              "      <th>2</th>\n",
              "      <td>0.470588</td>\n",
              "      <td>0.919598</td>\n",
              "      <td>0.524590</td>\n",
              "      <td>0.000000</td>\n",
              "      <td>0.000000</td>\n",
              "      <td>0.347243</td>\n",
              "      <td>0.277686</td>\n",
              "      <td>0.395062</td>\n",
              "      <td>1.0</td>\n",
              "    </tr>\n",
              "    <tr>\n",
              "      <th>3</th>\n",
              "      <td>0.058824</td>\n",
              "      <td>0.447236</td>\n",
              "      <td>0.540984</td>\n",
              "      <td>0.232323</td>\n",
              "      <td>0.111111</td>\n",
              "      <td>0.418778</td>\n",
              "      <td>0.069008</td>\n",
              "      <td>0.259259</td>\n",
              "      <td>0.0</td>\n",
              "    </tr>\n",
              "    <tr>\n",
              "      <th>4</th>\n",
              "      <td>0.000000</td>\n",
              "      <td>0.688442</td>\n",
              "      <td>0.327869</td>\n",
              "      <td>0.353535</td>\n",
              "      <td>0.198582</td>\n",
              "      <td>0.642325</td>\n",
              "      <td>0.945455</td>\n",
              "      <td>0.407407</td>\n",
              "      <td>1.0</td>\n",
              "    </tr>\n",
              "    <tr>\n",
              "      <th>...</th>\n",
              "      <td>...</td>\n",
              "      <td>...</td>\n",
              "      <td>...</td>\n",
              "      <td>...</td>\n",
              "      <td>...</td>\n",
              "      <td>...</td>\n",
              "      <td>...</td>\n",
              "      <td>...</td>\n",
              "      <td>...</td>\n",
              "    </tr>\n",
              "    <tr>\n",
              "      <th>763</th>\n",
              "      <td>0.588235</td>\n",
              "      <td>0.507538</td>\n",
              "      <td>0.622951</td>\n",
              "      <td>0.484848</td>\n",
              "      <td>0.212766</td>\n",
              "      <td>0.490313</td>\n",
              "      <td>0.070661</td>\n",
              "      <td>0.777778</td>\n",
              "      <td>0.0</td>\n",
              "    </tr>\n",
              "    <tr>\n",
              "      <th>764</th>\n",
              "      <td>0.117647</td>\n",
              "      <td>0.613065</td>\n",
              "      <td>0.573770</td>\n",
              "      <td>0.272727</td>\n",
              "      <td>0.000000</td>\n",
              "      <td>0.548435</td>\n",
              "      <td>0.140496</td>\n",
              "      <td>0.333333</td>\n",
              "      <td>0.0</td>\n",
              "    </tr>\n",
              "    <tr>\n",
              "      <th>765</th>\n",
              "      <td>0.294118</td>\n",
              "      <td>0.608040</td>\n",
              "      <td>0.590164</td>\n",
              "      <td>0.232323</td>\n",
              "      <td>0.132388</td>\n",
              "      <td>0.390462</td>\n",
              "      <td>0.101240</td>\n",
              "      <td>0.370370</td>\n",
              "      <td>0.0</td>\n",
              "    </tr>\n",
              "    <tr>\n",
              "      <th>766</th>\n",
              "      <td>0.058824</td>\n",
              "      <td>0.633166</td>\n",
              "      <td>0.491803</td>\n",
              "      <td>0.000000</td>\n",
              "      <td>0.000000</td>\n",
              "      <td>0.448584</td>\n",
              "      <td>0.144215</td>\n",
              "      <td>0.580247</td>\n",
              "      <td>1.0</td>\n",
              "    </tr>\n",
              "    <tr>\n",
              "      <th>767</th>\n",
              "      <td>0.058824</td>\n",
              "      <td>0.467337</td>\n",
              "      <td>0.573770</td>\n",
              "      <td>0.313131</td>\n",
              "      <td>0.000000</td>\n",
              "      <td>0.453055</td>\n",
              "      <td>0.130165</td>\n",
              "      <td>0.283951</td>\n",
              "      <td>0.0</td>\n",
              "    </tr>\n",
              "  </tbody>\n",
              "</table>\n",
              "<p>768 rows × 9 columns</p>\n",
              "</div>\n",
              "    <div class=\"colab-df-buttons\">\n",
              "\n",
              "  <div class=\"colab-df-container\">\n",
              "    <button class=\"colab-df-convert\" onclick=\"convertToInteractive('df-71d92f9e-c5a2-4d6c-8e86-a2b5beaf1776')\"\n",
              "            title=\"Convert this dataframe to an interactive table.\"\n",
              "            style=\"display:none;\">\n",
              "\n",
              "  <svg xmlns=\"http://www.w3.org/2000/svg\" height=\"24px\" viewBox=\"0 -960 960 960\">\n",
              "    <path d=\"M120-120v-720h720v720H120Zm60-500h600v-160H180v160Zm220 220h160v-160H400v160Zm0 220h160v-160H400v160ZM180-400h160v-160H180v160Zm440 0h160v-160H620v160ZM180-180h160v-160H180v160Zm440 0h160v-160H620v160Z\"/>\n",
              "  </svg>\n",
              "    </button>\n",
              "\n",
              "  <style>\n",
              "    .colab-df-container {\n",
              "      display:flex;\n",
              "      gap: 12px;\n",
              "    }\n",
              "\n",
              "    .colab-df-convert {\n",
              "      background-color: #E8F0FE;\n",
              "      border: none;\n",
              "      border-radius: 50%;\n",
              "      cursor: pointer;\n",
              "      display: none;\n",
              "      fill: #1967D2;\n",
              "      height: 32px;\n",
              "      padding: 0 0 0 0;\n",
              "      width: 32px;\n",
              "    }\n",
              "\n",
              "    .colab-df-convert:hover {\n",
              "      background-color: #E2EBFA;\n",
              "      box-shadow: 0px 1px 2px rgba(60, 64, 67, 0.3), 0px 1px 3px 1px rgba(60, 64, 67, 0.15);\n",
              "      fill: #174EA6;\n",
              "    }\n",
              "\n",
              "    .colab-df-buttons div {\n",
              "      margin-bottom: 4px;\n",
              "    }\n",
              "\n",
              "    [theme=dark] .colab-df-convert {\n",
              "      background-color: #3B4455;\n",
              "      fill: #D2E3FC;\n",
              "    }\n",
              "\n",
              "    [theme=dark] .colab-df-convert:hover {\n",
              "      background-color: #434B5C;\n",
              "      box-shadow: 0px 1px 3px 1px rgba(0, 0, 0, 0.15);\n",
              "      filter: drop-shadow(0px 1px 2px rgba(0, 0, 0, 0.3));\n",
              "      fill: #FFFFFF;\n",
              "    }\n",
              "  </style>\n",
              "\n",
              "    <script>\n",
              "      const buttonEl =\n",
              "        document.querySelector('#df-71d92f9e-c5a2-4d6c-8e86-a2b5beaf1776 button.colab-df-convert');\n",
              "      buttonEl.style.display =\n",
              "        google.colab.kernel.accessAllowed ? 'block' : 'none';\n",
              "\n",
              "      async function convertToInteractive(key) {\n",
              "        const element = document.querySelector('#df-71d92f9e-c5a2-4d6c-8e86-a2b5beaf1776');\n",
              "        const dataTable =\n",
              "          await google.colab.kernel.invokeFunction('convertToInteractive',\n",
              "                                                    [key], {});\n",
              "        if (!dataTable) return;\n",
              "\n",
              "        const docLinkHtml = 'Like what you see? Visit the ' +\n",
              "          '<a target=\"_blank\" href=https://colab.research.google.com/notebooks/data_table.ipynb>data table notebook</a>'\n",
              "          + ' to learn more about interactive tables.';\n",
              "        element.innerHTML = '';\n",
              "        dataTable['output_type'] = 'display_data';\n",
              "        await google.colab.output.renderOutput(dataTable, element);\n",
              "        const docLink = document.createElement('div');\n",
              "        docLink.innerHTML = docLinkHtml;\n",
              "        element.appendChild(docLink);\n",
              "      }\n",
              "    </script>\n",
              "  </div>\n",
              "\n",
              "\n",
              "<div id=\"df-fa88b381-4730-4feb-9647-01511406dd88\">\n",
              "  <button class=\"colab-df-quickchart\" onclick=\"quickchart('df-fa88b381-4730-4feb-9647-01511406dd88')\"\n",
              "            title=\"Suggest charts.\"\n",
              "            style=\"display:none;\">\n",
              "\n",
              "<svg xmlns=\"http://www.w3.org/2000/svg\" height=\"24px\"viewBox=\"0 0 24 24\"\n",
              "     width=\"24px\">\n",
              "    <g>\n",
              "        <path d=\"M19 3H5c-1.1 0-2 .9-2 2v14c0 1.1.9 2 2 2h14c1.1 0 2-.9 2-2V5c0-1.1-.9-2-2-2zM9 17H7v-7h2v7zm4 0h-2V7h2v10zm4 0h-2v-4h2v4z\"/>\n",
              "    </g>\n",
              "</svg>\n",
              "  </button>\n",
              "\n",
              "<style>\n",
              "  .colab-df-quickchart {\n",
              "      --bg-color: #E8F0FE;\n",
              "      --fill-color: #1967D2;\n",
              "      --hover-bg-color: #E2EBFA;\n",
              "      --hover-fill-color: #174EA6;\n",
              "      --disabled-fill-color: #AAA;\n",
              "      --disabled-bg-color: #DDD;\n",
              "  }\n",
              "\n",
              "  [theme=dark] .colab-df-quickchart {\n",
              "      --bg-color: #3B4455;\n",
              "      --fill-color: #D2E3FC;\n",
              "      --hover-bg-color: #434B5C;\n",
              "      --hover-fill-color: #FFFFFF;\n",
              "      --disabled-bg-color: #3B4455;\n",
              "      --disabled-fill-color: #666;\n",
              "  }\n",
              "\n",
              "  .colab-df-quickchart {\n",
              "    background-color: var(--bg-color);\n",
              "    border: none;\n",
              "    border-radius: 50%;\n",
              "    cursor: pointer;\n",
              "    display: none;\n",
              "    fill: var(--fill-color);\n",
              "    height: 32px;\n",
              "    padding: 0;\n",
              "    width: 32px;\n",
              "  }\n",
              "\n",
              "  .colab-df-quickchart:hover {\n",
              "    background-color: var(--hover-bg-color);\n",
              "    box-shadow: 0 1px 2px rgba(60, 64, 67, 0.3), 0 1px 3px 1px rgba(60, 64, 67, 0.15);\n",
              "    fill: var(--button-hover-fill-color);\n",
              "  }\n",
              "\n",
              "  .colab-df-quickchart-complete:disabled,\n",
              "  .colab-df-quickchart-complete:disabled:hover {\n",
              "    background-color: var(--disabled-bg-color);\n",
              "    fill: var(--disabled-fill-color);\n",
              "    box-shadow: none;\n",
              "  }\n",
              "\n",
              "  .colab-df-spinner {\n",
              "    border: 2px solid var(--fill-color);\n",
              "    border-color: transparent;\n",
              "    border-bottom-color: var(--fill-color);\n",
              "    animation:\n",
              "      spin 1s steps(1) infinite;\n",
              "  }\n",
              "\n",
              "  @keyframes spin {\n",
              "    0% {\n",
              "      border-color: transparent;\n",
              "      border-bottom-color: var(--fill-color);\n",
              "      border-left-color: var(--fill-color);\n",
              "    }\n",
              "    20% {\n",
              "      border-color: transparent;\n",
              "      border-left-color: var(--fill-color);\n",
              "      border-top-color: var(--fill-color);\n",
              "    }\n",
              "    30% {\n",
              "      border-color: transparent;\n",
              "      border-left-color: var(--fill-color);\n",
              "      border-top-color: var(--fill-color);\n",
              "      border-right-color: var(--fill-color);\n",
              "    }\n",
              "    40% {\n",
              "      border-color: transparent;\n",
              "      border-right-color: var(--fill-color);\n",
              "      border-top-color: var(--fill-color);\n",
              "    }\n",
              "    60% {\n",
              "      border-color: transparent;\n",
              "      border-right-color: var(--fill-color);\n",
              "    }\n",
              "    80% {\n",
              "      border-color: transparent;\n",
              "      border-right-color: var(--fill-color);\n",
              "      border-bottom-color: var(--fill-color);\n",
              "    }\n",
              "    90% {\n",
              "      border-color: transparent;\n",
              "      border-bottom-color: var(--fill-color);\n",
              "    }\n",
              "  }\n",
              "</style>\n",
              "\n",
              "  <script>\n",
              "    async function quickchart(key) {\n",
              "      const quickchartButtonEl =\n",
              "        document.querySelector('#' + key + ' button');\n",
              "      quickchartButtonEl.disabled = true;  // To prevent multiple clicks.\n",
              "      quickchartButtonEl.classList.add('colab-df-spinner');\n",
              "      try {\n",
              "        const charts = await google.colab.kernel.invokeFunction(\n",
              "            'suggestCharts', [key], {});\n",
              "      } catch (error) {\n",
              "        console.error('Error during call to suggestCharts:', error);\n",
              "      }\n",
              "      quickchartButtonEl.classList.remove('colab-df-spinner');\n",
              "      quickchartButtonEl.classList.add('colab-df-quickchart-complete');\n",
              "    }\n",
              "    (() => {\n",
              "      let quickchartButtonEl =\n",
              "        document.querySelector('#df-fa88b381-4730-4feb-9647-01511406dd88 button');\n",
              "      quickchartButtonEl.style.display =\n",
              "        google.colab.kernel.accessAllowed ? 'block' : 'none';\n",
              "    })();\n",
              "  </script>\n",
              "</div>\n",
              "    </div>\n",
              "  </div>\n"
            ]
          },
          "metadata": {},
          "execution_count": 32
        }
      ]
    },
    {
      "cell_type": "code",
      "execution_count": null,
      "metadata": {
        "id": "ZMiuMmW52YHM"
      },
      "outputs": [],
      "source": [
        "def normalization(X):\n",
        ""
      ]
    },
    {
      "cell_type": "code",
      "execution_count": null,
      "metadata": {
        "id": "XIZu6_dr2YHM"
      },
      "outputs": [],
      "source": [
        "X_norm = normalization(data.drop('Outcome', axis = 1))\n",
        "Y = data.Outcome"
      ]
    },
    {
      "cell_type": "code",
      "execution_count": null,
      "metadata": {
        "id": "FrjoJpvV2YHM",
        "outputId": "fa35a9a9-fd93-4cd8-e5e2-b6ca3a800d9c"
      },
      "outputs": [
        {
          "data": {
            "text/html": [
              "<div>\n",
              "<style scoped>\n",
              "    .dataframe tbody tr th:only-of-type {\n",
              "        vertical-align: middle;\n",
              "    }\n",
              "\n",
              "    .dataframe tbody tr th {\n",
              "        vertical-align: top;\n",
              "    }\n",
              "\n",
              "    .dataframe thead th {\n",
              "        text-align: right;\n",
              "    }\n",
              "</style>\n",
              "<table border=\"1\" class=\"dataframe\">\n",
              "  <thead>\n",
              "    <tr style=\"text-align: right;\">\n",
              "      <th></th>\n",
              "      <th>Pregnancies</th>\n",
              "      <th>Glucose</th>\n",
              "      <th>BloodPressure</th>\n",
              "      <th>SkinThickness</th>\n",
              "      <th>Insulin</th>\n",
              "      <th>BMI</th>\n",
              "      <th>DiabetesPedigreeFunction</th>\n",
              "      <th>Age</th>\n",
              "    </tr>\n",
              "  </thead>\n",
              "  <tbody>\n",
              "    <tr>\n",
              "      <th>0</th>\n",
              "      <td>0.639530</td>\n",
              "      <td>0.847771</td>\n",
              "      <td>0.149543</td>\n",
              "      <td>0.906679</td>\n",
              "      <td>-0.692439</td>\n",
              "      <td>0.203880</td>\n",
              "      <td>0.468187</td>\n",
              "      <td>1.425067</td>\n",
              "    </tr>\n",
              "    <tr>\n",
              "      <th>1</th>\n",
              "      <td>-0.844335</td>\n",
              "      <td>-1.122665</td>\n",
              "      <td>-0.160441</td>\n",
              "      <td>0.530556</td>\n",
              "      <td>-0.692439</td>\n",
              "      <td>-0.683976</td>\n",
              "      <td>-0.364823</td>\n",
              "      <td>-0.190548</td>\n",
              "    </tr>\n",
              "    <tr>\n",
              "      <th>2</th>\n",
              "      <td>1.233077</td>\n",
              "      <td>1.942458</td>\n",
              "      <td>-0.263769</td>\n",
              "      <td>-1.287373</td>\n",
              "      <td>-0.692439</td>\n",
              "      <td>-1.102537</td>\n",
              "      <td>0.604004</td>\n",
              "      <td>-0.105515</td>\n",
              "    </tr>\n",
              "    <tr>\n",
              "      <th>3</th>\n",
              "      <td>-0.844335</td>\n",
              "      <td>-0.997558</td>\n",
              "      <td>-0.160441</td>\n",
              "      <td>0.154433</td>\n",
              "      <td>0.123221</td>\n",
              "      <td>-0.493721</td>\n",
              "      <td>-0.920163</td>\n",
              "      <td>-1.040871</td>\n",
              "    </tr>\n",
              "    <tr>\n",
              "      <th>4</th>\n",
              "      <td>-1.141108</td>\n",
              "      <td>0.503727</td>\n",
              "      <td>-1.503707</td>\n",
              "      <td>0.906679</td>\n",
              "      <td>0.765337</td>\n",
              "      <td>1.408828</td>\n",
              "      <td>5.481337</td>\n",
              "      <td>-0.020483</td>\n",
              "    </tr>\n",
              "    <tr>\n",
              "      <th>...</th>\n",
              "      <td>...</td>\n",
              "      <td>...</td>\n",
              "      <td>...</td>\n",
              "      <td>...</td>\n",
              "      <td>...</td>\n",
              "      <td>...</td>\n",
              "      <td>...</td>\n",
              "      <td>...</td>\n",
              "    </tr>\n",
              "    <tr>\n",
              "      <th>763</th>\n",
              "      <td>1.826623</td>\n",
              "      <td>-0.622237</td>\n",
              "      <td>0.356200</td>\n",
              "      <td>1.721613</td>\n",
              "      <td>0.869464</td>\n",
              "      <td>0.115094</td>\n",
              "      <td>-0.908090</td>\n",
              "      <td>2.530487</td>\n",
              "    </tr>\n",
              "    <tr>\n",
              "      <th>764</th>\n",
              "      <td>-0.547562</td>\n",
              "      <td>0.034575</td>\n",
              "      <td>0.046215</td>\n",
              "      <td>0.405181</td>\n",
              "      <td>-0.692439</td>\n",
              "      <td>0.609757</td>\n",
              "      <td>-0.398023</td>\n",
              "      <td>-0.530677</td>\n",
              "    </tr>\n",
              "    <tr>\n",
              "      <th>765</th>\n",
              "      <td>0.342757</td>\n",
              "      <td>0.003299</td>\n",
              "      <td>0.149543</td>\n",
              "      <td>0.154433</td>\n",
              "      <td>0.279412</td>\n",
              "      <td>-0.734711</td>\n",
              "      <td>-0.684747</td>\n",
              "      <td>-0.275580</td>\n",
              "    </tr>\n",
              "    <tr>\n",
              "      <th>766</th>\n",
              "      <td>-0.844335</td>\n",
              "      <td>0.159683</td>\n",
              "      <td>-0.470426</td>\n",
              "      <td>-1.287373</td>\n",
              "      <td>-0.692439</td>\n",
              "      <td>-0.240048</td>\n",
              "      <td>-0.370859</td>\n",
              "      <td>1.169970</td>\n",
              "    </tr>\n",
              "    <tr>\n",
              "      <th>767</th>\n",
              "      <td>-0.844335</td>\n",
              "      <td>-0.872451</td>\n",
              "      <td>0.046215</td>\n",
              "      <td>0.655930</td>\n",
              "      <td>-0.692439</td>\n",
              "      <td>-0.201997</td>\n",
              "      <td>-0.473476</td>\n",
              "      <td>-0.870806</td>\n",
              "    </tr>\n",
              "  </tbody>\n",
              "</table>\n",
              "<p>768 rows × 8 columns</p>\n",
              "</div>"
            ],
            "text/plain": [
              "     Pregnancies   Glucose  BloodPressure  SkinThickness   Insulin       BMI  \\\n",
              "0       0.639530  0.847771       0.149543       0.906679 -0.692439  0.203880   \n",
              "1      -0.844335 -1.122665      -0.160441       0.530556 -0.692439 -0.683976   \n",
              "2       1.233077  1.942458      -0.263769      -1.287373 -0.692439 -1.102537   \n",
              "3      -0.844335 -0.997558      -0.160441       0.154433  0.123221 -0.493721   \n",
              "4      -1.141108  0.503727      -1.503707       0.906679  0.765337  1.408828   \n",
              "..           ...       ...            ...            ...       ...       ...   \n",
              "763     1.826623 -0.622237       0.356200       1.721613  0.869464  0.115094   \n",
              "764    -0.547562  0.034575       0.046215       0.405181 -0.692439  0.609757   \n",
              "765     0.342757  0.003299       0.149543       0.154433  0.279412 -0.734711   \n",
              "766    -0.844335  0.159683      -0.470426      -1.287373 -0.692439 -0.240048   \n",
              "767    -0.844335 -0.872451       0.046215       0.655930 -0.692439 -0.201997   \n",
              "\n",
              "     DiabetesPedigreeFunction       Age  \n",
              "0                    0.468187  1.425067  \n",
              "1                   -0.364823 -0.190548  \n",
              "2                    0.604004 -0.105515  \n",
              "3                   -0.920163 -1.040871  \n",
              "4                    5.481337 -0.020483  \n",
              "..                        ...       ...  \n",
              "763                 -0.908090  2.530487  \n",
              "764                 -0.398023 -0.530677  \n",
              "765                 -0.684747 -0.275580  \n",
              "766                 -0.370859  1.169970  \n",
              "767                 -0.473476 -0.870806  \n",
              "\n",
              "[768 rows x 8 columns]"
            ]
          },
          "execution_count": 7,
          "metadata": {},
          "output_type": "execute_result"
        }
      ],
      "source": [
        "X_norm"
      ]
    },
    {
      "cell_type": "markdown",
      "metadata": {
        "id": "m4wMH2nl2YHM"
      },
      "source": [
        "5. Разделить выборку на три части: обучающую, валидационную и тестовую в соотношении 0.6:0.2:0.2. Выбор из исходной выборки должен осуществляться случайным образом. Можно воспользоваться функцией choice() библиотеки numpy.random. Можно также воспользоваться специальной функцией train_test_split() библиотеки sklearn.model_selection. Проверить сбалансированность классов в полученных выборках."
      ]
    },
    {
      "cell_type": "code",
      "source": [
        "from sklearn.model_selection import train_test_split\n",
        "Y = df.Outcome\n",
        "X_train, X_test, Y_train, Y_test = train_test_split(df_norm, Y, test_size=0.4, random_state=42)\n",
        "X_test, X_val, Y_test, Y_val = train_test_split(X_test, Y_test, test_size=0.5, random_state=42)\n",
        "Y_train.value_counts()/Y_train.shape[0], Y_test.value_counts()/Y_test.shape[0], Y_val.value_counts()/Y_val.shape[0]"
      ],
      "metadata": {
        "id": "aVaSvFSW9xlN",
        "outputId": "66d26141-4f5d-470d-e520-e8ff8f665fd0",
        "colab": {
          "base_uri": "https://localhost:8080/"
        }
      },
      "execution_count": 36,
      "outputs": [
        {
          "output_type": "execute_result",
          "data": {
            "text/plain": [
              "(0    0.63913\n",
              " 1    0.36087\n",
              " Name: Outcome, dtype: float64,\n",
              " 0    0.675325\n",
              " 1    0.324675\n",
              " Name: Outcome, dtype: float64,\n",
              " 0    0.662338\n",
              " 1    0.337662\n",
              " Name: Outcome, dtype: float64)"
            ]
          },
          "metadata": {},
          "execution_count": 36
        }
      ]
    },
    {
      "cell_type": "code",
      "execution_count": null,
      "metadata": {
        "id": "SKP_qLTz2YHN",
        "outputId": "0965801a-a9f2-419c-d25f-e98420468d08"
      },
      "outputs": [
        {
          "name": "stdout",
          "output_type": "stream",
          "text": [
            "Class 0: 0.643\n",
            "Class 1: 0.357\n",
            "\n",
            "Class 0: 0.675\n",
            "Class 1: 0.325\n",
            "\n",
            "Class 0: 0.649\n",
            "Class 1: 0.351\n",
            "\n"
          ]
        }
      ],
      "source": [
        "from sklearn.model_selection import train_test_split\n",
        "\n",
        ""
      ]
    },
    {
      "cell_type": "markdown",
      "metadata": {
        "id": "Jfnt2SKU2YHN"
      },
      "source": [
        "6. Написать функцию knn_classification(X,y,X_new,k), реализующую метод k-ближайших соседей для задачи классификации. Параметрами функции являются: X,y - обучающая выборка, X_new - массив (или датафрейм) признаков для новых объектов, k - гиперпараметр метода (кол-во ближайших соседей, в функции предусмотреть возможность задания k по умолчанию). Функция должна возвращать прогноз для новых объектов в виде массива классов (y_pred)."
      ]
    },
    {
      "cell_type": "code",
      "source": [],
      "metadata": {
        "id": "Pz6BB3SXCocz"
      },
      "execution_count": null,
      "outputs": []
    },
    {
      "cell_type": "code",
      "execution_count": null,
      "metadata": {
        "id": "9ocDucXt2YHN"
      },
      "outputs": [],
      "source": [
        "def knn(X, Y, X_new, k):\n",
        "\n",
        "    return Y_pred\n"
      ]
    },
    {
      "cell_type": "markdown",
      "metadata": {
        "id": "XjC0VJl22YHN"
      },
      "source": [
        "7. Написать функцию для расчета метрик качества модели классификации. Функция должна возвращать значения оценок Precision, Recall, F1-score."
      ]
    },
    {
      "cell_type": "code",
      "execution_count": null,
      "metadata": {
        "id": "LJlcI1em2YHN"
      },
      "outputs": [],
      "source": [
        "def fscore(y, y_pred):\n",
        "\n",
        "    return prec, rec, f1_score, accuracy"
      ]
    },
    {
      "cell_type": "markdown",
      "metadata": {
        "id": "TGk_yjLR2YHN"
      },
      "source": [
        "8. Выполнить предсказания классов для валидационной выборки для произвольного гиперпараметра k, рассчитать и вывести метрики Precision, Recall, F1-score и Accuracy."
      ]
    },
    {
      "cell_type": "code",
      "execution_count": null,
      "metadata": {
        "id": "INm7Tyk22YHN",
        "outputId": "121e1cb8-e302-4797-9c61-d3e88eda4ba5"
      },
      "outputs": [
        {
          "name": "stdout",
          "output_type": "stream",
          "text": [
            "prec: 0.792, recall: 0.380, f1_score: 0.514, accuracy: 0.766\n"
          ]
        }
      ],
      "source": [
        "Y_val_pred = knn(X_train, Y_train, X_val, k=2)\n",
        "prec, recall, f1_score, accuracy =\n"
      ]
    },
    {
      "cell_type": "markdown",
      "metadata": {
        "id": "6B7gNkhP2YHO"
      },
      "source": [
        "9. Задать массив или список значений гиперпараметра k (например, от 2 до 10 с шагом 2). Провести процедуру валидации, т.е. подбора оптимального значения k по критерию максимума точности. Для оценки точности использовать F1-score метрику. Выводить для каждого значения k полученное значение f1 score. В конце вывести лучший результат."
      ]
    },
    {
      "cell_type": "code",
      "execution_count": null,
      "metadata": {
        "id": "AW-Pyipy2YHO",
        "outputId": "8e35801c-ea59-428b-e48c-6c3d2d9f2337"
      },
      "outputs": [
        {
          "name": "stdout",
          "output_type": "stream",
          "text": [
            "k: 2, f1 score: 0.5135135135135135\n",
            "k: 4, f1 score: 0.5066666666666666\n",
            "k: 6, f1 score: 0.5609756097560976\n",
            "k: 8, f1 score: 0.5121951219512195\n",
            "\n",
            "Best k: 6, best val f1 score: 0.5609756097560976\n"
          ]
        }
      ],
      "source": [
        "K = [i for i in range(2,10,2)]\n",
        "\n",
        "for k in K:\n"
      ]
    },
    {
      "cell_type": "markdown",
      "metadata": {
        "id": "o4ZY_djb2YHO"
      },
      "source": [
        "10. Рассчитать оценки точности (accuracy, precision, recal, F1-score) классификатора для тестовой выборки с оптимальным значением гиперпараметра k. Сделать вывод о качестве классификатора."
      ]
    },
    {
      "cell_type": "code",
      "execution_count": null,
      "metadata": {
        "id": "yPdZ9G7t2YHO",
        "outputId": "2700ed31-daad-40ef-8e75-b349bdd49474"
      },
      "outputs": [
        {
          "name": "stdout",
          "output_type": "stream",
          "text": [
            "prec: 0.683, recall: 0.519, f1_score: 0.589, accuracy: 0.747\n"
          ]
        }
      ],
      "source": []
    },
    {
      "cell_type": "markdown",
      "metadata": {
        "id": "vMr30uLR2YHO"
      },
      "source": [
        "11. Сравнить результаты с функцией KNeighborsClassifier из библиотеки sklearn. Если получился другой результат подумать в чем дело."
      ]
    },
    {
      "cell_type": "code",
      "execution_count": null,
      "metadata": {
        "id": "gsXca0iJ2YHO",
        "outputId": "55881d64-6eec-44f6-f091-aeca930f150d"
      },
      "outputs": [
        {
          "name": "stdout",
          "output_type": "stream",
          "text": [
            "prec: 0.683, recall: 0.519, f1_score: 0.589, accuracy: 0.747\n"
          ]
        }
      ],
      "source": [
        "from sklearn.neighbors import KNeighborsClassifier\n",
        "\n",
        "clf = KNeighborsClassifier(n_neighbors=best_k, metric='euclidean')\n",
        "clf.fit(X_train, Y_train)\n",
        "Y_test_pred = clf.predict(X_test)\n"
      ]
    }
  ],
  "metadata": {
    "kernelspec": {
      "display_name": "Python 3",
      "language": "python",
      "name": "python3"
    },
    "language_info": {
      "codemirror_mode": {
        "name": "ipython",
        "version": 3
      },
      "file_extension": ".py",
      "mimetype": "text/x-python",
      "name": "python",
      "nbconvert_exporter": "python",
      "pygments_lexer": "ipython3",
      "version": "3.8.8"
    },
    "varInspector": {
      "cols": {
        "lenName": 16,
        "lenType": 16,
        "lenVar": 40
      },
      "kernels_config": {
        "python": {
          "delete_cmd_postfix": "",
          "delete_cmd_prefix": "del ",
          "library": "var_list.py",
          "varRefreshCmd": "print(var_dic_list())"
        },
        "r": {
          "delete_cmd_postfix": ") ",
          "delete_cmd_prefix": "rm(",
          "library": "var_list.r",
          "varRefreshCmd": "cat(var_dic_list()) "
        }
      },
      "types_to_exclude": [
        "module",
        "function",
        "builtin_function_or_method",
        "instance",
        "_Feature"
      ],
      "window_display": false
    },
    "colab": {
      "provenance": [],
      "toc_visible": true,
      "include_colab_link": true
    }
  },
  "nbformat": 4,
  "nbformat_minor": 0
}